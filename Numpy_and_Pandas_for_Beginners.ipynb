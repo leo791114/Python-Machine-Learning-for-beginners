{
 "cells": [
  {
   "cell_type": "markdown",
   "metadata": {},
   "source": [
    " <h1 style=\"color: red\">Numpy for Beginners</h1>"
   ]
  },
  {
   "cell_type": "code",
   "execution_count": 32,
   "metadata": {
    "collapsed": true
   },
   "outputs": [],
   "source": [
    "import numpy as np  #Import numpy"
   ]
  },
  {
   "cell_type": "code",
   "execution_count": 33,
   "metadata": {
    "collapsed": true
   },
   "outputs": [],
   "source": [
    "array = np.array([[1,2,3],[4,5,6]])  #Create a two-dimensional array"
   ]
  },
  {
   "cell_type": "code",
   "execution_count": 34,
   "metadata": {},
   "outputs": [
    {
     "name": "stdout",
     "output_type": "stream",
     "text": [
      "[[1 2 3]\n",
      " [4 5 6]]\n",
      "Dim 2\n",
      "Shape (2, 3)\n",
      "Size 6\n"
     ]
    }
   ],
   "source": [
    "print(array)\n",
    "print('Dim', array.ndim)\n",
    "print('Shape', array.shape)\n",
    "print('Size', array.size)"
   ]
  },
  {
   "cell_type": "code",
   "execution_count": 35,
   "metadata": {},
   "outputs": [
    {
     "name": "stdout",
     "output_type": "stream",
     "text": [
      "[1 2 3 4 5]\n",
      "[[ 2  4  6]\n",
      " [ 8 10 12]]\n",
      "\n",
      "\n",
      "[ 0.  0.  0.  0.  0.  0.]\n",
      "float64\n",
      "\n",
      "\n",
      "[1 1 1 1 1 1]\n",
      "int32\n",
      "\n",
      "\n",
      "[[ 0.84093311  0.00798526  0.29544894]\n",
      " [ 0.79051128  0.45105444  0.63603064]]\n",
      "\n",
      "\n",
      "[1 2 3 4 5]\n",
      "[[ 2  4  6]\n",
      " [ 8 10 12]]\n",
      "[ 0.  0.  0.  0.  0.  0.]\n",
      "[1 1 1 1 1 1]\n",
      "[[ 0.84093311  0.00798526  0.29544894]\n",
      " [ 0.79051128  0.45105444  0.63603064]]\n"
     ]
    }
   ],
   "source": [
    "a = np.array([1,2,3,4,5])\n",
    "b = np.arange(2,14,2).reshape((2,3))#Create an array from two to twelve, not included, with step of two\n",
    "                                    #.reshape() reshape the array for 1*6 to 2*3\n",
    "print(a)\n",
    "print(b)\n",
    "c = np.zeros(6) #Create an array with six floating 0.\n",
    "print('\\n')\n",
    "print(c)\n",
    "print(c.dtype)\n",
    "d = np.ones(6, dtype = np.int) #Create an array with six integer 1.\n",
    "print('\\n')\n",
    "print(d)\n",
    "print(d.dtype)\n",
    "e = np.random.random((2,3)) #Create an 2*3 array with elements that are randomly picked between 0 to 1.\n",
    "print('\\n')\n",
    "print(e)\n",
    "#f = b-a\n",
    "print('\\n')\n",
    "# print(f)\n",
    "\n",
    "print(a,b,c,d,e,sep='\\n')\n",
    "# print(a,b,c,d,e,f, sep='\\n')\n",
    "#print(f<-9)\n",
    "#print(f==5)"
   ]
  },
  {
   "cell_type": "code",
   "execution_count": 36,
   "metadata": {},
   "outputs": [
    {
     "name": "stdout",
     "output_type": "stream",
     "text": [
      "[[ 3  6  9]\n",
      " [12 15 18]]\n",
      "63\n",
      "[18 45]\n",
      "[15 21 27]\n"
     ]
    }
   ],
   "source": [
    "a = np.array([[3,6,9],[12,15,18]])\n",
    "print(a)\n",
    "print(np.sum(a))\n",
    "print(np.sum(a, axis=1)) #add all elements on the basis of row\n",
    "print(np.sum(a, axis=0)) #add all elements on the basis of column"
   ]
  },
  {
   "cell_type": "code",
   "execution_count": 37,
   "metadata": {},
   "outputs": [
    {
     "name": "stdout",
     "output_type": "stream",
     "text": [
      "[[ 2  4  6]\n",
      " [ 8 10 12]]\n",
      "[[0 1 2]\n",
      " [3 4 5]]\n",
      "[[2 3 4]\n",
      " [5 6 7]]\n",
      "[[ 0  4 12]\n",
      " [24 40 60]]\n",
      "\n",
      "\n",
      "[[0 3]\n",
      " [1 4]\n",
      " [2 5]]\n",
      "[[ 16  52]\n",
      " [ 34 124]]\n"
     ]
    }
   ],
   "source": [
    "a = np.array([[2,4,6],[8,10,12]])\n",
    "b = np.arange(6).reshape((2,3))\n",
    "print(a,b,a-b,a*b, sep='\\n') #* is normal multiplication\n",
    "print('\\n')\n",
    "print(b.T) #transpose\n",
    "print(np.dot(a,b.T)) # This is array multiplication"
   ]
  },
  {
   "cell_type": "code",
   "execution_count": 38,
   "metadata": {},
   "outputs": [
    {
     "name": "stdout",
     "output_type": "stream",
     "text": [
      "[[1 1 1]\n",
      " [2 2 2]]\n",
      "[1 1 1 2 2 2]\n"
     ]
    }
   ],
   "source": [
    "#Merge\n",
    "A = np.array([1,1,1])\n",
    "B = np.array([2,2,2])\n",
    "print(np.vstack((A,B))) #vertical merge\n",
    "print(np.hstack((A,B))) #horizontal merge"
   ]
  },
  {
   "cell_type": "code",
   "execution_count": 39,
   "metadata": {
    "scrolled": true
   },
   "outputs": [
    {
     "name": "stdout",
     "output_type": "stream",
     "text": [
      "[[ 0  1  2  3]\n",
      " [ 4  5  6  7]\n",
      " [ 8  9 10 11]]\n",
      "[array([[0, 1, 2, 3]]), array([[4, 5, 6, 7]]), array([[ 8,  9, 10, 11]])]\n",
      "[array([[0, 1],\n",
      "       [4, 5],\n",
      "       [8, 9]]), array([[ 2,  3],\n",
      "       [ 6,  7],\n",
      "       [10, 11]])]\n"
     ]
    }
   ],
   "source": [
    "#Split\n",
    "a = np.arange(12).reshape((3,4))\n",
    "print(a)\n",
    "print(np.vsplit(a,3)) #Vertically split the array into 3 new arrays\n",
    "print(np.hsplit(a,2)) #Horizontally split the array into 2 new arrays"
   ]
  },
  {
   "cell_type": "markdown",
   "metadata": {},
   "source": [
    "<h1 style=\"color: red\">Pandas for Beginners</h1>"
   ]
  },
  {
   "cell_type": "markdown",
   "metadata": {},
   "source": [
    "<h3 style=\"color:blue\">Series</h3>"
   ]
  },
  {
   "cell_type": "code",
   "execution_count": 40,
   "metadata": {},
   "outputs": [
    {
     "name": "stdout",
     "output_type": "stream",
     "text": [
      "0      1\n",
      "1    abc\n",
      "2      6\n",
      "3    NaN\n",
      "4     44\n",
      "5      1\n",
      "dtype: object\n",
      "['1' 'abc' '6' 'nan' '44' '1']\n"
     ]
    }
   ],
   "source": [
    "import pandas as pd\n",
    "s = pd.Series([1,'abc','6',np.nan,44,1])\n",
    "a = np.array([1,'abc','6',np.nan,44,1])\n",
    "# print(t)\n",
    "print(s)\n",
    "print(a)"
   ]
  },
  {
   "cell_type": "markdown",
   "metadata": {},
   "source": [
    " <h3 style=\"color: blue\">DataFrame</h3> "
   ]
  },
  {
   "cell_type": "code",
   "execution_count": 41,
   "metadata": {},
   "outputs": [
    {
     "name": "stdout",
     "output_type": "stream",
     "text": [
      "0.9253412435708225\n",
      "-0.45691043204688636\n",
      "          0         1         2\n",
      "0  0.797731 -0.027400  0.217731\n",
      "1 -0.388598 -0.977950 -0.395518\n",
      "2 -1.130482  0.714348 -0.099555\n",
      "3 -0.037650  0.056500 -0.023990\n",
      "4 -1.165988  0.747042  0.655972\n",
      "5  0.051600  0.166281  0.700247\n",
      "6 -0.985070  0.331307  1.667151\n"
     ]
    }
   ],
   "source": [
    "#Method one: use array to create DataFrame\n",
    "print(np.random.random()) # np.random.random returns random floats in the half-open interval [0 1)\n",
    "print(np.random.randn()) # np.random.randn returns random floats sampled from a univariate nomal distribution\n",
    "\n",
    "\n",
    "df = pd.DataFrame(np.random.randn(7,3))\n",
    "print(df)"
   ]
  },
  {
   "cell_type": "code",
   "execution_count": 42,
   "metadata": {},
   "outputs": [
    {
     "name": "stdout",
     "output_type": "stream",
     "text": [
      "[[90 60 80]\n",
      " [80 50 80]\n",
      " [60 90 80]\n",
      " [95 50 55]\n",
      " [85 85 85]\n",
      " [50 90 85]\n",
      " [55 65 80]]\n",
      "DatetimeIndex(['2017-08-12', '2017-08-13', '2017-08-14', '2017-08-15',\n",
      "               '2017-08-16', '2017-08-17', '2017-08-18'],\n",
      "              dtype='datetime64[ns]', freq='D')\n",
      "    0   1   2\n",
      "0  90  60  80\n",
      "1  80  50  80\n",
      "2  60  90  80\n",
      "3  95  50  55\n",
      "4  85  85  85\n",
      "5  50  90  85\n",
      "6  55  65  80\n",
      "            Breakfast  Lunch  Dinner\n",
      "2017-08-12         90     60      80\n",
      "2017-08-13         80     50      80\n",
      "2017-08-14         60     90      80\n",
      "2017-08-15         95     50      55\n",
      "2017-08-16         85     85      85\n",
      "2017-08-17         50     90      85\n",
      "2017-08-18         55     65      80\n"
     ]
    }
   ],
   "source": [
    "#Method one: use array to create DataFrame\n",
    "eat = np.random.randint(10, size=(7,3))*5+50\n",
    "print(eat)\n",
    "dates = pd.date_range('20170812', periods=7)\n",
    "print(dates)\n",
    "# print(np.dtype(dates))\n",
    "df0 = pd.DataFrame(eat)\n",
    "print(df0)\n",
    "df1 = pd.DataFrame(eat, index=dates, columns=['Breakfast', 'Lunch', 'Dinner'])\n",
    "print(df1)"
   ]
  },
  {
   "cell_type": "code",
   "execution_count": 43,
   "metadata": {},
   "outputs": [
    {
     "name": "stdout",
     "output_type": "stream",
     "text": [
      "  Category  Decimal  Integer       Time\n",
      "0     test      1.0        3 2017-08-12\n",
      "1    train      3.0        3 2017-08-12\n",
      "2     test      6.0        3 2017-08-12\n",
      "3    train      4.0        3 2017-08-12\n",
      "        Time  Integer  Decimal Category\n",
      "0 2017-08-12        3      1.0     test\n",
      "1 2017-08-12        3      3.0    train\n",
      "2 2017-08-12        3      6.0     test\n",
      "3 2017-08-12        3      4.0    train\n",
      "  Category  Decimal  Integer       Time\n",
      "0     test      1.0        3 2017-08-12\n",
      "1    train      3.0        3 2017-08-12\n",
      "3    train      4.0        3 2017-08-12\n",
      "2     test      6.0        3 2017-08-12\n"
     ]
    }
   ],
   "source": [
    "#Method two: use dictionary to create DataFrame\n",
    "df2 = pd.DataFrame({'Decimal': pd.Series([1,3,6,4], index=list(range(4)), dtype='float32'),\n",
    "                   'Integer': np.array([3]*4, dtype='int32'),\n",
    "                   'Time': pd.Timestamp('20170812'),\n",
    "                   'Category': pd.Categorical(['test','train','test','train'])})\n",
    "x = pd.Series(1,index=list(range(4)), dtype='float32')\n",
    "# print(x)\n",
    "y = np.array([3]*4, dtype='int32')\n",
    "#print(y)\n",
    "z = pd.Timestamp('20170816')\n",
    "#print(z)\n",
    "k = pd.Categorical(['test','train','test','train'])\n",
    "# print(k)\n",
    "print(df2)\n",
    "#print(df2.dtypes)\n",
    "#print(df2.index)\n",
    "#print(df2.columns)\n",
    "#print(df2.values)\n",
    "#print(df2.T)\n",
    "print(df2.sort_index(axis=1,ascending=False)) #axis=1 takes columns as sorting index\n",
    "print(df2.sort_values(by='Decimal'))"
   ]
  },
  {
   "cell_type": "code",
   "execution_count": 44,
   "metadata": {},
   "outputs": [
    {
     "name": "stdout",
     "output_type": "stream",
     "text": [
      "            Breakfast  Lunch  Dinner\n",
      "2017-08-12         90     60      80\n",
      "2017-08-13         80     50      80\n",
      "2017-08-14         60     90      80\n",
      "2017-08-15         95     50      55\n",
      "2017-08-16         85     85      85\n",
      "2017-08-17         50     90      85\n",
      "2017-08-18         55     65      80\n",
      "\n",
      "\n",
      "2017-08-12    60\n",
      "2017-08-13    50\n",
      "2017-08-14    90\n",
      "2017-08-15    50\n",
      "2017-08-16    85\n",
      "2017-08-17    90\n",
      "2017-08-18    65\n",
      "Freq: D, Name: Lunch, dtype: int32\n",
      "\n",
      "\n",
      "            Breakfast  Lunch  Dinner\n",
      "2017-08-12         90     60      80\n",
      "2017-08-13         80     50      80\n",
      "2017-08-14         60     90      80\n"
     ]
    }
   ],
   "source": [
    "# Pandas: Selecting data\n",
    "print(df1)\n",
    "print('\\n')\n",
    "print(df1['Lunch'])\n",
    "print('\\n')\n",
    "print(df1[0:3])"
   ]
  },
  {
   "cell_type": "code",
   "execution_count": 45,
   "metadata": {},
   "outputs": [
    {
     "name": "stdout",
     "output_type": "stream",
     "text": [
      "            Breakfast  Lunch  Dinner\n",
      "2017-08-12         90     60      80\n",
      "2017-08-13         80     50      80\n",
      "2017-08-14         60     90      80\n",
      "2017-08-15         95     50      55\n",
      "2017-08-16         85     85      85\n",
      "2017-08-17         50     90      85\n",
      "2017-08-18         55     65      80\n",
      "Breakfast    90\n",
      "Lunch        60\n",
      "Dinner       80\n",
      "Name: 2017-08-12 00:00:00, dtype: int32\n",
      "            Breakfast  Lunch\n",
      "2017-08-13         80     50\n",
      "2017-08-14         60     90\n",
      "2017-08-15         95     50\n",
      "2017-08-16         85     85\n",
      "\n",
      "\n",
      "50\n",
      "            Lunch  Dinner\n",
      "2017-08-15     50      55\n",
      "2017-08-16     85      85\n",
      "\n",
      "\n",
      "            Lunch  Dinner\n",
      "2017-08-12     60      80\n",
      "2017-08-13     50      80\n",
      "2017-08-14     90      80\n"
     ]
    },
    {
     "name": "stderr",
     "output_type": "stream",
     "text": [
      "C:\\Anaconda3\\lib\\site-packages\\ipykernel_launcher.py:11: DeprecationWarning: \n",
      ".ix is deprecated. Please use\n",
      ".loc for label based indexing or\n",
      ".iloc for positional indexing\n",
      "\n",
      "See the documentation here:\n",
      "http://pandas.pydata.org/pandas-docs/stable/indexing.html#deprecate_ix\n",
      "  # This is added back by InteractiveShellApp.init_path()\n"
     ]
    }
   ],
   "source": [
    "print(df1)\n",
    "# Pandas: Selecting data by label (refer to the label and not the position)\n",
    "print(df1.loc['20170812'])\n",
    "print(df1.loc['20170813':'20170816',['Breakfast','Lunch']])\n",
    "print('\\n')\n",
    "# Pandas: Selecting data by position\n",
    "print(df1.iloc[3,1])\n",
    "print(df1.iloc[3:5,1:3])\n",
    "print('\\n')\n",
    "# Pandas: Selecting data by ix\n",
    "print(df1.ix[:3,['Lunch','Dinner']])"
   ]
  },
  {
   "cell_type": "code",
   "execution_count": 46,
   "metadata": {},
   "outputs": [
    {
     "name": "stdout",
     "output_type": "stream",
     "text": [
      "            Breakfast  Lunch  Dinner\n",
      "2017-08-14         60     90      80\n",
      "2017-08-16         85     85      85\n",
      "2017-08-17         50     90      85\n"
     ]
    }
   ],
   "source": [
    "# Pandas: Conditional expression\n",
    "print(df1[df1.Lunch > 80])"
   ]
  },
  {
   "cell_type": "code",
   "execution_count": 47,
   "metadata": {},
   "outputs": [
    {
     "name": "stdout",
     "output_type": "stream",
     "text": [
      "            Breakfast  Lunch  Dinner\n",
      "2017-08-14         60     90      80\n",
      "2017-08-16         85     85      85\n",
      "2017-08-17         50     90      85\n",
      "            Breakfast  Lunch  Dinner\n",
      "2017-08-12         90   60.0      80\n",
      "2017-08-13         80   50.0      80\n",
      "2017-08-14         60    NaN      80\n",
      "2017-08-15         95   50.0      55\n",
      "2017-08-16         85   85.0      85\n",
      "2017-08-17         50   90.0      85\n",
      "2017-08-18         55   65.0      80\n",
      "Breakfast      int32\n",
      "Lunch        float64\n",
      "Dinner         int32\n",
      "dtype: object\n"
     ]
    }
   ],
   "source": [
    "# Pandas: Re-assign data\n",
    "#df1.Dinner[df1.Lunch>80]=40  --> this method Pandas would select df1.Dinner first, and then returns\n",
    "#a DataFrame that is singly-indexed. Then, another python operation df1_dinner[df1.Lunch>80] will\n",
    "#happens. THis is because pandas sees these operations as separate events.\n",
    "df1.loc[:,['Dinner']][df1.Lunch>80] = 40\n",
    "print(df1[df1.Lunch>80])\n",
    "df1.loc['20170814','Lunch'] = np.nan\n",
    "print(df1)\n",
    "print(df1.dtypes)"
   ]
  },
  {
   "cell_type": "code",
   "execution_count": 48,
   "metadata": {},
   "outputs": [
    {
     "name": "stdout",
     "output_type": "stream",
     "text": [
      "            Breakfast  Lunch  Dinner\n",
      "2017-08-12      False  False   False\n",
      "2017-08-13      False  False   False\n",
      "2017-08-14      False   True   False\n",
      "2017-08-15      False  False   False\n",
      "2017-08-16      False  False   False\n",
      "2017-08-17      False  False   False\n",
      "2017-08-18      False  False   False\n"
     ]
    },
    {
     "data": {
      "text/plain": [
       "Breakfast    0\n",
       "Lunch        1\n",
       "Dinner       0\n",
       "dtype: int64"
      ]
     },
     "execution_count": 48,
     "metadata": {},
     "output_type": "execute_result"
    }
   ],
   "source": [
    "# Pandas: Dealing with missing values\n",
    "print(df1.isnull())\n",
    "df1.isnull().sum()"
   ]
  },
  {
   "cell_type": "code",
   "execution_count": 49,
   "metadata": {},
   "outputs": [
    {
     "data": {
      "text/html": [
       "<div>\n",
       "<style>\n",
       "    .dataframe thead tr:only-child th {\n",
       "        text-align: right;\n",
       "    }\n",
       "\n",
       "    .dataframe thead th {\n",
       "        text-align: left;\n",
       "    }\n",
       "\n",
       "    .dataframe tbody tr th {\n",
       "        vertical-align: top;\n",
       "    }\n",
       "</style>\n",
       "<table border=\"1\" class=\"dataframe\">\n",
       "  <thead>\n",
       "    <tr style=\"text-align: right;\">\n",
       "      <th></th>\n",
       "      <th>Breakfast</th>\n",
       "      <th>Lunch</th>\n",
       "      <th>Dinner</th>\n",
       "    </tr>\n",
       "  </thead>\n",
       "  <tbody>\n",
       "    <tr>\n",
       "      <th>2017-08-12</th>\n",
       "      <td>90</td>\n",
       "      <td>60.0</td>\n",
       "      <td>80</td>\n",
       "    </tr>\n",
       "    <tr>\n",
       "      <th>2017-08-13</th>\n",
       "      <td>80</td>\n",
       "      <td>50.0</td>\n",
       "      <td>80</td>\n",
       "    </tr>\n",
       "    <tr>\n",
       "      <th>2017-08-14</th>\n",
       "      <td>60</td>\n",
       "      <td>0.0</td>\n",
       "      <td>80</td>\n",
       "    </tr>\n",
       "    <tr>\n",
       "      <th>2017-08-15</th>\n",
       "      <td>95</td>\n",
       "      <td>50.0</td>\n",
       "      <td>55</td>\n",
       "    </tr>\n",
       "    <tr>\n",
       "      <th>2017-08-16</th>\n",
       "      <td>85</td>\n",
       "      <td>85.0</td>\n",
       "      <td>85</td>\n",
       "    </tr>\n",
       "    <tr>\n",
       "      <th>2017-08-17</th>\n",
       "      <td>50</td>\n",
       "      <td>90.0</td>\n",
       "      <td>85</td>\n",
       "    </tr>\n",
       "    <tr>\n",
       "      <th>2017-08-18</th>\n",
       "      <td>55</td>\n",
       "      <td>65.0</td>\n",
       "      <td>80</td>\n",
       "    </tr>\n",
       "  </tbody>\n",
       "</table>\n",
       "</div>"
      ],
      "text/plain": [
       "            Breakfast  Lunch  Dinner\n",
       "2017-08-12         90   60.0      80\n",
       "2017-08-13         80   50.0      80\n",
       "2017-08-14         60    0.0      80\n",
       "2017-08-15         95   50.0      55\n",
       "2017-08-16         85   85.0      85\n",
       "2017-08-17         50   90.0      85\n",
       "2017-08-18         55   65.0      80"
      ]
     },
     "execution_count": 49,
     "metadata": {},
     "output_type": "execute_result"
    }
   ],
   "source": [
    "# Panadas: Dealing with missing values --> replace them with 0\n",
    "df1.fillna(value=0)"
   ]
  },
  {
   "cell_type": "code",
   "execution_count": 50,
   "metadata": {},
   "outputs": [
    {
     "name": "stdout",
     "output_type": "stream",
     "text": [
      "            Breakfast  Lunch  Dinner\n",
      "2017-08-12         90   60.0      80\n",
      "2017-08-13         80   50.0      80\n",
      "2017-08-14         60    NaN      80\n",
      "2017-08-15         95   50.0      55\n",
      "2017-08-16         85   85.0      85\n",
      "2017-08-17         50   90.0      85\n",
      "2017-08-18         55   65.0      80\n"
     ]
    },
    {
     "data": {
      "text/html": [
       "<div>\n",
       "<style>\n",
       "    .dataframe thead tr:only-child th {\n",
       "        text-align: right;\n",
       "    }\n",
       "\n",
       "    .dataframe thead th {\n",
       "        text-align: left;\n",
       "    }\n",
       "\n",
       "    .dataframe tbody tr th {\n",
       "        vertical-align: top;\n",
       "    }\n",
       "</style>\n",
       "<table border=\"1\" class=\"dataframe\">\n",
       "  <thead>\n",
       "    <tr style=\"text-align: right;\">\n",
       "      <th></th>\n",
       "      <th>Breakfast</th>\n",
       "      <th>Lunch</th>\n",
       "      <th>Dinner</th>\n",
       "    </tr>\n",
       "  </thead>\n",
       "  <tbody>\n",
       "    <tr>\n",
       "      <th>2017-08-12</th>\n",
       "      <td>90</td>\n",
       "      <td>60.0</td>\n",
       "      <td>80</td>\n",
       "    </tr>\n",
       "    <tr>\n",
       "      <th>2017-08-13</th>\n",
       "      <td>80</td>\n",
       "      <td>50.0</td>\n",
       "      <td>80</td>\n",
       "    </tr>\n",
       "    <tr>\n",
       "      <th>2017-08-15</th>\n",
       "      <td>95</td>\n",
       "      <td>50.0</td>\n",
       "      <td>55</td>\n",
       "    </tr>\n",
       "    <tr>\n",
       "      <th>2017-08-16</th>\n",
       "      <td>85</td>\n",
       "      <td>85.0</td>\n",
       "      <td>85</td>\n",
       "    </tr>\n",
       "    <tr>\n",
       "      <th>2017-08-17</th>\n",
       "      <td>50</td>\n",
       "      <td>90.0</td>\n",
       "      <td>85</td>\n",
       "    </tr>\n",
       "    <tr>\n",
       "      <th>2017-08-18</th>\n",
       "      <td>55</td>\n",
       "      <td>65.0</td>\n",
       "      <td>80</td>\n",
       "    </tr>\n",
       "  </tbody>\n",
       "</table>\n",
       "</div>"
      ],
      "text/plain": [
       "            Breakfast  Lunch  Dinner\n",
       "2017-08-12         90   60.0      80\n",
       "2017-08-13         80   50.0      80\n",
       "2017-08-15         95   50.0      55\n",
       "2017-08-16         85   85.0      85\n",
       "2017-08-17         50   90.0      85\n",
       "2017-08-18         55   65.0      80"
      ]
     },
     "execution_count": 50,
     "metadata": {},
     "output_type": "execute_result"
    }
   ],
   "source": [
    "# Panadas: Dealing with missing values --> erase the missing values\n",
    "print(df1)\n",
    "df1.dropna(\n",
    "    axis=0,    #0: operates under the base of row; 1: operates under the base of column\n",
    "    how='any'  #'any':Drop the whole row or column if there is any NaN value.\n",
    "               #'all':Drop the whole row or column if the values in the row or column are all NaN.\n",
    ")"
   ]
  },
  {
   "cell_type": "code",
   "execution_count": 51,
   "metadata": {},
   "outputs": [
    {
     "name": "stdout",
     "output_type": "stream",
     "text": [
      "            Breakfast  Lunch  Dinner\n",
      "2017-08-12         90   60.0      80\n",
      "2017-08-13         80   50.0      80\n",
      "2017-08-14         60    NaN      80\n",
      "2017-08-15         95   50.0      55\n",
      "2017-08-16         85   85.0      85\n",
      "2017-08-17         50   90.0      85\n",
      "2017-08-18         55   65.0      80\n"
     ]
    },
    {
     "data": {
      "text/html": [
       "<div>\n",
       "<style>\n",
       "    .dataframe thead tr:only-child th {\n",
       "        text-align: right;\n",
       "    }\n",
       "\n",
       "    .dataframe thead th {\n",
       "        text-align: left;\n",
       "    }\n",
       "\n",
       "    .dataframe tbody tr th {\n",
       "        vertical-align: top;\n",
       "    }\n",
       "</style>\n",
       "<table border=\"1\" class=\"dataframe\">\n",
       "  <thead>\n",
       "    <tr style=\"text-align: right;\">\n",
       "      <th></th>\n",
       "      <th>Breakfast</th>\n",
       "      <th>Lunch</th>\n",
       "      <th>Dinner</th>\n",
       "    </tr>\n",
       "  </thead>\n",
       "  <tbody>\n",
       "    <tr>\n",
       "      <th>2017-08-12</th>\n",
       "      <td>90</td>\n",
       "      <td>60.0</td>\n",
       "      <td>80</td>\n",
       "    </tr>\n",
       "    <tr>\n",
       "      <th>2017-08-13</th>\n",
       "      <td>80</td>\n",
       "      <td>50.0</td>\n",
       "      <td>80</td>\n",
       "    </tr>\n",
       "    <tr>\n",
       "      <th>2017-08-14</th>\n",
       "      <td>60</td>\n",
       "      <td>NaN</td>\n",
       "      <td>80</td>\n",
       "    </tr>\n",
       "    <tr>\n",
       "      <th>2017-08-15</th>\n",
       "      <td>95</td>\n",
       "      <td>50.0</td>\n",
       "      <td>55</td>\n",
       "    </tr>\n",
       "    <tr>\n",
       "      <th>2017-08-16</th>\n",
       "      <td>85</td>\n",
       "      <td>85.0</td>\n",
       "      <td>85</td>\n",
       "    </tr>\n",
       "    <tr>\n",
       "      <th>2017-08-17</th>\n",
       "      <td>50</td>\n",
       "      <td>90.0</td>\n",
       "      <td>85</td>\n",
       "    </tr>\n",
       "    <tr>\n",
       "      <th>2017-08-18</th>\n",
       "      <td>55</td>\n",
       "      <td>65.0</td>\n",
       "      <td>80</td>\n",
       "    </tr>\n",
       "  </tbody>\n",
       "</table>\n",
       "</div>"
      ],
      "text/plain": [
       "            Breakfast  Lunch  Dinner\n",
       "2017-08-12         90   60.0      80\n",
       "2017-08-13         80   50.0      80\n",
       "2017-08-14         60    NaN      80\n",
       "2017-08-15         95   50.0      55\n",
       "2017-08-16         85   85.0      85\n",
       "2017-08-17         50   90.0      85\n",
       "2017-08-18         55   65.0      80"
      ]
     },
     "execution_count": 51,
     "metadata": {},
     "output_type": "execute_result"
    }
   ],
   "source": [
    "# Pandas: Other usages\n",
    "print(df1)\n",
    "df1.dropna(thresh=3)  #Keep only the rows with at least 3 non-na values\n",
    "df1.dropna(subset=['Breakfast']) #Only drops the rows or columns in the subset that have NaN value."
   ]
  },
  {
   "cell_type": "code",
   "execution_count": 52,
   "metadata": {},
   "outputs": [
    {
     "name": "stdout",
     "output_type": "stream",
     "text": [
      "[[ 90.  60.  80.]\n",
      " [ 80.  50.  80.]\n",
      " [ 60.  nan  80.]\n",
      " [ 95.  50.  55.]\n",
      " [ 85.  85.  85.]\n",
      " [ 50.  90.  85.]\n",
      " [ 55.  65.  80.]]\n",
      "float64\n",
      "[[ 90.          60.          80.        ]\n",
      " [ 80.          50.          80.        ]\n",
      " [ 60.          66.66666667  80.        ]\n",
      " [ 95.          50.          55.        ]\n",
      " [ 85.          85.          85.        ]\n",
      " [ 50.          90.          85.        ]\n",
      " [ 55.          65.          80.        ]]\n",
      "[[ 90.          60.          80.        ]\n",
      " [ 80.          50.          80.        ]\n",
      " [ 60.          66.66666667  80.        ]\n",
      " [ 95.          50.          55.        ]\n",
      " [ 85.          85.          85.        ]\n",
      " [ 50.          90.          85.        ]\n",
      " [ 55.          65.          80.        ]]\n"
     ]
    }
   ],
   "source": [
    "# Pandas: Dealing with missing values --> interpolation\n",
    "from sklearn.preprocessing import Imputer\n",
    "# print(df1.dtypes)\n",
    "print(df1.values)\n",
    "print(df1.values.dtype)\n",
    "# print(df1.values.dtypes)\n",
    "imr = Imputer(missing_values='NaN', strategy='mean', axis=0) #axis = 0 for columns, axis = 1 for rows\n",
    "imr_2 = Imputer(missing_values='NaN', strategy='mean', axis=0)\n",
    "imr = imr.fit(df1)\n",
    "imputed_data = imr.transform(df1.values)\n",
    "imputed_data_2 = imr_2.fit_transform(df1) #fit + transform\n",
    "print(imputed_data)\n",
    "print(imputed_data_2)\n"
   ]
  },
  {
   "cell_type": "code",
   "execution_count": 53,
   "metadata": {},
   "outputs": [
    {
     "ename": "FileNotFoundError",
     "evalue": "File b'nescsv2.csv' does not exist",
     "output_type": "error",
     "traceback": [
      "\u001b[1;31m---------------------------------------------------------------------------\u001b[0m",
      "\u001b[1;31mFileNotFoundError\u001b[0m                         Traceback (most recent call last)",
      "\u001b[1;32m<ipython-input-53-fe8507b8f5c0>\u001b[0m in \u001b[0;36m<module>\u001b[1;34m()\u001b[0m\n\u001b[0;32m      2\u001b[0m \u001b[1;33m\u001b[0m\u001b[0m\n\u001b[0;32m      3\u001b[0m \u001b[1;31m#load csv file\u001b[0m\u001b[1;33m\u001b[0m\u001b[1;33m\u001b[0m\u001b[0m\n\u001b[1;32m----> 4\u001b[1;33m \u001b[0mdata\u001b[0m \u001b[1;33m=\u001b[0m \u001b[0mpd\u001b[0m\u001b[1;33m.\u001b[0m\u001b[0mread_csv\u001b[0m\u001b[1;33m(\u001b[0m\u001b[1;34m'nescsv2.csv'\u001b[0m\u001b[1;33m)\u001b[0m\u001b[1;33m\u001b[0m\u001b[0m\n\u001b[0m\u001b[0;32m      5\u001b[0m \u001b[0mprint\u001b[0m\u001b[1;33m(\u001b[0m\u001b[0mdata\u001b[0m\u001b[1;33m)\u001b[0m\u001b[1;33m\u001b[0m\u001b[0m\n\u001b[0;32m      6\u001b[0m \u001b[0mdata\u001b[0m \u001b[1;33m=\u001b[0m \u001b[0mdata\u001b[0m\u001b[1;33m.\u001b[0m\u001b[0mT\u001b[0m\u001b[1;33m\u001b[0m\u001b[0m\n",
      "\u001b[1;32mC:\\Anaconda3\\lib\\site-packages\\pandas\\io\\parsers.py\u001b[0m in \u001b[0;36mparser_f\u001b[1;34m(filepath_or_buffer, sep, delimiter, header, names, index_col, usecols, squeeze, prefix, mangle_dupe_cols, dtype, engine, converters, true_values, false_values, skipinitialspace, skiprows, nrows, na_values, keep_default_na, na_filter, verbose, skip_blank_lines, parse_dates, infer_datetime_format, keep_date_col, date_parser, dayfirst, iterator, chunksize, compression, thousands, decimal, lineterminator, quotechar, quoting, escapechar, comment, encoding, dialect, tupleize_cols, error_bad_lines, warn_bad_lines, skipfooter, skip_footer, doublequote, delim_whitespace, as_recarray, compact_ints, use_unsigned, low_memory, buffer_lines, memory_map, float_precision)\u001b[0m\n\u001b[0;32m    653\u001b[0m                     skip_blank_lines=skip_blank_lines)\n\u001b[0;32m    654\u001b[0m \u001b[1;33m\u001b[0m\u001b[0m\n\u001b[1;32m--> 655\u001b[1;33m         \u001b[1;32mreturn\u001b[0m \u001b[0m_read\u001b[0m\u001b[1;33m(\u001b[0m\u001b[0mfilepath_or_buffer\u001b[0m\u001b[1;33m,\u001b[0m \u001b[0mkwds\u001b[0m\u001b[1;33m)\u001b[0m\u001b[1;33m\u001b[0m\u001b[0m\n\u001b[0m\u001b[0;32m    656\u001b[0m \u001b[1;33m\u001b[0m\u001b[0m\n\u001b[0;32m    657\u001b[0m     \u001b[0mparser_f\u001b[0m\u001b[1;33m.\u001b[0m\u001b[0m__name__\u001b[0m \u001b[1;33m=\u001b[0m \u001b[0mname\u001b[0m\u001b[1;33m\u001b[0m\u001b[0m\n",
      "\u001b[1;32mC:\\Anaconda3\\lib\\site-packages\\pandas\\io\\parsers.py\u001b[0m in \u001b[0;36m_read\u001b[1;34m(filepath_or_buffer, kwds)\u001b[0m\n\u001b[0;32m    403\u001b[0m \u001b[1;33m\u001b[0m\u001b[0m\n\u001b[0;32m    404\u001b[0m     \u001b[1;31m# Create the parser.\u001b[0m\u001b[1;33m\u001b[0m\u001b[1;33m\u001b[0m\u001b[0m\n\u001b[1;32m--> 405\u001b[1;33m     \u001b[0mparser\u001b[0m \u001b[1;33m=\u001b[0m \u001b[0mTextFileReader\u001b[0m\u001b[1;33m(\u001b[0m\u001b[0mfilepath_or_buffer\u001b[0m\u001b[1;33m,\u001b[0m \u001b[1;33m**\u001b[0m\u001b[0mkwds\u001b[0m\u001b[1;33m)\u001b[0m\u001b[1;33m\u001b[0m\u001b[0m\n\u001b[0m\u001b[0;32m    406\u001b[0m \u001b[1;33m\u001b[0m\u001b[0m\n\u001b[0;32m    407\u001b[0m     \u001b[1;32mif\u001b[0m \u001b[0mchunksize\u001b[0m \u001b[1;32mor\u001b[0m \u001b[0miterator\u001b[0m\u001b[1;33m:\u001b[0m\u001b[1;33m\u001b[0m\u001b[0m\n",
      "\u001b[1;32mC:\\Anaconda3\\lib\\site-packages\\pandas\\io\\parsers.py\u001b[0m in \u001b[0;36m__init__\u001b[1;34m(self, f, engine, **kwds)\u001b[0m\n\u001b[0;32m    760\u001b[0m             \u001b[0mself\u001b[0m\u001b[1;33m.\u001b[0m\u001b[0moptions\u001b[0m\u001b[1;33m[\u001b[0m\u001b[1;34m'has_index_names'\u001b[0m\u001b[1;33m]\u001b[0m \u001b[1;33m=\u001b[0m \u001b[0mkwds\u001b[0m\u001b[1;33m[\u001b[0m\u001b[1;34m'has_index_names'\u001b[0m\u001b[1;33m]\u001b[0m\u001b[1;33m\u001b[0m\u001b[0m\n\u001b[0;32m    761\u001b[0m \u001b[1;33m\u001b[0m\u001b[0m\n\u001b[1;32m--> 762\u001b[1;33m         \u001b[0mself\u001b[0m\u001b[1;33m.\u001b[0m\u001b[0m_make_engine\u001b[0m\u001b[1;33m(\u001b[0m\u001b[0mself\u001b[0m\u001b[1;33m.\u001b[0m\u001b[0mengine\u001b[0m\u001b[1;33m)\u001b[0m\u001b[1;33m\u001b[0m\u001b[0m\n\u001b[0m\u001b[0;32m    763\u001b[0m \u001b[1;33m\u001b[0m\u001b[0m\n\u001b[0;32m    764\u001b[0m     \u001b[1;32mdef\u001b[0m \u001b[0mclose\u001b[0m\u001b[1;33m(\u001b[0m\u001b[0mself\u001b[0m\u001b[1;33m)\u001b[0m\u001b[1;33m:\u001b[0m\u001b[1;33m\u001b[0m\u001b[0m\n",
      "\u001b[1;32mC:\\Anaconda3\\lib\\site-packages\\pandas\\io\\parsers.py\u001b[0m in \u001b[0;36m_make_engine\u001b[1;34m(self, engine)\u001b[0m\n\u001b[0;32m    964\u001b[0m     \u001b[1;32mdef\u001b[0m \u001b[0m_make_engine\u001b[0m\u001b[1;33m(\u001b[0m\u001b[0mself\u001b[0m\u001b[1;33m,\u001b[0m \u001b[0mengine\u001b[0m\u001b[1;33m=\u001b[0m\u001b[1;34m'c'\u001b[0m\u001b[1;33m)\u001b[0m\u001b[1;33m:\u001b[0m\u001b[1;33m\u001b[0m\u001b[0m\n\u001b[0;32m    965\u001b[0m         \u001b[1;32mif\u001b[0m \u001b[0mengine\u001b[0m \u001b[1;33m==\u001b[0m \u001b[1;34m'c'\u001b[0m\u001b[1;33m:\u001b[0m\u001b[1;33m\u001b[0m\u001b[0m\n\u001b[1;32m--> 966\u001b[1;33m             \u001b[0mself\u001b[0m\u001b[1;33m.\u001b[0m\u001b[0m_engine\u001b[0m \u001b[1;33m=\u001b[0m \u001b[0mCParserWrapper\u001b[0m\u001b[1;33m(\u001b[0m\u001b[0mself\u001b[0m\u001b[1;33m.\u001b[0m\u001b[0mf\u001b[0m\u001b[1;33m,\u001b[0m \u001b[1;33m**\u001b[0m\u001b[0mself\u001b[0m\u001b[1;33m.\u001b[0m\u001b[0moptions\u001b[0m\u001b[1;33m)\u001b[0m\u001b[1;33m\u001b[0m\u001b[0m\n\u001b[0m\u001b[0;32m    967\u001b[0m         \u001b[1;32melse\u001b[0m\u001b[1;33m:\u001b[0m\u001b[1;33m\u001b[0m\u001b[0m\n\u001b[0;32m    968\u001b[0m             \u001b[1;32mif\u001b[0m \u001b[0mengine\u001b[0m \u001b[1;33m==\u001b[0m \u001b[1;34m'python'\u001b[0m\u001b[1;33m:\u001b[0m\u001b[1;33m\u001b[0m\u001b[0m\n",
      "\u001b[1;32mC:\\Anaconda3\\lib\\site-packages\\pandas\\io\\parsers.py\u001b[0m in \u001b[0;36m__init__\u001b[1;34m(self, src, **kwds)\u001b[0m\n\u001b[0;32m   1580\u001b[0m         \u001b[0mkwds\u001b[0m\u001b[1;33m[\u001b[0m\u001b[1;34m'allow_leading_cols'\u001b[0m\u001b[1;33m]\u001b[0m \u001b[1;33m=\u001b[0m \u001b[0mself\u001b[0m\u001b[1;33m.\u001b[0m\u001b[0mindex_col\u001b[0m \u001b[1;32mis\u001b[0m \u001b[1;32mnot\u001b[0m \u001b[1;32mFalse\u001b[0m\u001b[1;33m\u001b[0m\u001b[0m\n\u001b[0;32m   1581\u001b[0m \u001b[1;33m\u001b[0m\u001b[0m\n\u001b[1;32m-> 1582\u001b[1;33m         \u001b[0mself\u001b[0m\u001b[1;33m.\u001b[0m\u001b[0m_reader\u001b[0m \u001b[1;33m=\u001b[0m \u001b[0mparsers\u001b[0m\u001b[1;33m.\u001b[0m\u001b[0mTextReader\u001b[0m\u001b[1;33m(\u001b[0m\u001b[0msrc\u001b[0m\u001b[1;33m,\u001b[0m \u001b[1;33m**\u001b[0m\u001b[0mkwds\u001b[0m\u001b[1;33m)\u001b[0m\u001b[1;33m\u001b[0m\u001b[0m\n\u001b[0m\u001b[0;32m   1583\u001b[0m \u001b[1;33m\u001b[0m\u001b[0m\n\u001b[0;32m   1584\u001b[0m         \u001b[1;31m# XXX\u001b[0m\u001b[1;33m\u001b[0m\u001b[1;33m\u001b[0m\u001b[0m\n",
      "\u001b[1;32mpandas\\_libs\\parsers.pyx\u001b[0m in \u001b[0;36mpandas._libs.parsers.TextReader.__cinit__ (pandas\\_libs\\parsers.c:4209)\u001b[1;34m()\u001b[0m\n",
      "\u001b[1;32mpandas\\_libs\\parsers.pyx\u001b[0m in \u001b[0;36mpandas._libs.parsers.TextReader._setup_parser_source (pandas\\_libs\\parsers.c:8873)\u001b[1;34m()\u001b[0m\n",
      "\u001b[1;31mFileNotFoundError\u001b[0m: File b'nescsv2.csv' does not exist"
     ]
    }
   ],
   "source": [
    "# Pandas: load file\n",
    "\n",
    "#load csv file\n",
    "data = pd.read_csv('nescsv2.csv')\n",
    "print(data)\n",
    "data = data.T\n",
    "print(data)\n",
    "data.to_csv('nescsv2_transpose.csv')\n"
   ]
  },
  {
   "cell_type": "code",
   "execution_count": 75,
   "metadata": {},
   "outputs": [
    {
     "name": "stdout",
     "output_type": "stream",
     "text": [
      "     a    b    c    d\n",
      "0  0.0  0.0  0.0  0.0\n",
      "1  0.0  0.0  0.0  0.0\n",
      "2  0.0  0.0  0.0  0.0\n",
      "3  1.0  1.0  1.0  1.0\n",
      "4  1.0  1.0  1.0  1.0\n",
      "5  1.0  1.0  1.0  1.0\n",
      "6  2.0  2.0  2.0  2.0\n",
      "7  2.0  2.0  2.0  2.0\n",
      "8  2.0  2.0  2.0  2.0\n",
      "Index(['a', 'b', 'c', 'd'], dtype='object')\n",
      "RangeIndex(start=0, stop=3, step=1)\n",
      "     a    b    c    d    e\n",
      "1  0.0  0.0  0.0  0.0  NaN\n",
      "2  0.0  0.0  0.0  0.0  NaN\n",
      "3  0.0  0.0  0.0  0.0  NaN\n",
      "2  NaN  1.0  1.0  1.0  1.0\n",
      "3  NaN  1.0  1.0  1.0  1.0\n",
      "4  NaN  1.0  1.0  1.0  1.0\n",
      "['b', 'c', 'd']\n",
      "     b    c    d\n",
      "0  0.0  0.0  0.0\n",
      "1  0.0  0.0  0.0\n",
      "2  0.0  0.0  0.0\n",
      "3  1.0  1.0  1.0\n",
      "4  1.0  1.0  1.0\n",
      "5  1.0  1.0  1.0\n",
      "<pandas.core.groupby.DataFrameGroupBy object at 0x000001D8C5846F28>\n",
      "{(0.0, 0.0): Int64Index([0, 1, 2], dtype='int64'), (1.0, 1.0): Int64Index([3, 4, 5], dtype='int64')}\n",
      "dict_values([Int64Index([0, 1, 2], dtype='int64'), Int64Index([3, 4, 5], dtype='int64')])\n"
     ]
    }
   ],
   "source": [
    "# Pandas concat DataFrame\n",
    "\n",
    "#concat\n",
    "\n",
    "df1_concat = pd.DataFrame(np.ones((3,4))*0, columns=['a','b','c','d'])\n",
    "df2_concat = pd.DataFrame(np.ones((3,4))*1, columns=['a','b','c','d'])\n",
    "df3_concat = pd.DataFrame(np.ones((3,4))*2, columns=['a','b','c','d'])\n",
    "# print(df1_concat, df2_concat, df3_concat,sep='\\n')\n",
    "res = pd.concat([df1_concat, df2_concat, df3_concat], axis = 0, ignore_index = True)\n",
    "# print('\\n')\n",
    "print(res)\n",
    "# print('\\n')\n",
    "print(df1_concat.columns)\n",
    "print(df1_concat.index)\n",
    "\n",
    "#join: {'inner', 'outer'}\n",
    "df4_concat = pd.DataFrame(np.ones((3,4))*0, columns=['a','b','c','d'],index=[1,2,3])\n",
    "df5_concat = pd.DataFrame(np.ones((3,4))*1, columns=['b','c','d','e'],index=[2,3,4])\n",
    "res_outer = pd.concat([df4_concat, df5_concat], axis=0, join='outer', ignore_index=False) #join default is outer\n",
    "res_inner = pd.concat([df4_concat, df5_concat], axis=0, join='inner', ignore_index=False)\n",
    "\n",
    "print(res_outer)\n",
    "\n",
    "res_reset = res_inner.reset_index(drop=True)\n",
    "print(list(res_reset.columns)) # Same as print(list(res_reset))\n",
    "print(res_reset)\n",
    "print(res_reset.groupby(['b','c']))\n",
    "print(res_reset.groupby(['b','c']).groups)\n",
    "print(res_reset.groupby(['b','c']).groups.values())\n",
    "# print(res_outer, res_inner, sep='\\n')\n",
    "# print(diff_inner_outer)"
   ]
  },
  {
   "cell_type": "markdown",
   "metadata": {},
   "source": [
    "<h4 style='color: blue'>Pandas append DataFrame</h4>\n",
    "<span>DataFrame.<b>append</b>(other, ignore_index=False, verify_integrity=False)</span>\n",
    "<br>\n",
    "<p>Append rows of <i>other</i> to the end of this frame, returning a new object. Columns not in this frame are added as new columns</p>"
   ]
  },
  {
   "cell_type": "code",
   "execution_count": 55,
   "metadata": {
    "scrolled": true
   },
   "outputs": [
    {
     "name": "stdout",
     "output_type": "stream",
     "text": [
      "        Date   Color   Fruit   Num\n",
      "0 2017-08-12  Yellow  Banana  22.1\n",
      "1 2017-08-12  Orange  Orange   8.6\n",
      "2 2017-08-12   Green   Apple   7.6\n",
      "3 2017-08-12   Green  Celery  10.2\n",
      "4 2017-08-13     Red   Apple  22.1\n",
      "5 2017-08-13  Orange  Orange   8.6\n",
      "    Color       Date   Fruit   Num\n",
      "0   Yello 2017-08-12  Banana  22.1\n",
      "1  Orange 2017-08-12  Orange   8.6\n",
      "2   Green 2017-08-12   Apple   7.6\n",
      "3   Green 2017-08-12  Celery  10.2\n",
      "    Color       Date   Fruit   Num\n",
      "0   Yello 2017-08-12  Banana  22.1\n",
      "1  Orange 2017-08-12  Orange   8.6\n",
      "2   Green 2017-08-12   Apple   7.6\n",
      "3   Green 2017-08-12  Celery  10.2\n",
      "0  Yellow 2017-08-12  Banana  22.1\n",
      "1  Orange 2017-08-12  Orange   8.6\n",
      "2   Green 2017-08-12   Apple   7.6\n",
      "3   Green 2017-08-12  Celery  10.2\n",
      "4     Red 2017-08-13   Apple  22.1\n",
      "5  Orange 2017-08-13  Orange   8.6\n",
      "    Color       Date   Fruit   Num\n",
      "0   Yello 2017-08-12  Banana  22.1\n",
      "1  Orange 2017-08-12  Orange   8.6\n",
      "2   Green 2017-08-12   Apple   7.6\n",
      "3   Green 2017-08-12  Celery  10.2\n",
      "4  Yellow 2017-08-12  Banana  22.1\n",
      "5  Orange 2017-08-12  Orange   8.6\n",
      "6   Green 2017-08-12   Apple   7.6\n",
      "7   Green 2017-08-12  Celery  10.2\n",
      "8     Red 2017-08-13   Apple  22.1\n",
      "9  Orange 2017-08-13  Orange   8.6\n",
      "['Color', 'Date', 'Fruit', 'Num']\n",
      "dict_values([Int64Index([2, 6], dtype='int64'), Int64Index([3, 7], dtype='int64'), Int64Index([1, 5], dtype='int64'), Int64Index([9], dtype='int64'), Int64Index([8], dtype='int64'), Int64Index([0], dtype='int64'), Int64Index([4], dtype='int64')])\n",
      "[9, 8, 0, 4]\n"
     ]
    },
    {
     "data": {
      "text/html": [
       "<div>\n",
       "<style>\n",
       "    .dataframe thead tr:only-child th {\n",
       "        text-align: right;\n",
       "    }\n",
       "\n",
       "    .dataframe thead th {\n",
       "        text-align: left;\n",
       "    }\n",
       "\n",
       "    .dataframe tbody tr th {\n",
       "        vertical-align: top;\n",
       "    }\n",
       "</style>\n",
       "<table border=\"1\" class=\"dataframe\">\n",
       "  <thead>\n",
       "    <tr style=\"text-align: right;\">\n",
       "      <th></th>\n",
       "      <th>Color</th>\n",
       "      <th>Date</th>\n",
       "      <th>Fruit</th>\n",
       "      <th>Num</th>\n",
       "    </tr>\n",
       "  </thead>\n",
       "  <tbody>\n",
       "    <tr>\n",
       "      <th>9</th>\n",
       "      <td>Orange</td>\n",
       "      <td>2017-08-13</td>\n",
       "      <td>Orange</td>\n",
       "      <td>8.6</td>\n",
       "    </tr>\n",
       "    <tr>\n",
       "      <th>8</th>\n",
       "      <td>Red</td>\n",
       "      <td>2017-08-13</td>\n",
       "      <td>Apple</td>\n",
       "      <td>22.1</td>\n",
       "    </tr>\n",
       "    <tr>\n",
       "      <th>0</th>\n",
       "      <td>Yello</td>\n",
       "      <td>2017-08-12</td>\n",
       "      <td>Banana</td>\n",
       "      <td>22.1</td>\n",
       "    </tr>\n",
       "    <tr>\n",
       "      <th>4</th>\n",
       "      <td>Yellow</td>\n",
       "      <td>2017-08-12</td>\n",
       "      <td>Banana</td>\n",
       "      <td>22.1</td>\n",
       "    </tr>\n",
       "  </tbody>\n",
       "</table>\n",
       "</div>"
      ],
      "text/plain": [
       "    Color       Date   Fruit   Num\n",
       "9  Orange 2017-08-13  Orange   8.6\n",
       "8     Red 2017-08-13   Apple  22.1\n",
       "0   Yello 2017-08-12  Banana  22.1\n",
       "4  Yellow 2017-08-12  Banana  22.1"
      ]
     },
     "execution_count": 55,
     "metadata": {},
     "output_type": "execute_result"
    }
   ],
   "source": [
    "df1_test = pd.DataFrame({\n",
    "    'Date': pd.Timestamp('20170812'),\n",
    "    'Fruit': ['Banana', 'Orange', 'Apple', 'Celery'],\n",
    "    'Num': [22.1,8.6,7.6,10.2],\n",
    "    'Color': ['Yello', 'Orange', 'Green', 'Green']\n",
    "})\n",
    "\n",
    "df2_test = pd.DataFrame({\n",
    "    'Fruit': ['Banana', 'Orange', 'Apple', 'Celery', 'Apple', 'Orange'],\n",
    "    'Num': [22.1, 8.6, 7.6, 10.2, 22.1, 8.6],\n",
    "    'Color': ['Yellow','Orange','Green','Green','Red','Orange']\n",
    "})\n",
    "\n",
    "dates_test = []\n",
    "for i in range(1,7):\n",
    "    if i <=4:\n",
    "        dates_test.append(pd.Timestamp('20170812'))\n",
    "    else:\n",
    "        dates_test.append(pd.Timestamp('20170813')) \n",
    "\n",
    "df2_test.insert(0, 'Date', dates_test)\n",
    "# print(dates_test)\n",
    "print(df2_test)\n",
    "print(df1_test)\n",
    "\n",
    "df_merge_test = pd.concat([df1_test, df2_test])\n",
    "print(df_merge_test)\n",
    "\n",
    "df_merge_test = df_merge_test.reset_index(drop = True) #pd.concat([df1_test, df2_test], ignore_index=True) could get the same effect\n",
    "print(df_merge_test)\n",
    "\n",
    "print (list(df_merge_test)) #Same as list(df_merge_test.columns) \n",
    "df_gpby = df_merge_test.groupby(list(df_merge_test))\n",
    "# print(df_gpby.groups)\n",
    "print(df_gpby.groups.values())\n",
    "# print(df_gpby.count())\n",
    "\n",
    "# for x in df_gpby.groups.values():\n",
    "#     print(x)\n",
    "idx = [x[0] for x in df_gpby.groups.values() if len(x) == 1]\n",
    "print(idx)\n",
    "\n",
    "df_merge_test.reindex(idx)"
   ]
  },
  {
   "cell_type": "markdown",
   "metadata": {
    "collapsed": true
   },
   "source": []
  }
 ],
 "metadata": {
  "kernelspec": {
   "display_name": "Python 3",
   "language": "python",
   "name": "python3"
  },
  "language_info": {
   "codemirror_mode": {
    "name": "ipython",
    "version": 3
   },
   "file_extension": ".py",
   "mimetype": "text/x-python",
   "name": "python",
   "nbconvert_exporter": "python",
   "pygments_lexer": "ipython3",
   "version": "3.6.1"
  }
 },
 "nbformat": 4,
 "nbformat_minor": 2
}
