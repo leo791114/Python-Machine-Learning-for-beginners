{
 "cells": [
  {
   "cell_type": "markdown",
   "metadata": {},
   "source": [
    " <h1 style=\"color: red\">Numpy for Beginners</h1>"
   ]
  },
  {
   "cell_type": "code",
   "execution_count": 2,
   "metadata": {
    "collapsed": true
   },
   "outputs": [],
   "source": [
    "import numpy as np  #Import numpy"
   ]
  },
  {
   "cell_type": "code",
   "execution_count": 3,
   "metadata": {
    "collapsed": true
   },
   "outputs": [],
   "source": [
    "array = np.array([[1,2,3],[4,5,6]])  #Create a two-dimensional array"
   ]
  },
  {
   "cell_type": "code",
   "execution_count": 4,
   "metadata": {},
   "outputs": [
    {
     "name": "stdout",
     "output_type": "stream",
     "text": [
      "[[1 2 3]\n",
      " [4 5 6]]\n",
      "Dim 2\n",
      "Shape (2, 3)\n",
      "Size 6\n"
     ]
    }
   ],
   "source": [
    "print(array)\n",
    "print('Dim', array.ndim)\n",
    "print('Shape', array.shape)\n",
    "print('Size', array.size)"
   ]
  },
  {
   "cell_type": "code",
   "execution_count": 5,
   "metadata": {},
   "outputs": [
    {
     "name": "stdout",
     "output_type": "stream",
     "text": [
      "[1 2 3 4 5]\n",
      "[[ 2  4  6]\n",
      " [ 8 10 12]]\n",
      "\n",
      "\n",
      "[ 0.  0.  0.  0.  0.  0.]\n",
      "float64\n",
      "\n",
      "\n",
      "[1 1 1 1 1 1]\n",
      "int32\n",
      "\n",
      "\n",
      "[[ 0.30715156  0.25095173  0.09967554]\n",
      " [ 0.02147894  0.00365249  0.60188113]]\n",
      "\n",
      "\n",
      "[1 2 3 4 5]\n",
      "[[ 2  4  6]\n",
      " [ 8 10 12]]\n",
      "[ 0.  0.  0.  0.  0.  0.]\n",
      "[1 1 1 1 1 1]\n",
      "[[ 0.30715156  0.25095173  0.09967554]\n",
      " [ 0.02147894  0.00365249  0.60188113]]\n"
     ]
    }
   ],
   "source": [
    "a = np.array([1,2,3,4,5])\n",
    "b = np.arange(2,14,2).reshape((2,3))#Create an array from two to twelve, not included, with step of two\n",
    "                                    #.reshape() reshape the array for 1*6 to 2*3\n",
    "print(a)\n",
    "print(b)\n",
    "c = np.zeros(6) #Create an array with six floating 0.\n",
    "print('\\n')\n",
    "print(c)\n",
    "print(c.dtype)\n",
    "d = np.ones(6, dtype = np.int) #Create an array with six integer 1.\n",
    "print('\\n')\n",
    "print(d)\n",
    "print(d.dtype)\n",
    "e = np.random.random((2,3)) #Create an 2*3 array with elements that are randomly picked between 0 to 1.\n",
    "# np.random.random() v.s. np.random.rand()\n",
    "print('\\n')\n",
    "print(e)\n",
    "#f = b-a\n",
    "print('\\n')\n",
    "# print(f)\n",
    "\n",
    "print(a,b,c,d,e,sep='\\n')\n",
    "# print(a,b,c,d,e,f, sep='\\n')\n",
    "#print(f<-9)\n",
    "#print(f==5)"
   ]
  },
  {
   "cell_type": "code",
   "execution_count": 6,
   "metadata": {},
   "outputs": [
    {
     "name": "stdout",
     "output_type": "stream",
     "text": [
      "[[ 3  6  9]\n",
      " [12 15 18]]\n",
      "63\n",
      "[18 45]\n",
      "[15 21 27]\n"
     ]
    }
   ],
   "source": [
    "a = np.array([[3,6,9],[12,15,18]])\n",
    "print(a)\n",
    "print(np.sum(a))\n",
    "print(np.sum(a, axis=1)) #add all elements on the basis of row\n",
    "print(np.sum(a, axis=0)) #add all elements on the basis of column"
   ]
  },
  {
   "cell_type": "code",
   "execution_count": 7,
   "metadata": {},
   "outputs": [
    {
     "name": "stdout",
     "output_type": "stream",
     "text": [
      "[[ 2  4  6]\n",
      " [ 8 10 12]]\n",
      "[[0 1 2]\n",
      " [3 4 5]]\n",
      "[[2 3 4]\n",
      " [5 6 7]]\n",
      "[[ 0  4 12]\n",
      " [24 40 60]]\n",
      "\n",
      "\n",
      "[[0 3]\n",
      " [1 4]\n",
      " [2 5]]\n",
      "[[ 16  52]\n",
      " [ 34 124]]\n"
     ]
    }
   ],
   "source": [
    "a = np.array([[2,4,6],[8,10,12]])\n",
    "b = np.arange(6).reshape((2,3))\n",
    "print(a,b,a-b,a*b, sep='\\n') #* is normal multiplication\n",
    "print('\\n')\n",
    "print(b.T) #transpose\n",
    "print(np.dot(a,b.T)) # This is array multiplication"
   ]
  },
  {
   "cell_type": "code",
   "execution_count": 8,
   "metadata": {},
   "outputs": [
    {
     "name": "stdout",
     "output_type": "stream",
     "text": [
      "[[1 1 1]\n",
      " [2 2 2]]\n",
      "[1 1 1 2 2 2]\n"
     ]
    }
   ],
   "source": [
    "#Merge\n",
    "A = np.array([1,1,1])\n",
    "B = np.array([2,2,2])\n",
    "print(np.vstack((A,B))) #vertical merge\n",
    "print(np.hstack((A,B))) #horizontal merge"
   ]
  },
  {
   "cell_type": "code",
   "execution_count": 9,
   "metadata": {
    "scrolled": true
   },
   "outputs": [
    {
     "name": "stdout",
     "output_type": "stream",
     "text": [
      "[[ 0  1  2  3]\n",
      " [ 4  5  6  7]\n",
      " [ 8  9 10 11]]\n",
      "[array([[0, 1, 2, 3]]), array([[4, 5, 6, 7]]), array([[ 8,  9, 10, 11]])]\n",
      "[array([[0, 1],\n",
      "       [4, 5],\n",
      "       [8, 9]]), array([[ 2,  3],\n",
      "       [ 6,  7],\n",
      "       [10, 11]])]\n"
     ]
    }
   ],
   "source": [
    "#Split\n",
    "a = np.arange(12).reshape((3,4))\n",
    "print(a)\n",
    "print(np.vsplit(a,3)) #Vertically split the array into 3 new arrays\n",
    "print(np.hsplit(a,2)) #Horizontally split the array into 2 new arrays"
   ]
  },
  {
   "cell_type": "markdown",
   "metadata": {},
   "source": [
    "<h1 style=\"color: red\">Pandas for Beginners</h1>"
   ]
  },
  {
   "cell_type": "markdown",
   "metadata": {},
   "source": [
    "<h3 style=\"color:blue\">Series</h3>"
   ]
  },
  {
   "cell_type": "code",
   "execution_count": 10,
   "metadata": {},
   "outputs": [
    {
     "name": "stdout",
     "output_type": "stream",
     "text": [
      "0      1\n",
      "1    abc\n",
      "2      6\n",
      "3    NaN\n",
      "4     44\n",
      "5      1\n",
      "dtype: object\n",
      "['1' 'abc' '6' 'nan' '44' '1']\n"
     ]
    }
   ],
   "source": [
    "import pandas as pd\n",
    "s = pd.Series([1,'abc','6',np.nan,44,1])\n",
    "a = np.array([1,'abc','6',np.nan,44,1])\n",
    "# print(t)\n",
    "print(s)\n",
    "print(a)"
   ]
  },
  {
   "cell_type": "markdown",
   "metadata": {},
   "source": [
    " <h3 style=\"color: blue\">DataFrame</h3> "
   ]
  },
  {
   "cell_type": "code",
   "execution_count": 11,
   "metadata": {},
   "outputs": [
    {
     "name": "stdout",
     "output_type": "stream",
     "text": [
      "0.4537137757378721\n",
      "-0.1820053938834547\n",
      "          0         1         2\n",
      "0 -0.019492 -2.204447  0.238707\n",
      "1 -0.535203 -2.631062  0.838815\n",
      "2  0.155692 -1.734995 -0.792214\n",
      "3  0.526583  1.590084  0.198257\n",
      "4 -0.213413  2.619688 -0.488186\n",
      "5  0.944478 -0.205602 -1.304392\n",
      "6 -1.141312 -0.161322 -0.095821\n"
     ]
    }
   ],
   "source": [
    "#Method one: use array to create DataFrame\n",
    "print(np.random.random()) # np.random.random returns random floats in the half-open interval [0 1)\n",
    "print(np.random.randn()) # np.random.randn returns random floats sampled from a univariate nomal distribution\n",
    "\n",
    "\n",
    "df = pd.DataFrame(np.random.randn(7,3))\n",
    "print(df)"
   ]
  },
  {
   "cell_type": "code",
   "execution_count": 12,
   "metadata": {},
   "outputs": [
    {
     "name": "stdout",
     "output_type": "stream",
     "text": [
      "[[85 85 70]\n",
      " [65 80 65]\n",
      " [75 60 60]\n",
      " [90 80 90]\n",
      " [90 75 95]\n",
      " [70 55 55]\n",
      " [70 70 80]]\n",
      "DatetimeIndex(['2017-08-12', '2017-08-13', '2017-08-14', '2017-08-15',\n",
      "               '2017-08-16', '2017-08-17', '2017-08-18'],\n",
      "              dtype='datetime64[ns]', freq='D')\n",
      "    0   1   2\n",
      "0  85  85  70\n",
      "1  65  80  65\n",
      "2  75  60  60\n",
      "3  90  80  90\n",
      "4  90  75  95\n",
      "5  70  55  55\n",
      "6  70  70  80\n",
      "            Breakfast  Lunch  Dinner\n",
      "2017-08-12         85     85      70\n",
      "2017-08-13         65     80      65\n",
      "2017-08-14         75     60      60\n",
      "2017-08-15         90     80      90\n",
      "2017-08-16         90     75      95\n",
      "2017-08-17         70     55      55\n",
      "2017-08-18         70     70      80\n"
     ]
    }
   ],
   "source": [
    "#Method one: use array to create DataFrame\n",
    "eat = np.random.randint(10, size=(7,3))*5+50\n",
    "print(eat)\n",
    "dates = pd.date_range('20170812', periods=7)\n",
    "print(dates)\n",
    "# print(np.dtype(dates))\n",
    "df0 = pd.DataFrame(eat)\n",
    "print(df0)\n",
    "df1 = pd.DataFrame(eat, index=dates, columns=['Breakfast', 'Lunch', 'Dinner'])\n",
    "print(df1)"
   ]
  },
  {
   "cell_type": "code",
   "execution_count": 13,
   "metadata": {},
   "outputs": [
    {
     "name": "stdout",
     "output_type": "stream",
     "text": [
      "  Category  Decimal  Integer       Time\n",
      "0     test      1.0        3 2017-08-12\n",
      "1    train      3.0        3 2017-08-12\n",
      "2     test      6.0        3 2017-08-12\n",
      "3    train      4.0        3 2017-08-12\n",
      "        Time  Integer  Decimal Category\n",
      "0 2017-08-12        3      1.0     test\n",
      "1 2017-08-12        3      3.0    train\n",
      "2 2017-08-12        3      6.0     test\n",
      "3 2017-08-12        3      4.0    train\n",
      "  Category  Decimal  Integer       Time\n",
      "0     test      1.0        3 2017-08-12\n",
      "1    train      3.0        3 2017-08-12\n",
      "3    train      4.0        3 2017-08-12\n",
      "2     test      6.0        3 2017-08-12\n"
     ]
    }
   ],
   "source": [
    "#Method two: use dictionary to create DataFrame\n",
    "df2 = pd.DataFrame({'Decimal': pd.Series([1,3,6,4], index=list(range(4)), dtype='float32'),\n",
    "                   'Integer': np.array([3]*4, dtype='int32'),\n",
    "                   'Time': pd.Timestamp('20170812'),\n",
    "                   'Category': pd.Categorical(['test','train','test','train'])})\n",
    "x = pd.Series(1,index=list(range(4)), dtype='float32')\n",
    "# print(x)\n",
    "y = np.array([3]*4, dtype='int32')\n",
    "#print(y)\n",
    "z = pd.Timestamp('20170816')\n",
    "#print(z)\n",
    "k = pd.Categorical(['test','train','test','train'])\n",
    "# print(k)\n",
    "print(df2)\n",
    "#print(df2.dtypes)\n",
    "#print(df2.index)\n",
    "#print(df2.columns)\n",
    "#print(df2.values)\n",
    "#print(df2.T)\n",
    "print(df2.sort_index(axis=1,ascending=False)) #axis=1 takes columns as sorting index\n",
    "print(df2.sort_values(by='Decimal'))"
   ]
  },
  {
   "cell_type": "code",
   "execution_count": 14,
   "metadata": {},
   "outputs": [
    {
     "name": "stdout",
     "output_type": "stream",
     "text": [
      "            Breakfast  Lunch  Dinner\n",
      "2017-08-12         85     85      70\n",
      "2017-08-13         65     80      65\n",
      "2017-08-14         75     60      60\n",
      "2017-08-15         90     80      90\n",
      "2017-08-16         90     75      95\n",
      "2017-08-17         70     55      55\n",
      "2017-08-18         70     70      80\n",
      "\n",
      "\n",
      "2017-08-12    85\n",
      "2017-08-13    80\n",
      "2017-08-14    60\n",
      "2017-08-15    80\n",
      "2017-08-16    75\n",
      "2017-08-17    55\n",
      "2017-08-18    70\n",
      "Freq: D, Name: Lunch, dtype: int32\n",
      "\n",
      "\n",
      "            Breakfast  Lunch  Dinner\n",
      "2017-08-12         85     85      70\n",
      "2017-08-13         65     80      65\n",
      "2017-08-14         75     60      60\n"
     ]
    }
   ],
   "source": [
    "# Pandas: Selecting data\n",
    "print(df1)\n",
    "print('\\n')\n",
    "print(df1['Lunch'])\n",
    "print('\\n')\n",
    "print(df1[0:3])"
   ]
  },
  {
   "cell_type": "code",
   "execution_count": 15,
   "metadata": {},
   "outputs": [
    {
     "name": "stdout",
     "output_type": "stream",
     "text": [
      "            Breakfast  Lunch  Dinner\n",
      "2017-08-12         85     85      70\n",
      "2017-08-13         65     80      65\n",
      "2017-08-14         75     60      60\n",
      "2017-08-15         90     80      90\n",
      "2017-08-16         90     75      95\n",
      "2017-08-17         70     55      55\n",
      "2017-08-18         70     70      80\n",
      "Breakfast    85\n",
      "Lunch        85\n",
      "Dinner       70\n",
      "Name: 2017-08-12 00:00:00, dtype: int32\n",
      "            Breakfast  Lunch\n",
      "2017-08-13         65     80\n",
      "2017-08-14         75     60\n",
      "2017-08-15         90     80\n",
      "2017-08-16         90     75\n",
      "\n",
      "\n",
      "80\n",
      "            Lunch  Dinner\n",
      "2017-08-15     80      90\n",
      "2017-08-16     75      95\n",
      "\n",
      "\n",
      "            Lunch  Dinner\n",
      "2017-08-12     85      70\n",
      "2017-08-13     80      65\n",
      "2017-08-14     60      60\n"
     ]
    },
    {
     "name": "stderr",
     "output_type": "stream",
     "text": [
      "C:\\Anaconda3\\lib\\site-packages\\ipykernel_launcher.py:11: DeprecationWarning: \n",
      ".ix is deprecated. Please use\n",
      ".loc for label based indexing or\n",
      ".iloc for positional indexing\n",
      "\n",
      "See the documentation here:\n",
      "http://pandas.pydata.org/pandas-docs/stable/indexing.html#deprecate_ix\n",
      "  # This is added back by InteractiveShellApp.init_path()\n"
     ]
    }
   ],
   "source": [
    "print(df1)\n",
    "# Pandas: Selecting data by label (refer to the label and not the position)\n",
    "print(df1.loc['20170812'])\n",
    "print(df1.loc['20170813':'20170816',['Breakfast','Lunch']])\n",
    "print('\\n')\n",
    "# Pandas: Selecting data by position\n",
    "print(df1.iloc[3,1])\n",
    "print(df1.iloc[3:5,1:3])\n",
    "print('\\n')\n",
    "# Pandas: Selecting data by ix\n",
    "print(df1.ix[:3,['Lunch','Dinner']])"
   ]
  },
  {
   "cell_type": "code",
   "execution_count": 16,
   "metadata": {},
   "outputs": [
    {
     "name": "stdout",
     "output_type": "stream",
     "text": [
      "            Breakfast  Lunch  Dinner\n",
      "2017-08-12         85     85      70\n"
     ]
    }
   ],
   "source": [
    "# Pandas: Conditional expression\n",
    "print(df1[df1.Lunch > 80])"
   ]
  },
  {
   "cell_type": "code",
   "execution_count": 17,
   "metadata": {},
   "outputs": [
    {
     "name": "stdout",
     "output_type": "stream",
     "text": [
      "            Breakfast  Lunch  Dinner\n",
      "2017-08-12         85     85      70\n",
      "            Breakfast  Lunch  Dinner\n",
      "2017-08-12         85   85.0      70\n",
      "2017-08-13         65   80.0      65\n",
      "2017-08-14         75    NaN      60\n",
      "2017-08-15         90   80.0      90\n",
      "2017-08-16         90   75.0      95\n",
      "2017-08-17         70   55.0      55\n",
      "2017-08-18         70   70.0      80\n",
      "Breakfast      int32\n",
      "Lunch        float64\n",
      "Dinner         int32\n",
      "dtype: object\n"
     ]
    }
   ],
   "source": [
    "# Pandas: Re-assign data\n",
    "#df1.Dinner[df1.Lunch>80]=40  --> this method Pandas would select df1.Dinner first, and then returns\n",
    "#a DataFrame that is singly-indexed. Then, another python operation df1_dinner[df1.Lunch>80] will\n",
    "#happens. THis is because pandas sees these operations as separate events.\n",
    "df1.loc[:,['Dinner']][df1.Lunch>80] = 40\n",
    "print(df1[df1.Lunch>80])\n",
    "df1.loc['20170814','Lunch'] = np.nan\n",
    "print(df1)\n",
    "print(df1.dtypes)"
   ]
  },
  {
   "cell_type": "code",
   "execution_count": 18,
   "metadata": {},
   "outputs": [
    {
     "name": "stdout",
     "output_type": "stream",
     "text": [
      "            Breakfast  Lunch  Dinner\n",
      "2017-08-12      False  False   False\n",
      "2017-08-13      False  False   False\n",
      "2017-08-14      False   True   False\n",
      "2017-08-15      False  False   False\n",
      "2017-08-16      False  False   False\n",
      "2017-08-17      False  False   False\n",
      "2017-08-18      False  False   False\n"
     ]
    },
    {
     "data": {
      "text/plain": [
       "Breakfast    0\n",
       "Lunch        1\n",
       "Dinner       0\n",
       "dtype: int64"
      ]
     },
     "execution_count": 18,
     "metadata": {},
     "output_type": "execute_result"
    }
   ],
   "source": [
    "# Pandas: Dealing with missing values\n",
    "print(df1.isnull())\n",
    "df1.isnull().sum()"
   ]
  },
  {
   "cell_type": "code",
   "execution_count": 19,
   "metadata": {},
   "outputs": [
    {
     "data": {
      "text/html": [
       "<div>\n",
       "<style>\n",
       "    .dataframe thead tr:only-child th {\n",
       "        text-align: right;\n",
       "    }\n",
       "\n",
       "    .dataframe thead th {\n",
       "        text-align: left;\n",
       "    }\n",
       "\n",
       "    .dataframe tbody tr th {\n",
       "        vertical-align: top;\n",
       "    }\n",
       "</style>\n",
       "<table border=\"1\" class=\"dataframe\">\n",
       "  <thead>\n",
       "    <tr style=\"text-align: right;\">\n",
       "      <th></th>\n",
       "      <th>Breakfast</th>\n",
       "      <th>Lunch</th>\n",
       "      <th>Dinner</th>\n",
       "    </tr>\n",
       "  </thead>\n",
       "  <tbody>\n",
       "    <tr>\n",
       "      <th>2017-08-12</th>\n",
       "      <td>85</td>\n",
       "      <td>85.0</td>\n",
       "      <td>70</td>\n",
       "    </tr>\n",
       "    <tr>\n",
       "      <th>2017-08-13</th>\n",
       "      <td>65</td>\n",
       "      <td>80.0</td>\n",
       "      <td>65</td>\n",
       "    </tr>\n",
       "    <tr>\n",
       "      <th>2017-08-14</th>\n",
       "      <td>75</td>\n",
       "      <td>0.0</td>\n",
       "      <td>60</td>\n",
       "    </tr>\n",
       "    <tr>\n",
       "      <th>2017-08-15</th>\n",
       "      <td>90</td>\n",
       "      <td>80.0</td>\n",
       "      <td>90</td>\n",
       "    </tr>\n",
       "    <tr>\n",
       "      <th>2017-08-16</th>\n",
       "      <td>90</td>\n",
       "      <td>75.0</td>\n",
       "      <td>95</td>\n",
       "    </tr>\n",
       "    <tr>\n",
       "      <th>2017-08-17</th>\n",
       "      <td>70</td>\n",
       "      <td>55.0</td>\n",
       "      <td>55</td>\n",
       "    </tr>\n",
       "    <tr>\n",
       "      <th>2017-08-18</th>\n",
       "      <td>70</td>\n",
       "      <td>70.0</td>\n",
       "      <td>80</td>\n",
       "    </tr>\n",
       "  </tbody>\n",
       "</table>\n",
       "</div>"
      ],
      "text/plain": [
       "            Breakfast  Lunch  Dinner\n",
       "2017-08-12         85   85.0      70\n",
       "2017-08-13         65   80.0      65\n",
       "2017-08-14         75    0.0      60\n",
       "2017-08-15         90   80.0      90\n",
       "2017-08-16         90   75.0      95\n",
       "2017-08-17         70   55.0      55\n",
       "2017-08-18         70   70.0      80"
      ]
     },
     "execution_count": 19,
     "metadata": {},
     "output_type": "execute_result"
    }
   ],
   "source": [
    "# Panadas: Dealing with missing values --> replace them with 0\n",
    "df1.fillna(value=0)"
   ]
  },
  {
   "cell_type": "code",
   "execution_count": 20,
   "metadata": {},
   "outputs": [
    {
     "name": "stdout",
     "output_type": "stream",
     "text": [
      "            Breakfast  Lunch  Dinner\n",
      "2017-08-12         85   85.0      70\n",
      "2017-08-13         65   80.0      65\n",
      "2017-08-14         75    NaN      60\n",
      "2017-08-15         90   80.0      90\n",
      "2017-08-16         90   75.0      95\n",
      "2017-08-17         70   55.0      55\n",
      "2017-08-18         70   70.0      80\n"
     ]
    },
    {
     "data": {
      "text/html": [
       "<div>\n",
       "<style>\n",
       "    .dataframe thead tr:only-child th {\n",
       "        text-align: right;\n",
       "    }\n",
       "\n",
       "    .dataframe thead th {\n",
       "        text-align: left;\n",
       "    }\n",
       "\n",
       "    .dataframe tbody tr th {\n",
       "        vertical-align: top;\n",
       "    }\n",
       "</style>\n",
       "<table border=\"1\" class=\"dataframe\">\n",
       "  <thead>\n",
       "    <tr style=\"text-align: right;\">\n",
       "      <th></th>\n",
       "      <th>Breakfast</th>\n",
       "      <th>Lunch</th>\n",
       "      <th>Dinner</th>\n",
       "    </tr>\n",
       "  </thead>\n",
       "  <tbody>\n",
       "    <tr>\n",
       "      <th>2017-08-12</th>\n",
       "      <td>85</td>\n",
       "      <td>85.0</td>\n",
       "      <td>70</td>\n",
       "    </tr>\n",
       "    <tr>\n",
       "      <th>2017-08-13</th>\n",
       "      <td>65</td>\n",
       "      <td>80.0</td>\n",
       "      <td>65</td>\n",
       "    </tr>\n",
       "    <tr>\n",
       "      <th>2017-08-15</th>\n",
       "      <td>90</td>\n",
       "      <td>80.0</td>\n",
       "      <td>90</td>\n",
       "    </tr>\n",
       "    <tr>\n",
       "      <th>2017-08-16</th>\n",
       "      <td>90</td>\n",
       "      <td>75.0</td>\n",
       "      <td>95</td>\n",
       "    </tr>\n",
       "    <tr>\n",
       "      <th>2017-08-17</th>\n",
       "      <td>70</td>\n",
       "      <td>55.0</td>\n",
       "      <td>55</td>\n",
       "    </tr>\n",
       "    <tr>\n",
       "      <th>2017-08-18</th>\n",
       "      <td>70</td>\n",
       "      <td>70.0</td>\n",
       "      <td>80</td>\n",
       "    </tr>\n",
       "  </tbody>\n",
       "</table>\n",
       "</div>"
      ],
      "text/plain": [
       "            Breakfast  Lunch  Dinner\n",
       "2017-08-12         85   85.0      70\n",
       "2017-08-13         65   80.0      65\n",
       "2017-08-15         90   80.0      90\n",
       "2017-08-16         90   75.0      95\n",
       "2017-08-17         70   55.0      55\n",
       "2017-08-18         70   70.0      80"
      ]
     },
     "execution_count": 20,
     "metadata": {},
     "output_type": "execute_result"
    }
   ],
   "source": [
    "# Panadas: Dealing with missing values --> erase the missing values\n",
    "print(df1)\n",
    "df1.dropna(\n",
    "    axis=0,    #0: operates under the base of row; 1: operates under the base of column\n",
    "    how='any'  #'any':Drop the whole row or column if there is any NaN value.\n",
    "               #'all':Drop the whole row or column if the values in the row or column are all NaN.\n",
    ")"
   ]
  },
  {
   "cell_type": "code",
   "execution_count": 21,
   "metadata": {},
   "outputs": [
    {
     "name": "stdout",
     "output_type": "stream",
     "text": [
      "            Breakfast  Lunch  Dinner\n",
      "2017-08-12         85   85.0      70\n",
      "2017-08-13         65   80.0      65\n",
      "2017-08-14         75    NaN      60\n",
      "2017-08-15         90   80.0      90\n",
      "2017-08-16         90   75.0      95\n",
      "2017-08-17         70   55.0      55\n",
      "2017-08-18         70   70.0      80\n"
     ]
    },
    {
     "data": {
      "text/html": [
       "<div>\n",
       "<style>\n",
       "    .dataframe thead tr:only-child th {\n",
       "        text-align: right;\n",
       "    }\n",
       "\n",
       "    .dataframe thead th {\n",
       "        text-align: left;\n",
       "    }\n",
       "\n",
       "    .dataframe tbody tr th {\n",
       "        vertical-align: top;\n",
       "    }\n",
       "</style>\n",
       "<table border=\"1\" class=\"dataframe\">\n",
       "  <thead>\n",
       "    <tr style=\"text-align: right;\">\n",
       "      <th></th>\n",
       "      <th>Breakfast</th>\n",
       "      <th>Lunch</th>\n",
       "      <th>Dinner</th>\n",
       "    </tr>\n",
       "  </thead>\n",
       "  <tbody>\n",
       "    <tr>\n",
       "      <th>2017-08-12</th>\n",
       "      <td>85</td>\n",
       "      <td>85.0</td>\n",
       "      <td>70</td>\n",
       "    </tr>\n",
       "    <tr>\n",
       "      <th>2017-08-13</th>\n",
       "      <td>65</td>\n",
       "      <td>80.0</td>\n",
       "      <td>65</td>\n",
       "    </tr>\n",
       "    <tr>\n",
       "      <th>2017-08-14</th>\n",
       "      <td>75</td>\n",
       "      <td>NaN</td>\n",
       "      <td>60</td>\n",
       "    </tr>\n",
       "    <tr>\n",
       "      <th>2017-08-15</th>\n",
       "      <td>90</td>\n",
       "      <td>80.0</td>\n",
       "      <td>90</td>\n",
       "    </tr>\n",
       "    <tr>\n",
       "      <th>2017-08-16</th>\n",
       "      <td>90</td>\n",
       "      <td>75.0</td>\n",
       "      <td>95</td>\n",
       "    </tr>\n",
       "    <tr>\n",
       "      <th>2017-08-17</th>\n",
       "      <td>70</td>\n",
       "      <td>55.0</td>\n",
       "      <td>55</td>\n",
       "    </tr>\n",
       "    <tr>\n",
       "      <th>2017-08-18</th>\n",
       "      <td>70</td>\n",
       "      <td>70.0</td>\n",
       "      <td>80</td>\n",
       "    </tr>\n",
       "  </tbody>\n",
       "</table>\n",
       "</div>"
      ],
      "text/plain": [
       "            Breakfast  Lunch  Dinner\n",
       "2017-08-12         85   85.0      70\n",
       "2017-08-13         65   80.0      65\n",
       "2017-08-14         75    NaN      60\n",
       "2017-08-15         90   80.0      90\n",
       "2017-08-16         90   75.0      95\n",
       "2017-08-17         70   55.0      55\n",
       "2017-08-18         70   70.0      80"
      ]
     },
     "execution_count": 21,
     "metadata": {},
     "output_type": "execute_result"
    }
   ],
   "source": [
    "# Pandas: Other usages\n",
    "print(df1)\n",
    "df1.dropna(thresh=3)  #Keep only the rows with at least 3 non-na values\n",
    "df1.dropna(subset=['Breakfast']) #Only drops the rows or columns in the subset that have NaN value."
   ]
  },
  {
   "cell_type": "code",
   "execution_count": 22,
   "metadata": {},
   "outputs": [
    {
     "name": "stdout",
     "output_type": "stream",
     "text": [
      "[[ 85.  85.  70.]\n",
      " [ 65.  80.  65.]\n",
      " [ 75.  nan  60.]\n",
      " [ 90.  80.  90.]\n",
      " [ 90.  75.  95.]\n",
      " [ 70.  55.  55.]\n",
      " [ 70.  70.  80.]]\n",
      "float64\n",
      "[[ 85.          85.          70.        ]\n",
      " [ 65.          80.          65.        ]\n",
      " [ 75.          74.16666667  60.        ]\n",
      " [ 90.          80.          90.        ]\n",
      " [ 90.          75.          95.        ]\n",
      " [ 70.          55.          55.        ]\n",
      " [ 70.          70.          80.        ]]\n",
      "[[ 85.          85.          70.        ]\n",
      " [ 65.          80.          65.        ]\n",
      " [ 75.          74.16666667  60.        ]\n",
      " [ 90.          80.          90.        ]\n",
      " [ 90.          75.          95.        ]\n",
      " [ 70.          55.          55.        ]\n",
      " [ 70.          70.          80.        ]]\n"
     ]
    }
   ],
   "source": [
    "# Pandas: Dealing with missing values --> interpolation\n",
    "from sklearn.preprocessing import Imputer\n",
    "# print(df1.dtypes)\n",
    "print(df1.values)\n",
    "print(df1.values.dtype)\n",
    "# print(df1.values.dtypes)\n",
    "imr = Imputer(missing_values='NaN', strategy='mean', axis=0) #axis = 0 for columns, axis = 1 for rows\n",
    "imr_2 = Imputer(missing_values='NaN', strategy='mean', axis=0)\n",
    "imr = imr.fit(df1)\n",
    "imputed_data = imr.transform(df1.values)\n",
    "imputed_data_2 = imr_2.fit_transform(df1) #fit + transform\n",
    "print(imputed_data)\n",
    "print(imputed_data_2)\n"
   ]
  },
  {
   "cell_type": "code",
   "execution_count": 23,
   "metadata": {},
   "outputs": [
    {
     "name": "stdout",
     "output_type": "stream",
     "text": [
      "          Date     Value\n",
      "0   2016-10-31  2.227171\n",
      "1   2016-09-30  2.800478\n",
      "2   2016-08-31  3.697997\n",
      "3   2016-07-31  2.441189\n",
      "4   2016-06-30  2.861789\n",
      "5   2016-05-31  3.001133\n",
      "6   2016-04-30  2.935780\n",
      "7   2016-02-29  2.857551\n",
      "8   2016-01-31  3.194591\n",
      "9   2015-12-31  3.394777\n",
      "10  2015-11-30  3.353293\n",
      "11  2015-10-31  2.536585\n",
      "12  2015-09-30  3.629032\n",
      "13  2015-08-31  4.414391\n",
      "14  2015-02-28  4.705882\n",
      "15  2015-01-31  5.079365\n",
      "16  2014-12-31  5.128205\n",
      "17  2014-11-30  4.762661\n",
      "18  2014-10-31  4.008016\n",
      "19  2014-09-30  4.220779\n",
      "20  2014-08-31  4.210526\n",
      "21  2014-07-31  5.630631\n",
      "22  2014-06-30  5.265929\n",
      "23  2014-05-31  5.265929\n",
      "24  2014-04-30  4.255319\n",
      "25  2014-03-31  4.445432\n",
      "26  2014-02-28  4.273504\n",
      "27  2014-01-31  4.005340\n",
      "28  2013-12-31  4.005340\n",
      "29  2013-11-30  4.471545\n",
      "..         ...       ...\n",
      "45  2012-07-31  4.079184\n",
      "46  2012-06-30  3.940887\n",
      "47  2012-05-31  4.545455\n",
      "48  2012-04-30  4.123288\n",
      "49  2012-03-31  4.155844\n",
      "50  2012-02-29  5.357143\n",
      "51  2012-01-31  6.481069\n",
      "52  2011-12-31  5.257143\n",
      "53  2011-11-30  4.762661\n",
      "54  2011-10-31  5.591398\n",
      "55  2011-09-30  4.692388\n",
      "56  2011-08-31  5.277045\n",
      "57  2011-07-31  5.472779\n",
      "58  2011-06-30  4.492754\n",
      "59  2011-05-31  4.166667\n",
      "60  2011-04-30  4.444444\n",
      "61  2011-03-31  4.160000\n",
      "62  2011-02-28  4.623116\n",
      "63  2011-01-31  4.623116\n",
      "64  2010-12-31  5.012531\n",
      "65  2010-11-30  3.849115\n",
      "66  2010-10-31  4.555809\n",
      "67  2010-09-30  5.185185\n",
      "68  2010-08-31  4.880429\n",
      "69  2010-07-31  4.545455\n",
      "70  2010-06-30  4.255319\n",
      "71  2010-05-31  4.762857\n",
      "72  2010-04-30  5.660377\n",
      "73  2010-03-31  5.320334\n",
      "74  2010-02-28  5.691982\n",
      "\n",
      "[75 rows x 2 columns]\n",
      "               0           1           2           3           4           5   \\\n",
      "Date   2016-10-31  2016-09-30  2016-08-31  2016-07-31  2016-06-30  2016-05-31   \n",
      "Value     2.22717     2.80048       3.698     2.44119     2.86179     3.00113   \n",
      "\n",
      "               6           7           8           9      ...              65  \\\n",
      "Date   2016-04-30  2016-02-29  2016-01-31  2015-12-31     ...      2010-11-30   \n",
      "Value     2.93578     2.85755     3.19459     3.39478     ...         3.84911   \n",
      "\n",
      "               66          67          68          69          70          71  \\\n",
      "Date   2010-10-31  2010-09-30  2010-08-31  2010-07-31  2010-06-30  2010-05-31   \n",
      "Value     4.55581     5.18519     4.88043     4.54545     4.25532     4.76286   \n",
      "\n",
      "               72          73          74  \n",
      "Date   2010-04-30  2010-03-31  2010-02-28  \n",
      "Value     5.66038     5.32033     5.69198  \n",
      "\n",
      "[2 rows x 75 columns]\n"
     ]
    }
   ],
   "source": [
    "# Pandas: load file\n",
    "\n",
    "#load csv file\n",
    "data = pd.read_csv('nescsv2.csv')\n",
    "print(data)\n",
    "data = data.T\n",
    "print(data)\n",
    "data.to_csv('nescsv2_transpose.csv')\n"
   ]
  },
  {
   "cell_type": "code",
   "execution_count": 24,
   "metadata": {},
   "outputs": [
    {
     "name": "stdout",
     "output_type": "stream",
     "text": [
      "     a    b    c    d\n",
      "0  0.0  0.0  0.0  0.0\n",
      "1  0.0  0.0  0.0  0.0\n",
      "2  0.0  0.0  0.0  0.0\n",
      "3  1.0  1.0  1.0  1.0\n",
      "4  1.0  1.0  1.0  1.0\n",
      "5  1.0  1.0  1.0  1.0\n",
      "6  2.0  2.0  2.0  2.0\n",
      "7  2.0  2.0  2.0  2.0\n",
      "8  2.0  2.0  2.0  2.0\n",
      "Index(['a', 'b', 'c', 'd'], dtype='object')\n",
      "RangeIndex(start=0, stop=3, step=1)\n",
      "     a    b    c    d    e\n",
      "1  0.0  0.0  0.0  0.0  NaN\n",
      "2  0.0  0.0  0.0  0.0  NaN\n",
      "3  0.0  0.0  0.0  0.0  NaN\n",
      "2  NaN  1.0  1.0  1.0  1.0\n",
      "3  NaN  1.0  1.0  1.0  1.0\n",
      "4  NaN  1.0  1.0  1.0  1.0\n",
      "['b', 'c', 'd']\n",
      "     b    c    d\n",
      "0  0.0  0.0  0.0\n",
      "1  0.0  0.0  0.0\n",
      "2  0.0  0.0  0.0\n",
      "3  1.0  1.0  1.0\n",
      "4  1.0  1.0  1.0\n",
      "5  1.0  1.0  1.0\n",
      "<pandas.core.groupby.DataFrameGroupBy object at 0x0D6E49D0>\n",
      "{(0.0, 0.0): Int64Index([0, 1, 2], dtype='int64'), (1.0, 1.0): Int64Index([3, 4, 5], dtype='int64')}\n",
      "dict_values([Int64Index([0, 1, 2], dtype='int64'), Int64Index([3, 4, 5], dtype='int64')])\n"
     ]
    }
   ],
   "source": [
    "# Pandas concat DataFrame\n",
    "\n",
    "#concat\n",
    "\n",
    "df1_concat = pd.DataFrame(np.ones((3,4))*0, columns=['a','b','c','d'])\n",
    "df2_concat = pd.DataFrame(np.ones((3,4))*1, columns=['a','b','c','d'])\n",
    "df3_concat = pd.DataFrame(np.ones((3,4))*2, columns=['a','b','c','d'])\n",
    "# print(df1_concat, df2_concat, df3_concat,sep='\\n')\n",
    "res = pd.concat([df1_concat, df2_concat, df3_concat], axis = 0, ignore_index = True)\n",
    "# print('\\n')\n",
    "print(res)\n",
    "# print('\\n')\n",
    "print(df1_concat.columns)\n",
    "print(df1_concat.index)\n",
    "\n",
    "#join: {'inner', 'outer'}\n",
    "df4_concat = pd.DataFrame(np.ones((3,4))*0, columns=['a','b','c','d'],index=[1,2,3])\n",
    "df5_concat = pd.DataFrame(np.ones((3,4))*1, columns=['b','c','d','e'],index=[2,3,4])\n",
    "res_outer = pd.concat([df4_concat, df5_concat], axis=0, join='outer', ignore_index=False) #join default is outer\n",
    "res_inner = pd.concat([df4_concat, df5_concat], axis=0, join='inner', ignore_index=False)\n",
    "\n",
    "print(res_outer)\n",
    "\n",
    "res_reset = res_inner.reset_index(drop=True)\n",
    "print(list(res_reset.columns)) # Same as print(list(res_reset))\n",
    "print(res_reset)\n",
    "print(res_reset.groupby(['b','c']))\n",
    "print(res_reset.groupby(['b','c']).groups)\n",
    "print(res_reset.groupby(['b','c']).groups.values())\n",
    "# print(res_outer, res_inner, sep='\\n')\n",
    "# print(diff_inner_outer)"
   ]
  },
  {
   "cell_type": "markdown",
   "metadata": {},
   "source": [
    "<h4 style='color: blue'>Pandas append DataFrame</h4>\n",
    "<span>DataFrame.<b>append</b>(other, ignore_index=False, verify_integrity=False)</span>\n",
    "<br>\n",
    "<p>Append rows of <i>other</i> to the end of this frame, returning a new object. Columns not in this frame are added as new columns</p>\n",
    "<br>\n",
    "<table align=\"left\">\n",
    "    <tr style=\"border-bottom: 5px solid white\">\n",
    "        <td style=\"border-right: 3px solid white\"><b>Parameters:</b></td>\n",
    "        <td align='left'>\n",
    "            <ul style=\"list-style: none; text-align: left; line-height: 2rem\">\n",
    "                <li><b>Other:</b>The data to append</li>\n",
    "                <li><b>ignore_index:</b>If True, do not use the index labels</li>\n",
    "                <li><b>verify_integrity:</b>If True, raise ValueError on creating index with duplicates</li>\n",
    "            <ul>\n",
    "        </td>\n",
    "    </tr>\n",
    "    <tr>\n",
    "        <td style=\"border-right: 3px solid white\"><b>Returns:</b></td>\n",
    "        <td align='left'>\n",
    "            <ul style=\"list-style: none; text-align: left; line-height: 2rem\">\n",
    "                <li><b>append:</b>DataFrame</li>\n",
    "            </ul>\n",
    "        </td>\n",
    "    </tr>\n",
    "</table>"
   ]
  },
  {
   "cell_type": "code",
   "execution_count": 25,
   "metadata": {},
   "outputs": [
    {
     "name": "stdout",
     "output_type": "stream",
     "text": [
      "     a    b    c    d    e\n",
      "0  0.0  0.0  0.0  0.0  NaN\n",
      "1  0.0  0.0  0.0  0.0  NaN\n",
      "2  0.0  0.0  0.0  0.0  NaN\n",
      "3  NaN  1.0  1.0  1.0  1.0\n",
      "4  NaN  1.0  1.0  1.0  1.0\n",
      "5  NaN  1.0  1.0  1.0  1.0\n"
     ]
    }
   ],
   "source": [
    "df1_append = pd.DataFrame(np.ones((3,4))*0, columns=['a','b','c','d'], index=[1,2,3])\n",
    "df2_append = pd.DataFrame(np.ones((3,4))*1, columns=['b','c','d','e'], index=[2,3,4])\n",
    "\n",
    "res_append = df1_append.append(df2_append, ignore_index=True)\n",
    "print(res_append)"
   ]
  },
  {
   "cell_type": "markdown",
   "metadata": {},
   "source": [
    "<h4 style='color: blue'>Pandas merge DataFrame</h4>\n",
    "<span>DataFrame.<b>merge</b>(right, how='inner', on=None, left_on=None, right_on=None, left_index=False, right_index=False, sort=False, suffixes=('_x','_y'), copy=True, indicator=False)</span>\n",
    "<br>\n",
    "<p>Merge DataFrame objects by performing a database-style join operation by columns or indexes</p>\n",
    "<br>\n",
    "<table align='left'>\n",
    "    <tr style=\"border-bottom: 5px solid white\">\n",
    "        <td style='border-right: 2px solid white'><b>Parameters:</b></td>\n",
    "        <td>\n",
    "            <ul style='list-style:none ; text-align: left; line-height: 2rem'>\n",
    "                <li><b>right:</b> DataFrame</li>\n",
    "                <li><b>how:</b> {'left','right','outer','inner'}, default 'inner'</li>\n",
    "                <li><b>on:</b> label or list</li>\n",
    "                <li><b>left_on:</b> label or list, or array-like</li>\n",
    "                <li><b>right_on:</b> label or list, or array-like</li>\n",
    "                <li><b>sort:</b> boolean, default False</li>\n",
    "                <li><b>suffixes:</b> 2-length sequence</li>\n",
    "                <li><b>copy:</b> boolean, default True</li>\n",
    "                <li><b>indicator:</b> boolean or string, default False</li>\n",
    "            </ul>\n",
    "        </td>\n",
    "    </tr>\n",
    "    <tr>\n",
    "        <td><b>Returns:</b></td>\n",
    "        <td>\n",
    "            <ul style='list-style:none; text-align: left; line-height: 2rem'>\n",
    "                <li><b>merged:</b> DataFrame</li>\n",
    "            </ul>\n",
    "        </td>\n",
    "    </tr>\n",
    "</table>"
   ]
  },
  {
   "cell_type": "code",
   "execution_count": 26,
   "metadata": {
    "scrolled": true
   },
   "outputs": [
    {
     "name": "stdout",
     "output_type": "stream",
     "text": [
      "    A   B key\n",
      "0  A0  B0  K0\n",
      "1  A1  B1  K1\n",
      "2  A2  B2  K2\n",
      "3  A3  B3  K3\n",
      "    C   D key\n",
      "0  C0  D0  K1\n",
      "1  C1  D1  K2\n",
      "2  C2  D2  K3\n",
      "3  C3  D3  K4\n",
      "\n",
      "\n",
      "    A   B key   C   D\n",
      "0  A1  B1  K1  C0  D0\n",
      "1  A2  B2  K2  C1  D1\n",
      "2  A3  B3  K3  C2  D2\n",
      "    A   B key_x   C   D key_y\n",
      "0  A0  B0    K0  C0  D0    K1\n",
      "1  A1  B1    K1  C1  D1    K2\n",
      "2  A2  B2    K2  C2  D2    K3\n",
      "3  A3  B3    K3  C3  D3    K4\n",
      "\n",
      "\n",
      "    A   B key1 key2\n",
      "0  A0  B0   K0   K0\n",
      "1  A1  B1   K1   K1\n",
      "2  A2  B2   K1   K0\n",
      "3  A3  B3   K2   K1\n",
      "    C   D key1 key2\n",
      "0  C0  D0   K0   K0\n",
      "1  C1  D1   K1   K0\n",
      "2  C2  D2   K1   K0\n",
      "3  C3  D3   K2   K0\n",
      "    A   B key1 key2   C   D\n",
      "0  A0  B0   K0   K0  C0  D0\n",
      "1  A2  B2   K1   K0  C1  D1\n",
      "2  A2  B2   K1   K0  C2  D2\n"
     ]
    }
   ],
   "source": [
    "left = pd.DataFrame({'key':['K0','K1','K2','K3'],\n",
    "                     'A':['A0','A1','A2','A3'],\n",
    "                     'B':['B0','B1','B2','B3']})\n",
    "right = pd.DataFrame({'key':['K1','K2','K3','K4'],\n",
    "                      'C':['C0','C1','C2','C3'],\n",
    "                      'D':['D0','D1','D2','D3']})\n",
    "\n",
    "print(left)\n",
    "print(right)\n",
    "print('\\n')\n",
    "res_merge_1 = left.merge(right, on='key')\n",
    "res_merge_2 = left.merge(right,how='inner',left_index=True,right_index=True) #Same as pd.merge(left,right,how='inner')\n",
    "print(res_merge_1)\n",
    "print(res_merge_2)\n",
    "print('\\n')\n",
    "\n",
    "# merge DataFrame base on [key1, key2].\n",
    "left_2 = pd.DataFrame({'key1':['K0','K1','K1','K2'],\n",
    "                      'key2':['K0','K1','K0','K1'],\n",
    "                      'A':['A0','A1','A2','A3'],\n",
    "                      'B':['B0','B1','B2','B3']})\n",
    "right_2 = pd.DataFrame({'key1':['K0','K1','K1','K2'],\n",
    "                        'key2':['K0','K0','K0','K0'],\n",
    "                        'C':['C0','C1','C2','C3'],\n",
    "                        'D':['D0','D1','D2','D3']})\n",
    "res_merge_3 = pd.merge(left_2, right_2, on=['key1','key2'], how='inner')\n",
    "print(left_2)\n",
    "print(right_2)\n",
    "print(res_merge_3)"
   ]
  },
  {
   "cell_type": "markdown",
   "metadata": {},
   "source": [
    "<h3 style='color: blue'>pandas & matplotlib.pyplot</h3>\n",
    "<br>\n",
    "<ol>\n",
    "    <li style=\"line-height: 1rem\">\n",
    "        <p>plt<b>.plot</b>(data)</p>\n",
    "        <p><b>PS:</b> If we provide a single list or array to the plot() command, matplotlib assumes it is a sequence\n",
    "        of y values, and automatically generates the x values for us.</p>\n",
    "    </li>\n"
   ]
  },
  {
   "cell_type": "code",
   "execution_count": 27,
   "metadata": {},
   "outputs": [
    {
     "name": "stdout",
     "output_type": "stream",
     "text": [
      "0    -0.187936\n",
      "1     1.225545\n",
      "2    -0.033943\n",
      "3    -0.818219\n",
      "4     0.255010\n",
      "5    -0.495509\n",
      "6    -0.076863\n",
      "7     0.551683\n",
      "8     0.931262\n",
      "9    -0.490696\n",
      "10    1.149051\n",
      "11    1.233042\n",
      "12    1.444699\n",
      "13    1.015200\n",
      "14   -0.230128\n",
      "15    1.971424\n",
      "16    0.749443\n",
      "17    0.458878\n",
      "18   -0.491482\n",
      "19   -0.922781\n",
      "20    0.369078\n",
      "21    2.700751\n",
      "22   -0.113180\n",
      "23    0.265092\n",
      "24    0.574021\n",
      "25   -0.310255\n",
      "26   -0.254949\n",
      "27   -0.816374\n",
      "28    0.644313\n",
      "29   -1.069071\n",
      "        ...   \n",
      "70   -0.361019\n",
      "71    0.959256\n",
      "72    0.141704\n",
      "73    0.145409\n",
      "74   -1.422662\n",
      "75   -0.777733\n",
      "76    1.068030\n",
      "77   -0.449821\n",
      "78    2.169458\n",
      "79    0.678134\n",
      "80    0.631327\n",
      "81   -1.054767\n",
      "82   -0.926968\n",
      "83   -0.643218\n",
      "84   -2.208711\n",
      "85    0.996924\n",
      "86   -1.582687\n",
      "87    1.220861\n",
      "88   -0.435355\n",
      "89    0.721644\n",
      "90   -1.022437\n",
      "91    0.500846\n",
      "92   -0.773803\n",
      "93    1.653661\n",
      "94    0.994305\n",
      "95    0.146176\n",
      "96   -1.188866\n",
      "97    0.738771\n",
      "98   -0.114018\n",
      "99   -0.975732\n",
      "Length: 100, dtype: float64\n"
     ]
    },
    {
     "data": {
      "image/png": "[encoded data removed]",
      "text/plain": [
       "<matplotlib.figure.Figure at 0xdcc2730>"
      ]
     },
     "metadata": {},
     "output_type": "display_data"
    }
   ],
   "source": [
    "# Series\n",
    "import pandas as pd\n",
    "import numpy as np\n",
    "import matplotlib.pyplot as plt\n",
    "\n",
    "# create 100 random numbers from normal distribution\n",
    "data = pd.Series(np.random.randn(100), index=np.arange(100))\n",
    "print(data)\n",
    "\n",
    "# plot a graph from pandas data\n",
    "data.plot() # Same as plt.plot(data)\n",
    "plt.show()"
   ]
  },
  {
   "cell_type": "code",
   "execution_count": 69,
   "metadata": {},
   "outputs": [
    {
     "name": "stdout",
     "output_type": "stream",
     "text": [
      "          A         B         C         D\n",
      "0  0.772295  1.043440 -2.158189  1.177931\n",
      "1  0.793927  0.614317  0.652050 -0.366366\n",
      "2 -1.062245 -0.146948  0.946485 -0.749616\n",
      "3  0.957527  0.802469 -0.124664  0.070003\n",
      "4 -0.084448  1.878954  0.025710 -0.401467\n",
      "5 -0.955851  2.850077  0.490834 -0.979158\n",
      "6  0.342232  2.075386  1.295166  0.203156\n",
      "7 -0.577882  0.220185 -0.566825 -1.349814\n",
      "8  1.263840  0.136073  1.015223 -0.112634\n",
      "9 -1.419800 -0.085510 -0.844448 -0.719689\n"
     ]
    },
    {
     "data": {
      "image/png": "[encoded data removed]",
      "text/plain": [
       "<matplotlib.figure.Figure at 0x670ff90>"
      ]
     },
     "metadata": {},
     "output_type": "display_data"
    },
    {
     "data": {
      "image/png": "[encoded data removed]",
      "text/plain": [
       "<matplotlib.figure.Figure at 0xefaf670>"
      ]
     },
     "metadata": {},
     "output_type": "display_data"
    },
    {
     "name": "stdout",
     "output_type": "stream",
     "text": [
      "Rectangle(-0.175,0;0.35x20)\n"
     ]
    },
    {
     "data": {
      "image/png": "[encoded data removed]",
      "text/plain": [
       "<matplotlib.figure.Figure at 0xf43df90>"
      ]
     },
     "metadata": {},
     "output_type": "display_data"
    }
   ],
   "source": [
    "# DataFrame\n",
    "data_df = pd.DataFrame(\n",
    "    np.random.randn(10,4),\n",
    "    index=np.arange(10),\n",
    "    columns=list('ABCD')\n",
    ")\n",
    "\n",
    "print(data_df)\n",
    "\n",
    "plt.plot(data, 'ko')\n",
    "plt.show()\n",
    "\n",
    "#scatter\n",
    "area = np.pi * (10)**2\n",
    "ax = data_df.plot.scatter(x='A',y='B',s= area,label='class1',color='lightgreen')\n",
    "data_df.plot.scatter(x='C',y='D', label='class2',color='darkred', ax=ax)\n",
    "plt.show()\n",
    "#bar\n",
    "\n",
    "menMeans = [20, 35, 30, 35, 37]\n",
    "womenMeans = [25, 32, 34, 20, 25]\n",
    "menStd = (2, 3 ,4, 1, 2)\n",
    "womenStd = (3, 5, 2, 3, 3)\n",
    "ind = np.arange(5) # the x location for the groups\n",
    "width = 0.35 # the width of the bars: can also be len(x) sequence\n",
    "\n",
    "p1 = plt.bar(ind, menMeans, width, color='#d62728', yerr=menStd)\n",
    "p2 = plt.bar(ind, womenMeans, width, bottom=menMeans, yerr=womenStd)\n",
    "print(p1[0])\n",
    "\n",
    "# p1.set_label('Men')\n",
    "# p2.set_label('Women')\n",
    "# plt.legend(loc=0, shadow=True) \n",
    "plt.legend((p1, p2),('Men', 'Women'),loc=2,shadow=True,fontsize='medium')\n",
    "plt.ylabel('Scores')\n",
    "plt.title('Scores by group and gender')\n",
    "plt.xticks(ind, ('G1', 'G2', 'G3', 'G4', 'G5')) # Get or set the x-limits of the current ticks and labels\n",
    "plt.yticks(np.arange(0, 81, 10)) # Get or set the y-limits of the current ticks and labels\n",
    "plt.show()"
   ]
  },
  {
   "cell_type": "code",
   "execution_count": null,
   "metadata": {
    "collapsed": true,
    "scrolled": true
   },
   "outputs": [],
   "source": [
    "df1_test = pd.DataFrame({\n",
    "    'Date': pd.Timestamp('20170812'),\n",
    "    'Fruit': ['Banana', 'Orange', 'Apple', 'Celery'],\n",
    "    'Num': [22.1,8.6,7.6,10.2],\n",
    "    'Color': ['Yello', 'Orange', 'Green', 'Green']\n",
    "})\n",
    "\n",
    "df2_test = pd.DataFrame({\n",
    "    'Fruit': ['Banana', 'Orange', 'Apple', 'Celery', 'Apple', 'Orange'],\n",
    "    'Num': [22.1, 8.6, 7.6, 10.2, 22.1, 8.6],\n",
    "    'Color': ['Yellow','Orange','Green','Green','Red','Orange']\n",
    "})\n",
    "\n",
    "dates_test = []\n",
    "for i in range(1,7):\n",
    "    if i <=4:\n",
    "        dates_test.append(pd.Timestamp('20170812'))\n",
    "    else:\n",
    "        dates_test.append(pd.Timestamp('20170813')) \n",
    "\n",
    "df2_test.insert(0, 'Date', dates_test)\n",
    "# print(dates_test)\n",
    "print(df2_test)\n",
    "print(df1_test)\n",
    "\n",
    "df_merge_test = pd.concat([df1_test, df2_test])\n",
    "print(df_merge_test)\n",
    "\n",
    "df_merge_test = df_merge_test.reset_index(drop = True) #pd.concat([df1_test, df2_test], ignore_index=True) could get the same effect\n",
    "print(df_merge_test)\n",
    "\n",
    "print (list(df_merge_test)) #Same as list(df_merge_test.columns) \n",
    "df_gpby = df_merge_test.groupby(list(df_merge_test))\n",
    "# print(df_gpby.groups)\n",
    "print(df_gpby.groups.values())\n",
    "# print(df_gpby.count())\n",
    "\n",
    "# for x in df_gpby.groups.values():\n",
    "#     print(x)\n",
    "idx = [x[0] for x in df_gpby.groups.values() if len(x) == 1]\n",
    "print(idx)\n",
    "\n",
    "df_merge_test.reindex(idx)"
   ]
  },
  {
   "cell_type": "markdown",
   "metadata": {
    "collapsed": true
   },
   "source": []
  }
 ],
 "metadata": {
  "kernelspec": {
   "display_name": "Python 3",
   "language": "python",
   "name": "python3"
  },
  "language_info": {
   "codemirror_mode": {
    "name": "ipython",
    "version": 3
   },
   "file_extension": ".py",
   "mimetype": "text/x-python",
   "name": "python",
   "nbconvert_exporter": "python",
   "pygments_lexer": "ipython3",
   "version": "3.6.1"
  }
 },
 "nbformat": 4,
 "nbformat_minor": 2
}
