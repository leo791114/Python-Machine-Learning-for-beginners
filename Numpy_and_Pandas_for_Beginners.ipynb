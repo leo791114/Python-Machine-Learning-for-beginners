{
 "cells": [
  {
   "cell_type": "markdown",
   "metadata": {},
   "source": [
    " <h1 style=\"color: red\">Numpy for Beginners</h1>"
   ]
  },
  {
   "cell_type": "code",
   "execution_count": 1,
   "metadata": {
    "collapsed": true
   },
   "outputs": [],
   "source": [
    "import numpy as np  #Import numpy"
   ]
  },
  {
   "cell_type": "code",
   "execution_count": 2,
   "metadata": {
    "collapsed": true
   },
   "outputs": [],
   "source": [
    "array = np.array([[1,2,3],[4,5,6]])  #Create a two-dimensional array"
   ]
  },
  {
   "cell_type": "code",
   "execution_count": 3,
   "metadata": {},
   "outputs": [
    {
     "name": "stdout",
     "output_type": "stream",
     "text": [
      "[[1 2 3]\n",
      " [4 5 6]]\n",
      "Dim 2\n",
      "Shape (2, 3)\n",
      "Size 6\n"
     ]
    }
   ],
   "source": [
    "print(array)\n",
    "print('Dim', array.ndim)\n",
    "print('Shape', array.shape)\n",
    "print('Size', array.size)"
   ]
  },
  {
   "cell_type": "code",
   "execution_count": 33,
   "metadata": {},
   "outputs": [
    {
     "name": "stdout",
     "output_type": "stream",
     "text": [
      "[[ 2  4  6]\n",
      " [ 8 10 12]]\n",
      "\n",
      "\n",
      "[ 0.  0.  0.  0.  0.  0.]\n",
      "float64\n",
      "\n",
      "\n",
      "[1 1 1 1 1 1]\n",
      "int32\n",
      "\n",
      "\n",
      "[[ 0.35480782  0.0642445   0.20831242]\n",
      " [ 0.6983032   0.79724555  0.58232503]]\n",
      "\n",
      "\n",
      "[1 2 3 4 5]\n",
      "[1 2 3 4 5]\n",
      "[[ 2  4  6]\n",
      " [ 8 10 12]]\n",
      "[ 0.  0.  0.  0.  0.  0.]\n",
      "[1 1 1 1 1 1]\n",
      "[[ 0.35480782  0.0642445   0.20831242]\n",
      " [ 0.6983032   0.79724555  0.58232503]]\n",
      "[1 2 3 4 5]\n",
      "[False False False False False]\n",
      "[False False False False  True]\n"
     ]
    }
   ],
   "source": [
    "a = np.array([1,2,3,4,5])\n",
    "b = np.arange(2,14,2).reshape((2,3))#Create an array from two to twelve, not included, with step of two\n",
    "                                    #.reshape() reshape the array for 1*6 to 2*3\n",
    "print(b)\n",
    "c = np.zeros(6) #Create an array with six floating 0.\n",
    "print('\\n')\n",
    "print(c)\n",
    "print(c.dtype)\n",
    "d = np.ones(6, dtype = np.int) #Create an array with six integer 1.\n",
    "print('\\n')\n",
    "print(d)\n",
    "print(d.dtype)\n",
    "e = np.random.random((2,3)) #Create an 2*3 array with elements that are randomly picked between 0 to 1.\n",
    "print('\\n')\n",
    "print(e)\n",
    "#f = b-a\n",
    "print('\\n')\n",
    "print(f)\n",
    "\n",
    "print(a,b,c,d,e,f, sep='\\n')\n",
    "print(f<-9)\n",
    "print(f==5)"
   ]
  },
  {
   "cell_type": "code",
   "execution_count": 36,
   "metadata": {},
   "outputs": [
    {
     "name": "stdout",
     "output_type": "stream",
     "text": [
      "[[ 3  6  9]\n",
      " [12 15 18]]\n",
      "63\n",
      "[18 45]\n",
      "[15 21 27]\n"
     ]
    }
   ],
   "source": [
    "a = np.array([[3,6,9],[12,15,18]])\n",
    "print(a)\n",
    "print(np.sum(a))\n",
    "print(np.sum(a, axis=1)) #add all elements on the basis of row\n",
    "print(np.sum(a, axis=0)) #add all elements on the basis of column"
   ]
  },
  {
   "cell_type": "code",
   "execution_count": 44,
   "metadata": {},
   "outputs": [
    {
     "name": "stdout",
     "output_type": "stream",
     "text": [
      "[[ 2  4  6]\n",
      " [ 8 10 12]]\n",
      "[[0 1 2]\n",
      " [3 4 5]]\n",
      "[[2 3 4]\n",
      " [5 6 7]]\n",
      "[[ 0  4 12]\n",
      " [24 40 60]]\n",
      "\n",
      "\n",
      "[[0 3]\n",
      " [1 4]\n",
      " [2 5]]\n",
      "[[ 16  52]\n",
      " [ 34 124]]\n"
     ]
    }
   ],
   "source": [
    "a = np.array([[2,4,6],[8,10,12]])\n",
    "b = np.arange(6).reshape((2,3))\n",
    "print(a,b,a-b,a*b, sep='\\n') #* is normal multiplication\n",
    "print('\\n')\n",
    "print(b.T) #transpose\n",
    "print(np.dot(a,b.T)) # This is array multiplication"
   ]
  },
  {
   "cell_type": "code",
   "execution_count": 46,
   "metadata": {},
   "outputs": [
    {
     "name": "stdout",
     "output_type": "stream",
     "text": [
      "[[1 1 1]\n",
      " [2 2 2]]\n",
      "[1 1 1 2 2 2]\n"
     ]
    }
   ],
   "source": [
    "#Merge\n",
    "A = np.array([1,1,1])\n",
    "B = np.array([2,2,2])\n",
    "print(np.vstack((A,B))) #vertical merge\n",
    "print(np.hstack((A,B))) #horizontal merge"
   ]
  },
  {
   "cell_type": "code",
   "execution_count": 47,
   "metadata": {},
   "outputs": [
    {
     "name": "stdout",
     "output_type": "stream",
     "text": [
      "[[ 0  1  2  3]\n",
      " [ 4  5  6  7]\n",
      " [ 8  9 10 11]]\n",
      "[array([[0, 1, 2, 3]]), array([[4, 5, 6, 7]]), array([[ 8,  9, 10, 11]])]\n",
      "[array([[0, 1],\n",
      "       [4, 5],\n",
      "       [8, 9]]), array([[ 2,  3],\n",
      "       [ 6,  7],\n",
      "       [10, 11]])]\n"
     ]
    }
   ],
   "source": [
    "#Split\n",
    "a = np.arange(12).reshape((3,4))\n",
    "print(a)\n",
    "print(np.vsplit(a,3)) #Vertically split the array into 3 new arrays\n",
    "print(np.hsplit(a,2)) #Horizontally split the array into 2 new arrays"
   ]
  }
 ],
 "metadata": {
  "kernelspec": {
   "display_name": "Python 3",
   "language": "python",
   "name": "python3"
  },
  "language_info": {
   "codemirror_mode": {
    "name": "ipython",
    "version": 3
   },
   "file_extension": ".py",
   "mimetype": "text/x-python",
   "name": "python",
   "nbconvert_exporter": "python",
   "pygments_lexer": "ipython3",
   "version": "3.6.1"
  }
 },
 "nbformat": 4,
 "nbformat_minor": 2
}
