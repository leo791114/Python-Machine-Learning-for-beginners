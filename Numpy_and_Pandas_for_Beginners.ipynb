{
 "cells": [
  {
   "cell_type": "markdown",
   "metadata": {},
   "source": [
    " <h1 style=\"color: red\">Numpy for Beginners</h1>"
   ]
  },
  {
   "cell_type": "code",
   "execution_count": 1,
   "metadata": {
    "collapsed": true
   },
   "outputs": [],
   "source": [
    "import numpy as np  #Import numpy"
   ]
  },
  {
   "cell_type": "code",
   "execution_count": 2,
   "metadata": {
    "collapsed": true
   },
   "outputs": [],
   "source": [
    "array = np.array([[1,2,3],[4,5,6]])  #Create a two-dimensional array"
   ]
  },
  {
   "cell_type": "code",
   "execution_count": 3,
   "metadata": {},
   "outputs": [
    {
     "name": "stdout",
     "output_type": "stream",
     "text": [
      "[[1 2 3]\n",
      " [4 5 6]]\n",
      "Dim 2\n",
      "Shape (2, 3)\n",
      "Size 6\n"
     ]
    }
   ],
   "source": [
    "print(array)\n",
    "print('Dim', array.ndim)\n",
    "print('Shape', array.shape)\n",
    "print('Size', array.size)"
   ]
  },
  {
   "cell_type": "code",
   "execution_count": 4,
   "metadata": {},
   "outputs": [
    {
     "name": "stdout",
     "output_type": "stream",
     "text": [
      "[1 2 3 4 5]\n",
      "[[ 2  4  6]\n",
      " [ 8 10 12]]\n",
      "\n",
      "\n",
      "[ 0.  0.  0.  0.  0.  0.]\n",
      "float64\n",
      "\n",
      "\n",
      "[1 1 1 1 1 1]\n",
      "int32\n",
      "\n",
      "\n",
      "[[ 0.48776761  0.38428184  0.45575068]\n",
      " [ 0.44611102  0.06940193  0.95641486]]\n",
      "\n",
      "\n",
      "[1 2 3 4 5]\n",
      "[[ 2  4  6]\n",
      " [ 8 10 12]]\n",
      "[ 0.  0.  0.  0.  0.  0.]\n",
      "[1 1 1 1 1 1]\n",
      "[[ 0.48776761  0.38428184  0.45575068]\n",
      " [ 0.44611102  0.06940193  0.95641486]]\n"
     ]
    }
   ],
   "source": [
    "a = np.array([1,2,3,4,5])\n",
    "b = np.arange(2,14,2).reshape((2,3))#Create an array from two to twelve, not included, with step of two\n",
    "                                    #.reshape() reshape the array for 1*6 to 2*3\n",
    "print(a)\n",
    "print(b)\n",
    "c = np.zeros(6) #Create an array with six floating 0.\n",
    "print('\\n')\n",
    "print(c)\n",
    "print(c.dtype)\n",
    "d = np.ones(6, dtype = np.int) #Create an array with six integer 1.\n",
    "print('\\n')\n",
    "print(d)\n",
    "print(d.dtype)\n",
    "e = np.random.random((2,3)) #Create an 2*3 array with elements that are randomly picked between 0 to 1.\n",
    "print('\\n')\n",
    "print(e)\n",
    "#f = b-a\n",
    "print('\\n')\n",
    "# print(f)\n",
    "\n",
    "print(a,b,c,d,e,sep='\\n')\n",
    "# print(a,b,c,d,e,f, sep='\\n')\n",
    "#print(f<-9)\n",
    "#print(f==5)"
   ]
  },
  {
   "cell_type": "code",
   "execution_count": 5,
   "metadata": {},
   "outputs": [
    {
     "name": "stdout",
     "output_type": "stream",
     "text": [
      "[[ 3  6  9]\n",
      " [12 15 18]]\n",
      "63\n",
      "[18 45]\n",
      "[15 21 27]\n"
     ]
    }
   ],
   "source": [
    "a = np.array([[3,6,9],[12,15,18]])\n",
    "print(a)\n",
    "print(np.sum(a))\n",
    "print(np.sum(a, axis=1)) #add all elements on the basis of row\n",
    "print(np.sum(a, axis=0)) #add all elements on the basis of column"
   ]
  },
  {
   "cell_type": "code",
   "execution_count": 6,
   "metadata": {},
   "outputs": [
    {
     "name": "stdout",
     "output_type": "stream",
     "text": [
      "[[ 2  4  6]\n",
      " [ 8 10 12]]\n",
      "[[0 1 2]\n",
      " [3 4 5]]\n",
      "[[2 3 4]\n",
      " [5 6 7]]\n",
      "[[ 0  4 12]\n",
      " [24 40 60]]\n",
      "\n",
      "\n",
      "[[0 3]\n",
      " [1 4]\n",
      " [2 5]]\n",
      "[[ 16  52]\n",
      " [ 34 124]]\n"
     ]
    }
   ],
   "source": [
    "a = np.array([[2,4,6],[8,10,12]])\n",
    "b = np.arange(6).reshape((2,3))\n",
    "print(a,b,a-b,a*b, sep='\\n') #* is normal multiplication\n",
    "print('\\n')\n",
    "print(b.T) #transpose\n",
    "print(np.dot(a,b.T)) # This is array multiplication"
   ]
  },
  {
   "cell_type": "code",
   "execution_count": 7,
   "metadata": {},
   "outputs": [
    {
     "name": "stdout",
     "output_type": "stream",
     "text": [
      "[[1 1 1]\n",
      " [2 2 2]]\n",
      "[1 1 1 2 2 2]\n"
     ]
    }
   ],
   "source": [
    "#Merge\n",
    "A = np.array([1,1,1])\n",
    "B = np.array([2,2,2])\n",
    "print(np.vstack((A,B))) #vertical merge\n",
    "print(np.hstack((A,B))) #horizontal merge"
   ]
  },
  {
   "cell_type": "code",
   "execution_count": 8,
   "metadata": {
    "scrolled": true
   },
   "outputs": [
    {
     "name": "stdout",
     "output_type": "stream",
     "text": [
      "[[ 0  1  2  3]\n",
      " [ 4  5  6  7]\n",
      " [ 8  9 10 11]]\n",
      "[array([[0, 1, 2, 3]]), array([[4, 5, 6, 7]]), array([[ 8,  9, 10, 11]])]\n",
      "[array([[0, 1],\n",
      "       [4, 5],\n",
      "       [8, 9]]), array([[ 2,  3],\n",
      "       [ 6,  7],\n",
      "       [10, 11]])]\n"
     ]
    }
   ],
   "source": [
    "#Split\n",
    "a = np.arange(12).reshape((3,4))\n",
    "print(a)\n",
    "print(np.vsplit(a,3)) #Vertically split the array into 3 new arrays\n",
    "print(np.hsplit(a,2)) #Horizontally split the array into 2 new arrays"
   ]
  },
  {
   "cell_type": "markdown",
   "metadata": {},
   "source": [
    "<h1 style=\"color: red\">Pandas for Beginners</h1>"
   ]
  },
  {
   "cell_type": "markdown",
   "metadata": {},
   "source": [
    "<h3 style=\"color:blue\">Series</h3>"
   ]
  },
  {
   "cell_type": "code",
   "execution_count": 26,
   "metadata": {},
   "outputs": [
    {
     "ename": "Exception",
     "evalue": "Data must be 1-dimensional",
     "output_type": "error",
     "traceback": [
      "\u001b[1;31m---------------------------------------------------------------------------\u001b[0m",
      "\u001b[1;31mException\u001b[0m                                 Traceback (most recent call last)",
      "\u001b[1;32m<ipython-input-26-da630ac4e450>\u001b[0m in \u001b[0;36m<module>\u001b[1;34m()\u001b[0m\n\u001b[0;32m      3\u001b[0m \u001b[0ma\u001b[0m \u001b[1;33m=\u001b[0m \u001b[0mnp\u001b[0m\u001b[1;33m.\u001b[0m\u001b[0marray\u001b[0m\u001b[1;33m(\u001b[0m\u001b[1;33m[\u001b[0m\u001b[1;36m1\u001b[0m\u001b[1;33m,\u001b[0m\u001b[1;34m'abc'\u001b[0m\u001b[1;33m,\u001b[0m\u001b[1;34m'6'\u001b[0m\u001b[1;33m,\u001b[0m\u001b[0mnp\u001b[0m\u001b[1;33m.\u001b[0m\u001b[0mnan\u001b[0m\u001b[1;33m,\u001b[0m\u001b[1;36m44\u001b[0m\u001b[1;33m,\u001b[0m\u001b[1;36m1\u001b[0m\u001b[1;33m]\u001b[0m\u001b[1;33m)\u001b[0m\u001b[1;33m\u001b[0m\u001b[0m\n\u001b[0;32m      4\u001b[0m \u001b[0mt\u001b[0m \u001b[1;33m=\u001b[0m \u001b[0mnp\u001b[0m\u001b[1;33m.\u001b[0m\u001b[0marange\u001b[0m\u001b[1;33m(\u001b[0m\u001b[1;36m1\u001b[0m\u001b[1;33m,\u001b[0m\u001b[1;36m13\u001b[0m\u001b[1;33m,\u001b[0m\u001b[1;36m2\u001b[0m\u001b[1;33m)\u001b[0m\u001b[1;33m.\u001b[0m\u001b[0mreshape\u001b[0m\u001b[1;33m(\u001b[0m\u001b[1;33m(\u001b[0m\u001b[1;36m2\u001b[0m\u001b[1;33m,\u001b[0m\u001b[1;36m3\u001b[0m\u001b[1;33m)\u001b[0m\u001b[1;33m)\u001b[0m\u001b[1;33m\u001b[0m\u001b[0m\n\u001b[1;32m----> 5\u001b[1;33m \u001b[0mt_series\u001b[0m \u001b[1;33m=\u001b[0m \u001b[0mpd\u001b[0m\u001b[1;33m.\u001b[0m\u001b[0mSeries\u001b[0m\u001b[1;33m(\u001b[0m\u001b[0mt\u001b[0m\u001b[1;33m)\u001b[0m\u001b[1;33m\u001b[0m\u001b[0m\n\u001b[0m\u001b[0;32m      6\u001b[0m \u001b[0mprint\u001b[0m\u001b[1;33m(\u001b[0m\u001b[0mt\u001b[0m\u001b[1;33m)\u001b[0m\u001b[1;33m\u001b[0m\u001b[0m\n\u001b[0;32m      7\u001b[0m \u001b[0mprint\u001b[0m\u001b[1;33m(\u001b[0m\u001b[0ms\u001b[0m\u001b[1;33m)\u001b[0m\u001b[1;33m\u001b[0m\u001b[0m\n",
      "\u001b[1;32mC:\\Anaconda3\\lib\\site-packages\\pandas\\core\\series.py\u001b[0m in \u001b[0;36m__init__\u001b[1;34m(self, data, index, dtype, name, copy, fastpath)\u001b[0m\n\u001b[0;32m    246\u001b[0m             \u001b[1;32melse\u001b[0m\u001b[1;33m:\u001b[0m\u001b[1;33m\u001b[0m\u001b[0m\n\u001b[0;32m    247\u001b[0m                 data = _sanitize_array(data, index, dtype, copy,\n\u001b[1;32m--> 248\u001b[1;33m                                        raise_cast_failure=True)\n\u001b[0m\u001b[0;32m    249\u001b[0m \u001b[1;33m\u001b[0m\u001b[0m\n\u001b[0;32m    250\u001b[0m                 \u001b[0mdata\u001b[0m \u001b[1;33m=\u001b[0m \u001b[0mSingleBlockManager\u001b[0m\u001b[1;33m(\u001b[0m\u001b[0mdata\u001b[0m\u001b[1;33m,\u001b[0m \u001b[0mindex\u001b[0m\u001b[1;33m,\u001b[0m \u001b[0mfastpath\u001b[0m\u001b[1;33m=\u001b[0m\u001b[1;32mTrue\u001b[0m\u001b[1;33m)\u001b[0m\u001b[1;33m\u001b[0m\u001b[0m\n",
      "\u001b[1;32mC:\\Anaconda3\\lib\\site-packages\\pandas\\core\\series.py\u001b[0m in \u001b[0;36m_sanitize_array\u001b[1;34m(data, index, dtype, copy, raise_cast_failure)\u001b[0m\n\u001b[0;32m   3025\u001b[0m     \u001b[1;32melif\u001b[0m \u001b[0msubarr\u001b[0m\u001b[1;33m.\u001b[0m\u001b[0mndim\u001b[0m \u001b[1;33m>\u001b[0m \u001b[1;36m1\u001b[0m\u001b[1;33m:\u001b[0m\u001b[1;33m\u001b[0m\u001b[0m\n\u001b[0;32m   3026\u001b[0m         \u001b[1;32mif\u001b[0m \u001b[0misinstance\u001b[0m\u001b[1;33m(\u001b[0m\u001b[0mdata\u001b[0m\u001b[1;33m,\u001b[0m \u001b[0mnp\u001b[0m\u001b[1;33m.\u001b[0m\u001b[0mndarray\u001b[0m\u001b[1;33m)\u001b[0m\u001b[1;33m:\u001b[0m\u001b[1;33m\u001b[0m\u001b[0m\n\u001b[1;32m-> 3027\u001b[1;33m             \u001b[1;32mraise\u001b[0m \u001b[0mException\u001b[0m\u001b[1;33m(\u001b[0m\u001b[1;34m'Data must be 1-dimensional'\u001b[0m\u001b[1;33m)\u001b[0m\u001b[1;33m\u001b[0m\u001b[0m\n\u001b[0m\u001b[0;32m   3028\u001b[0m         \u001b[1;32melse\u001b[0m\u001b[1;33m:\u001b[0m\u001b[1;33m\u001b[0m\u001b[0m\n\u001b[0;32m   3029\u001b[0m             \u001b[0msubarr\u001b[0m \u001b[1;33m=\u001b[0m \u001b[0m_asarray_tuplesafe\u001b[0m\u001b[1;33m(\u001b[0m\u001b[0mdata\u001b[0m\u001b[1;33m,\u001b[0m \u001b[0mdtype\u001b[0m\u001b[1;33m=\u001b[0m\u001b[0mdtype\u001b[0m\u001b[1;33m)\u001b[0m\u001b[1;33m\u001b[0m\u001b[0m\n",
      "\u001b[1;31mException\u001b[0m: Data must be 1-dimensional"
     ]
    }
   ],
   "source": [
    "import pandas as pd\n",
    "s = pd.Series([1,'abc','6',np.nan,44,1])\n",
    "a = np.array([1,'abc','6',np.nan,44,1])\n",
    "print(t)\n",
    "print(s)\n",
    "print(a)"
   ]
  },
  {
   "cell_type": "markdown",
   "metadata": {},
   "source": [
    " <h3 style=\"color: blue\">DataFrame</h3> "
   ]
  },
  {
   "cell_type": "code",
   "execution_count": 10,
   "metadata": {},
   "outputs": [
    {
     "name": "stdout",
     "output_type": "stream",
     "text": [
      "0.5839722570436592\n",
      "0.4093015853516462\n",
      "          0         1         2\n",
      "0 -0.758051  0.636775 -0.241517\n",
      "1 -1.895949  0.877156  0.231708\n",
      "2  0.246216 -1.697919  2.487644\n",
      "3 -0.850032 -0.435629  0.794044\n",
      "4 -0.471317 -0.642517 -0.200104\n",
      "5 -0.626027  0.814582 -0.326108\n",
      "6  0.253727 -0.280856 -0.100477\n"
     ]
    }
   ],
   "source": [
    "#Method one: use array to create DataFrame\n",
    "print(np.random.random()) # np.random.random returns random floats in the half-open interval [0 1)\n",
    "print(np.random.randn()) # np.random.randn returns random floats sampled from a univariate nomal distribution\n",
    "\n",
    "\n",
    "df = pd.DataFrame(np.random.randn(7,3))\n",
    "print(df)"
   ]
  },
  {
   "cell_type": "code",
   "execution_count": 11,
   "metadata": {},
   "outputs": [
    {
     "name": "stdout",
     "output_type": "stream",
     "text": [
      "[[55 85 75]\n",
      " [85 90 95]\n",
      " [90 60 55]\n",
      " [95 70 70]\n",
      " [85 95 80]\n",
      " [85 90 85]\n",
      " [65 90 80]]\n",
      "DatetimeIndex(['2017-08-12', '2017-08-13', '2017-08-14', '2017-08-15',\n",
      "               '2017-08-16', '2017-08-17', '2017-08-18'],\n",
      "              dtype='datetime64[ns]', freq='D')\n",
      "    0   1   2\n",
      "0  55  85  75\n",
      "1  85  90  95\n",
      "2  90  60  55\n",
      "3  95  70  70\n",
      "4  85  95  80\n",
      "5  85  90  85\n",
      "6  65  90  80\n",
      "            Breakfast  Lunch  Dinner\n",
      "2017-08-12         55     85      75\n",
      "2017-08-13         85     90      95\n",
      "2017-08-14         90     60      55\n",
      "2017-08-15         95     70      70\n",
      "2017-08-16         85     95      80\n",
      "2017-08-17         85     90      85\n",
      "2017-08-18         65     90      80\n"
     ]
    }
   ],
   "source": [
    "#Method one: use array to create DataFrame\n",
    "eat = np.random.randint(10, size=(7,3))*5+50\n",
    "print(eat)\n",
    "dates = pd.date_range('20170812', periods=7)\n",
    "print(dates)\n",
    "# print(np.dtype(dates))\n",
    "df0 = pd.DataFrame(eat)\n",
    "print(df0)\n",
    "df1 = pd.DataFrame(eat, index=dates, columns=['Breakfast', 'Lunch', 'Dinner'])\n",
    "print(df1)"
   ]
  },
  {
   "cell_type": "code",
   "execution_count": 12,
   "metadata": {},
   "outputs": [
    {
     "name": "stdout",
     "output_type": "stream",
     "text": [
      "  Category  Decimal  Integer       Time\n",
      "0     test      1.0        3 2017-08-12\n",
      "1    train      3.0        3 2017-08-12\n",
      "2     test      6.0        3 2017-08-12\n",
      "3    train      4.0        3 2017-08-12\n",
      "        Time  Integer  Decimal Category\n",
      "0 2017-08-12        3      1.0     test\n",
      "1 2017-08-12        3      3.0    train\n",
      "2 2017-08-12        3      6.0     test\n",
      "3 2017-08-12        3      4.0    train\n",
      "  Category  Decimal  Integer       Time\n",
      "0     test      1.0        3 2017-08-12\n",
      "1    train      3.0        3 2017-08-12\n",
      "3    train      4.0        3 2017-08-12\n",
      "2     test      6.0        3 2017-08-12\n"
     ]
    }
   ],
   "source": [
    "#Method two: use dictionary to create DataFrame\n",
    "df2 = pd.DataFrame({'Decimal': pd.Series([1,3,6,4], index=list(range(4)), dtype='float32'),\n",
    "                   'Integer': np.array([3]*4, dtype='int32'),\n",
    "                   'Time': pd.Timestamp('20170812'),\n",
    "                   'Category': pd.Categorical(['test','train','test','train'])})\n",
    "x = pd.Series(1,index=list(range(4)), dtype='float32')\n",
    "# print(x)\n",
    "y = np.array([3]*4, dtype='int32')\n",
    "#print(y)\n",
    "z = pd.Timestamp('20170816')\n",
    "#print(z)\n",
    "k = pd.Categorical(['test','train','test','train'])\n",
    "# print(k)\n",
    "print(df2)\n",
    "#print(df2.dtypes)\n",
    "#print(df2.index)\n",
    "#print(df2.columns)\n",
    "#print(df2.values)\n",
    "#print(df2.T)\n",
    "print(df2.sort_index(axis=1,ascending=False)) #axis=1 takes columns as sorting index\n",
    "print(df2.sort_values(by='Decimal'))"
   ]
  },
  {
   "cell_type": "code",
   "execution_count": 13,
   "metadata": {},
   "outputs": [
    {
     "name": "stdout",
     "output_type": "stream",
     "text": [
      "            Breakfast  Lunch  Dinner\n",
      "2017-08-12         55     85      75\n",
      "2017-08-13         85     90      95\n",
      "2017-08-14         90     60      55\n",
      "2017-08-15         95     70      70\n",
      "2017-08-16         85     95      80\n",
      "2017-08-17         85     90      85\n",
      "2017-08-18         65     90      80\n",
      "\n",
      "\n",
      "2017-08-12    85\n",
      "2017-08-13    90\n",
      "2017-08-14    60\n",
      "2017-08-15    70\n",
      "2017-08-16    95\n",
      "2017-08-17    90\n",
      "2017-08-18    90\n",
      "Freq: D, Name: Lunch, dtype: int32\n",
      "\n",
      "\n",
      "            Breakfast  Lunch  Dinner\n",
      "2017-08-12         55     85      75\n",
      "2017-08-13         85     90      95\n",
      "2017-08-14         90     60      55\n"
     ]
    }
   ],
   "source": [
    "# Pandas: Selecting data\n",
    "print(df1)\n",
    "print('\\n')\n",
    "print(df1['Lunch'])\n",
    "print('\\n')\n",
    "print(df1[0:3])"
   ]
  },
  {
   "cell_type": "code",
   "execution_count": 14,
   "metadata": {},
   "outputs": [
    {
     "name": "stdout",
     "output_type": "stream",
     "text": [
      "            Breakfast  Lunch  Dinner\n",
      "2017-08-12         55     85      75\n",
      "2017-08-13         85     90      95\n",
      "2017-08-14         90     60      55\n",
      "2017-08-15         95     70      70\n",
      "2017-08-16         85     95      80\n",
      "2017-08-17         85     90      85\n",
      "2017-08-18         65     90      80\n",
      "Breakfast    55\n",
      "Lunch        85\n",
      "Dinner       75\n",
      "Name: 2017-08-12 00:00:00, dtype: int32\n",
      "            Breakfast  Lunch\n",
      "2017-08-13         85     90\n",
      "2017-08-14         90     60\n",
      "2017-08-15         95     70\n",
      "2017-08-16         85     95\n",
      "\n",
      "\n",
      "70\n",
      "            Lunch  Dinner\n",
      "2017-08-15     70      70\n",
      "2017-08-16     95      80\n",
      "\n",
      "\n",
      "            Lunch  Dinner\n",
      "2017-08-12     85      75\n",
      "2017-08-13     90      95\n",
      "2017-08-14     60      55\n"
     ]
    },
    {
     "name": "stderr",
     "output_type": "stream",
     "text": [
      "C:\\Anaconda3\\lib\\site-packages\\ipykernel_launcher.py:11: DeprecationWarning: \n",
      ".ix is deprecated. Please use\n",
      ".loc for label based indexing or\n",
      ".iloc for positional indexing\n",
      "\n",
      "See the documentation here:\n",
      "http://pandas.pydata.org/pandas-docs/stable/indexing.html#deprecate_ix\n",
      "  # This is added back by InteractiveShellApp.init_path()\n"
     ]
    }
   ],
   "source": [
    "print(df1)\n",
    "# Pandas: Selecting data by label (refer to the label and not the position)\n",
    "print(df1.loc['20170812'])\n",
    "print(df1.loc['20170813':'20170816',['Breakfast','Lunch']])\n",
    "print('\\n')\n",
    "# Pandas: Selecting data by position\n",
    "print(df1.iloc[3,1])\n",
    "print(df1.iloc[3:5,1:3])\n",
    "print('\\n')\n",
    "# Pandas: Selecting data by ix\n",
    "print(df1.ix[:3,['Lunch','Dinner']])"
   ]
  },
  {
   "cell_type": "code",
   "execution_count": 15,
   "metadata": {},
   "outputs": [
    {
     "name": "stdout",
     "output_type": "stream",
     "text": [
      "            Breakfast  Lunch  Dinner\n",
      "2017-08-12         55     85      75\n",
      "2017-08-13         85     90      95\n",
      "2017-08-16         85     95      80\n",
      "2017-08-17         85     90      85\n",
      "2017-08-18         65     90      80\n"
     ]
    }
   ],
   "source": [
    "# Pandas: Conditional expression\n",
    "print(df1[df1.Lunch > 80])"
   ]
  },
  {
   "cell_type": "code",
   "execution_count": 16,
   "metadata": {},
   "outputs": [
    {
     "name": "stdout",
     "output_type": "stream",
     "text": [
      "            Breakfast  Lunch  Dinner\n",
      "2017-08-12         55     85      75\n",
      "2017-08-13         85     90      95\n",
      "2017-08-16         85     95      80\n",
      "2017-08-17         85     90      85\n",
      "2017-08-18         65     90      80\n",
      "            Breakfast  Lunch  Dinner\n",
      "2017-08-12         55   85.0      75\n",
      "2017-08-13         85   90.0      95\n",
      "2017-08-14         90    NaN      55\n",
      "2017-08-15         95   70.0      70\n",
      "2017-08-16         85   95.0      80\n",
      "2017-08-17         85   90.0      85\n",
      "2017-08-18         65   90.0      80\n",
      "Breakfast      int32\n",
      "Lunch        float64\n",
      "Dinner         int32\n",
      "dtype: object\n"
     ]
    }
   ],
   "source": [
    "# Pandas: Re-assign data\n",
    "#df1.Dinner[df1.Lunch>80]=40  --> this method Pandas would select df1.Dinner first, and then returns\n",
    "#a DataFrame that is singly-indexed. Then, another python operation df1_dinner[df1.Lunch>80] will\n",
    "#happens. THis is because pandas sees these operations as separate events.\n",
    "df1.loc[:,['Dinner']][df1.Lunch>80] = 40\n",
    "print(df1[df1.Lunch>80])\n",
    "df1.loc['20170814','Lunch'] = np.nan\n",
    "print(df1)\n",
    "print(df1.dtypes)"
   ]
  },
  {
   "cell_type": "code",
   "execution_count": 17,
   "metadata": {},
   "outputs": [
    {
     "name": "stdout",
     "output_type": "stream",
     "text": [
      "            Breakfast  Lunch  Dinner\n",
      "2017-08-12      False  False   False\n",
      "2017-08-13      False  False   False\n",
      "2017-08-14      False   True   False\n",
      "2017-08-15      False  False   False\n",
      "2017-08-16      False  False   False\n",
      "2017-08-17      False  False   False\n",
      "2017-08-18      False  False   False\n"
     ]
    },
    {
     "data": {
      "text/plain": [
       "Breakfast    0\n",
       "Lunch        1\n",
       "Dinner       0\n",
       "dtype: int64"
      ]
     },
     "execution_count": 17,
     "metadata": {},
     "output_type": "execute_result"
    }
   ],
   "source": [
    "# Pandas: Dealing with missing values\n",
    "print(df1.isnull())\n",
    "df1.isnull().sum()"
   ]
  },
  {
   "cell_type": "code",
   "execution_count": 18,
   "metadata": {},
   "outputs": [
    {
     "data": {
      "text/html": [
       "<div>\n",
       "<style>\n",
       "    .dataframe thead tr:only-child th {\n",
       "        text-align: right;\n",
       "    }\n",
       "\n",
       "    .dataframe thead th {\n",
       "        text-align: left;\n",
       "    }\n",
       "\n",
       "    .dataframe tbody tr th {\n",
       "        vertical-align: top;\n",
       "    }\n",
       "</style>\n",
       "<table border=\"1\" class=\"dataframe\">\n",
       "  <thead>\n",
       "    <tr style=\"text-align: right;\">\n",
       "      <th></th>\n",
       "      <th>Breakfast</th>\n",
       "      <th>Lunch</th>\n",
       "      <th>Dinner</th>\n",
       "    </tr>\n",
       "  </thead>\n",
       "  <tbody>\n",
       "    <tr>\n",
       "      <th>2017-08-12</th>\n",
       "      <td>55</td>\n",
       "      <td>85.0</td>\n",
       "      <td>75</td>\n",
       "    </tr>\n",
       "    <tr>\n",
       "      <th>2017-08-13</th>\n",
       "      <td>85</td>\n",
       "      <td>90.0</td>\n",
       "      <td>95</td>\n",
       "    </tr>\n",
       "    <tr>\n",
       "      <th>2017-08-14</th>\n",
       "      <td>90</td>\n",
       "      <td>0.0</td>\n",
       "      <td>55</td>\n",
       "    </tr>\n",
       "    <tr>\n",
       "      <th>2017-08-15</th>\n",
       "      <td>95</td>\n",
       "      <td>70.0</td>\n",
       "      <td>70</td>\n",
       "    </tr>\n",
       "    <tr>\n",
       "      <th>2017-08-16</th>\n",
       "      <td>85</td>\n",
       "      <td>95.0</td>\n",
       "      <td>80</td>\n",
       "    </tr>\n",
       "    <tr>\n",
       "      <th>2017-08-17</th>\n",
       "      <td>85</td>\n",
       "      <td>90.0</td>\n",
       "      <td>85</td>\n",
       "    </tr>\n",
       "    <tr>\n",
       "      <th>2017-08-18</th>\n",
       "      <td>65</td>\n",
       "      <td>90.0</td>\n",
       "      <td>80</td>\n",
       "    </tr>\n",
       "  </tbody>\n",
       "</table>\n",
       "</div>"
      ],
      "text/plain": [
       "            Breakfast  Lunch  Dinner\n",
       "2017-08-12         55   85.0      75\n",
       "2017-08-13         85   90.0      95\n",
       "2017-08-14         90    0.0      55\n",
       "2017-08-15         95   70.0      70\n",
       "2017-08-16         85   95.0      80\n",
       "2017-08-17         85   90.0      85\n",
       "2017-08-18         65   90.0      80"
      ]
     },
     "execution_count": 18,
     "metadata": {},
     "output_type": "execute_result"
    }
   ],
   "source": [
    "# Panadas: Dealing with missing values --> replace them with 0\n",
    "df1.fillna(value=0)"
   ]
  },
  {
   "cell_type": "code",
   "execution_count": 19,
   "metadata": {},
   "outputs": [
    {
     "name": "stdout",
     "output_type": "stream",
     "text": [
      "            Breakfast  Lunch  Dinner\n",
      "2017-08-12         55   85.0      75\n",
      "2017-08-13         85   90.0      95\n",
      "2017-08-14         90    NaN      55\n",
      "2017-08-15         95   70.0      70\n",
      "2017-08-16         85   95.0      80\n",
      "2017-08-17         85   90.0      85\n",
      "2017-08-18         65   90.0      80\n"
     ]
    },
    {
     "data": {
      "text/html": [
       "<div>\n",
       "<style>\n",
       "    .dataframe thead tr:only-child th {\n",
       "        text-align: right;\n",
       "    }\n",
       "\n",
       "    .dataframe thead th {\n",
       "        text-align: left;\n",
       "    }\n",
       "\n",
       "    .dataframe tbody tr th {\n",
       "        vertical-align: top;\n",
       "    }\n",
       "</style>\n",
       "<table border=\"1\" class=\"dataframe\">\n",
       "  <thead>\n",
       "    <tr style=\"text-align: right;\">\n",
       "      <th></th>\n",
       "      <th>Breakfast</th>\n",
       "      <th>Lunch</th>\n",
       "      <th>Dinner</th>\n",
       "    </tr>\n",
       "  </thead>\n",
       "  <tbody>\n",
       "    <tr>\n",
       "      <th>2017-08-12</th>\n",
       "      <td>55</td>\n",
       "      <td>85.0</td>\n",
       "      <td>75</td>\n",
       "    </tr>\n",
       "    <tr>\n",
       "      <th>2017-08-13</th>\n",
       "      <td>85</td>\n",
       "      <td>90.0</td>\n",
       "      <td>95</td>\n",
       "    </tr>\n",
       "    <tr>\n",
       "      <th>2017-08-15</th>\n",
       "      <td>95</td>\n",
       "      <td>70.0</td>\n",
       "      <td>70</td>\n",
       "    </tr>\n",
       "    <tr>\n",
       "      <th>2017-08-16</th>\n",
       "      <td>85</td>\n",
       "      <td>95.0</td>\n",
       "      <td>80</td>\n",
       "    </tr>\n",
       "    <tr>\n",
       "      <th>2017-08-17</th>\n",
       "      <td>85</td>\n",
       "      <td>90.0</td>\n",
       "      <td>85</td>\n",
       "    </tr>\n",
       "    <tr>\n",
       "      <th>2017-08-18</th>\n",
       "      <td>65</td>\n",
       "      <td>90.0</td>\n",
       "      <td>80</td>\n",
       "    </tr>\n",
       "  </tbody>\n",
       "</table>\n",
       "</div>"
      ],
      "text/plain": [
       "            Breakfast  Lunch  Dinner\n",
       "2017-08-12         55   85.0      75\n",
       "2017-08-13         85   90.0      95\n",
       "2017-08-15         95   70.0      70\n",
       "2017-08-16         85   95.0      80\n",
       "2017-08-17         85   90.0      85\n",
       "2017-08-18         65   90.0      80"
      ]
     },
     "execution_count": 19,
     "metadata": {},
     "output_type": "execute_result"
    }
   ],
   "source": [
    "# Panadas: Dealing with missing values --> erase the missing values\n",
    "print(df1)\n",
    "df1.dropna(\n",
    "    axis=0,    #0: operates under the base of row; 1: operates under the base of column\n",
    "    how='any'  #'any':Drop the whole row or column if there is any NaN value.\n",
    "               #'all':Drop the whole row or column if the values in the row or column are all NaN.\n",
    ")"
   ]
  },
  {
   "cell_type": "code",
   "execution_count": 20,
   "metadata": {},
   "outputs": [
    {
     "name": "stdout",
     "output_type": "stream",
     "text": [
      "            Breakfast  Lunch  Dinner\n",
      "2017-08-12         55   85.0      75\n",
      "2017-08-13         85   90.0      95\n",
      "2017-08-14         90    NaN      55\n",
      "2017-08-15         95   70.0      70\n",
      "2017-08-16         85   95.0      80\n",
      "2017-08-17         85   90.0      85\n",
      "2017-08-18         65   90.0      80\n"
     ]
    },
    {
     "data": {
      "text/html": [
       "<div>\n",
       "<style>\n",
       "    .dataframe thead tr:only-child th {\n",
       "        text-align: right;\n",
       "    }\n",
       "\n",
       "    .dataframe thead th {\n",
       "        text-align: left;\n",
       "    }\n",
       "\n",
       "    .dataframe tbody tr th {\n",
       "        vertical-align: top;\n",
       "    }\n",
       "</style>\n",
       "<table border=\"1\" class=\"dataframe\">\n",
       "  <thead>\n",
       "    <tr style=\"text-align: right;\">\n",
       "      <th></th>\n",
       "      <th>Breakfast</th>\n",
       "      <th>Lunch</th>\n",
       "      <th>Dinner</th>\n",
       "    </tr>\n",
       "  </thead>\n",
       "  <tbody>\n",
       "    <tr>\n",
       "      <th>2017-08-12</th>\n",
       "      <td>55</td>\n",
       "      <td>85.0</td>\n",
       "      <td>75</td>\n",
       "    </tr>\n",
       "    <tr>\n",
       "      <th>2017-08-13</th>\n",
       "      <td>85</td>\n",
       "      <td>90.0</td>\n",
       "      <td>95</td>\n",
       "    </tr>\n",
       "    <tr>\n",
       "      <th>2017-08-14</th>\n",
       "      <td>90</td>\n",
       "      <td>NaN</td>\n",
       "      <td>55</td>\n",
       "    </tr>\n",
       "    <tr>\n",
       "      <th>2017-08-15</th>\n",
       "      <td>95</td>\n",
       "      <td>70.0</td>\n",
       "      <td>70</td>\n",
       "    </tr>\n",
       "    <tr>\n",
       "      <th>2017-08-16</th>\n",
       "      <td>85</td>\n",
       "      <td>95.0</td>\n",
       "      <td>80</td>\n",
       "    </tr>\n",
       "    <tr>\n",
       "      <th>2017-08-17</th>\n",
       "      <td>85</td>\n",
       "      <td>90.0</td>\n",
       "      <td>85</td>\n",
       "    </tr>\n",
       "    <tr>\n",
       "      <th>2017-08-18</th>\n",
       "      <td>65</td>\n",
       "      <td>90.0</td>\n",
       "      <td>80</td>\n",
       "    </tr>\n",
       "  </tbody>\n",
       "</table>\n",
       "</div>"
      ],
      "text/plain": [
       "            Breakfast  Lunch  Dinner\n",
       "2017-08-12         55   85.0      75\n",
       "2017-08-13         85   90.0      95\n",
       "2017-08-14         90    NaN      55\n",
       "2017-08-15         95   70.0      70\n",
       "2017-08-16         85   95.0      80\n",
       "2017-08-17         85   90.0      85\n",
       "2017-08-18         65   90.0      80"
      ]
     },
     "execution_count": 20,
     "metadata": {},
     "output_type": "execute_result"
    }
   ],
   "source": [
    "# Pandas: Other usages\n",
    "print(df1)\n",
    "df1.dropna(thresh=3)  #Keep only the rows with at least 3 non-na values\n",
    "df1.dropna(subset=['Breakfast']) #Only drops the rows or columns in the subset that have NaN value."
   ]
  },
  {
   "cell_type": "code",
   "execution_count": 21,
   "metadata": {},
   "outputs": [
    {
     "name": "stdout",
     "output_type": "stream",
     "text": [
      "[[ 55.  85.  75.]\n",
      " [ 85.  90.  95.]\n",
      " [ 90.  nan  55.]\n",
      " [ 95.  70.  70.]\n",
      " [ 85.  95.  80.]\n",
      " [ 85.  90.  85.]\n",
      " [ 65.  90.  80.]]\n",
      "float64\n",
      "[[ 55.          85.          75.        ]\n",
      " [ 85.          90.          95.        ]\n",
      " [ 90.          86.66666667  55.        ]\n",
      " [ 95.          70.          70.        ]\n",
      " [ 85.          95.          80.        ]\n",
      " [ 85.          90.          85.        ]\n",
      " [ 65.          90.          80.        ]]\n",
      "[[ 55.          85.          75.        ]\n",
      " [ 85.          90.          95.        ]\n",
      " [ 90.          86.66666667  55.        ]\n",
      " [ 95.          70.          70.        ]\n",
      " [ 85.          95.          80.        ]\n",
      " [ 85.          90.          85.        ]\n",
      " [ 65.          90.          80.        ]]\n"
     ]
    }
   ],
   "source": [
    "# Pandas: Dealing with missing values --> interpolation\n",
    "from sklearn.preprocessing import Imputer\n",
    "# print(df1.dtypes)\n",
    "print(df1.values)\n",
    "print(df1.values.dtype)\n",
    "# print(df1.values.dtypes)\n",
    "imr = Imputer(missing_values='NaN', strategy='mean', axis=0) #axis = 0 for columns, axis = 1 for rows\n",
    "imr_2 = Imputer(missing_values='NaN', strategy='mean', axis=0)\n",
    "imr = imr.fit(df1)\n",
    "imputed_data = imr.transform(df1.values)\n",
    "imputed_data_2 = imr_2.fit_transform(df1) #fit + transform\n",
    "print(imputed_data)\n",
    "print(imputed_data_2)\n"
   ]
  },
  {
   "cell_type": "code",
   "execution_count": 22,
   "metadata": {},
   "outputs": [
    {
     "name": "stdout",
     "output_type": "stream",
     "text": [
      "          Date     Value\n",
      "0   2016-10-31  2.227171\n",
      "1   2016-09-30  2.800478\n",
      "2   2016-08-31  3.697997\n",
      "3   2016-07-31  2.441189\n",
      "4   2016-06-30  2.861789\n",
      "5   2016-05-31  3.001133\n",
      "6   2016-04-30  2.935780\n",
      "7   2016-02-29  2.857551\n",
      "8   2016-01-31  3.194591\n",
      "9   2015-12-31  3.394777\n",
      "10  2015-11-30  3.353293\n",
      "11  2015-10-31  2.536585\n",
      "12  2015-09-30  3.629032\n",
      "13  2015-08-31  4.414391\n",
      "14  2015-02-28  4.705882\n",
      "15  2015-01-31  5.079365\n",
      "16  2014-12-31  5.128205\n",
      "17  2014-11-30  4.762661\n",
      "18  2014-10-31  4.008016\n",
      "19  2014-09-30  4.220779\n",
      "20  2014-08-31  4.210526\n",
      "21  2014-07-31  5.630631\n",
      "22  2014-06-30  5.265929\n",
      "23  2014-05-31  5.265929\n",
      "24  2014-04-30  4.255319\n",
      "25  2014-03-31  4.445432\n",
      "26  2014-02-28  4.273504\n",
      "27  2014-01-31  4.005340\n",
      "28  2013-12-31  4.005340\n",
      "29  2013-11-30  4.471545\n",
      "..         ...       ...\n",
      "45  2012-07-31  4.079184\n",
      "46  2012-06-30  3.940887\n",
      "47  2012-05-31  4.545455\n",
      "48  2012-04-30  4.123288\n",
      "49  2012-03-31  4.155844\n",
      "50  2012-02-29  5.357143\n",
      "51  2012-01-31  6.481069\n",
      "52  2011-12-31  5.257143\n",
      "53  2011-11-30  4.762661\n",
      "54  2011-10-31  5.591398\n",
      "55  2011-09-30  4.692388\n",
      "56  2011-08-31  5.277045\n",
      "57  2011-07-31  5.472779\n",
      "58  2011-06-30  4.492754\n",
      "59  2011-05-31  4.166667\n",
      "60  2011-04-30  4.444444\n",
      "61  2011-03-31  4.160000\n",
      "62  2011-02-28  4.623116\n",
      "63  2011-01-31  4.623116\n",
      "64  2010-12-31  5.012531\n",
      "65  2010-11-30  3.849115\n",
      "66  2010-10-31  4.555809\n",
      "67  2010-09-30  5.185185\n",
      "68  2010-08-31  4.880429\n",
      "69  2010-07-31  4.545455\n",
      "70  2010-06-30  4.255319\n",
      "71  2010-05-31  4.762857\n",
      "72  2010-04-30  5.660377\n",
      "73  2010-03-31  5.320334\n",
      "74  2010-02-28  5.691982\n",
      "\n",
      "[75 rows x 2 columns]\n",
      "               0           1           2           3           4           5   \\\n",
      "Date   2016-10-31  2016-09-30  2016-08-31  2016-07-31  2016-06-30  2016-05-31   \n",
      "Value     2.22717     2.80048       3.698     2.44119     2.86179     3.00113   \n",
      "\n",
      "               6           7           8           9      ...              65  \\\n",
      "Date   2016-04-30  2016-02-29  2016-01-31  2015-12-31     ...      2010-11-30   \n",
      "Value     2.93578     2.85755     3.19459     3.39478     ...         3.84911   \n",
      "\n",
      "               66          67          68          69          70          71  \\\n",
      "Date   2010-10-31  2010-09-30  2010-08-31  2010-07-31  2010-06-30  2010-05-31   \n",
      "Value     4.55581     5.18519     4.88043     4.54545     4.25532     4.76286   \n",
      "\n",
      "               72          73          74  \n",
      "Date   2010-04-30  2010-03-31  2010-02-28  \n",
      "Value     5.66038     5.32033     5.69198  \n",
      "\n",
      "[2 rows x 75 columns]\n"
     ]
    }
   ],
   "source": [
    "# Pandas: load file\n",
    "\n",
    "#load csv file\n",
    "data = pd.read_csv('nescsv2.csv')\n",
    "print(data)\n",
    "data = data.T\n",
    "print(data)\n",
    "data.to_csv('nescsv2_transpose.csv')\n"
   ]
  },
  {
   "cell_type": "code",
   "execution_count": 23,
   "metadata": {},
   "outputs": [
    {
     "name": "stdout",
     "output_type": "stream",
     "text": [
      "Index(['a', 'b', 'c', 'd'], dtype='object')\n",
      "RangeIndex(start=0, stop=3, step=1)\n",
      "     a    b    c    d    e\n",
      "1  0.0  0.0  0.0  0.0  NaN\n",
      "2  0.0  0.0  0.0  0.0  NaN\n",
      "3  0.0  0.0  0.0  0.0  NaN\n",
      "2  NaN  1.0  1.0  1.0  1.0\n",
      "3  NaN  1.0  1.0  1.0  1.0\n",
      "4  NaN  1.0  1.0  1.0  1.0\n",
      "['b', 'c', 'd']\n",
      "     b    c    d\n",
      "0  0.0  0.0  0.0\n",
      "1  0.0  0.0  0.0\n",
      "2  0.0  0.0  0.0\n",
      "3  1.0  1.0  1.0\n",
      "4  1.0  1.0  1.0\n",
      "5  1.0  1.0  1.0\n",
      "<pandas.core.groupby.DataFrameGroupBy object at 0x0C18AB50>\n"
     ]
    }
   ],
   "source": [
    "# Pandas merge DataFrame\n",
    "\n",
    "#concat\n",
    "\n",
    "df1_merge = pd.DataFrame(np.ones((3,4))*0, columns=['a','b','c','d'])\n",
    "df2_merge = pd.DataFrame(np.ones((3,4))*1, columns=['a','b','c','d'])\n",
    "df3_merge = pd.DataFrame(np.ones((3,4))*2, columns=['a','b','c','d'])\n",
    "# print(df1_merge, df2_merge, df3_merge,sep='\\n')\n",
    "res = pd.concat([df1_merge, df2_merge, df3_merge], axis = 0, ignore_index = True)\n",
    "# print('\\n')\n",
    "# print(res)\n",
    "# print('\\n')\n",
    "print(df1_merge.columns)\n",
    "print(df1_merge.index)\n",
    "#join: {'inner', 'outer'}\n",
    "df4_merge = pd.DataFrame(np.ones((3,4))*0, columns=['a','b','c','d'],index=[1,2,3])\n",
    "df5_merge = pd.DataFrame(np.ones((3,4))*1, columns=['b','c','d','e'],index=[2,3,4])\n",
    "res_outer = pd.concat([df4_merge, df5_merge], axis=0, join='outer', ignore_index=False)\n",
    "res_inner = pd.concat([df4_merge, df5_merge], axis=0, join='inner', ignore_index=False)\n",
    "print(res_outer)\n",
    "res_reset = res_inner.reset_index(drop=True)\n",
    "print(list(res_reset)) # Same as print(list(res_reset))\n",
    "print(res_reset)\n",
    "print(res_reset.groupby(['b','c']))\n",
    "# print(res_outer, res_inner, sep='\\n')\n",
    "# print(diff_inner_outer)"
   ]
  },
  {
   "cell_type": "code",
   "execution_count": 24,
   "metadata": {
    "scrolled": true
   },
   "outputs": [
    {
     "name": "stdout",
     "output_type": "stream",
     "text": [
      "        Date   Color   Fruit   Num\n",
      "0 2017-08-12  Yellow  Banana  22.1\n",
      "1 2017-08-12  Orange  Orange   8.6\n",
      "2 2017-08-12   Green   Apple   7.6\n",
      "3 2017-08-12   Green  Celery  10.2\n",
      "4 2017-08-13     Red   Apple  22.1\n",
      "5 2017-08-13  Orange  Orange   8.6\n",
      "    Color       Date   Fruit   Num\n",
      "0   Yello 2017-08-12  Banana  22.1\n",
      "1  Orange 2017-08-12  Orange   8.6\n",
      "2   Green 2017-08-12   Apple   7.6\n",
      "3   Green 2017-08-12  Celery  10.2\n",
      "    Color       Date   Fruit   Num\n",
      "0   Yello 2017-08-12  Banana  22.1\n",
      "1  Orange 2017-08-12  Orange   8.6\n",
      "2   Green 2017-08-12   Apple   7.6\n",
      "3   Green 2017-08-12  Celery  10.2\n",
      "0  Yellow 2017-08-12  Banana  22.1\n",
      "1  Orange 2017-08-12  Orange   8.6\n",
      "2   Green 2017-08-12   Apple   7.6\n",
      "3   Green 2017-08-12  Celery  10.2\n",
      "4     Red 2017-08-13   Apple  22.1\n",
      "5  Orange 2017-08-13  Orange   8.6\n",
      "    Color       Date   Fruit   Num\n",
      "0   Yello 2017-08-12  Banana  22.1\n",
      "1  Orange 2017-08-12  Orange   8.6\n",
      "2   Green 2017-08-12   Apple   7.6\n",
      "3   Green 2017-08-12  Celery  10.2\n",
      "4  Yellow 2017-08-12  Banana  22.1\n",
      "5  Orange 2017-08-12  Orange   8.6\n",
      "6   Green 2017-08-12   Apple   7.6\n",
      "7   Green 2017-08-12  Celery  10.2\n",
      "8     Red 2017-08-13   Apple  22.1\n",
      "9  Orange 2017-08-13  Orange   8.6\n",
      "['Color', 'Date', 'Fruit', 'Num']\n",
      "dict_values([Int64Index([2, 6], dtype='int64'), Int64Index([3, 7], dtype='int64'), Int64Index([1, 5], dtype='int64'), Int64Index([9], dtype='int64'), Int64Index([8], dtype='int64'), Int64Index([0], dtype='int64'), Int64Index([4], dtype='int64')])\n",
      "[9, 8, 0, 4]\n"
     ]
    },
    {
     "data": {
      "text/html": [
       "<div>\n",
       "<style>\n",
       "    .dataframe thead tr:only-child th {\n",
       "        text-align: right;\n",
       "    }\n",
       "\n",
       "    .dataframe thead th {\n",
       "        text-align: left;\n",
       "    }\n",
       "\n",
       "    .dataframe tbody tr th {\n",
       "        vertical-align: top;\n",
       "    }\n",
       "</style>\n",
       "<table border=\"1\" class=\"dataframe\">\n",
       "  <thead>\n",
       "    <tr style=\"text-align: right;\">\n",
       "      <th></th>\n",
       "      <th>Color</th>\n",
       "      <th>Date</th>\n",
       "      <th>Fruit</th>\n",
       "      <th>Num</th>\n",
       "    </tr>\n",
       "  </thead>\n",
       "  <tbody>\n",
       "    <tr>\n",
       "      <th>9</th>\n",
       "      <td>Orange</td>\n",
       "      <td>2017-08-13</td>\n",
       "      <td>Orange</td>\n",
       "      <td>8.6</td>\n",
       "    </tr>\n",
       "    <tr>\n",
       "      <th>8</th>\n",
       "      <td>Red</td>\n",
       "      <td>2017-08-13</td>\n",
       "      <td>Apple</td>\n",
       "      <td>22.1</td>\n",
       "    </tr>\n",
       "    <tr>\n",
       "      <th>0</th>\n",
       "      <td>Yello</td>\n",
       "      <td>2017-08-12</td>\n",
       "      <td>Banana</td>\n",
       "      <td>22.1</td>\n",
       "    </tr>\n",
       "    <tr>\n",
       "      <th>4</th>\n",
       "      <td>Yellow</td>\n",
       "      <td>2017-08-12</td>\n",
       "      <td>Banana</td>\n",
       "      <td>22.1</td>\n",
       "    </tr>\n",
       "  </tbody>\n",
       "</table>\n",
       "</div>"
      ],
      "text/plain": [
       "    Color       Date   Fruit   Num\n",
       "9  Orange 2017-08-13  Orange   8.6\n",
       "8     Red 2017-08-13   Apple  22.1\n",
       "0   Yello 2017-08-12  Banana  22.1\n",
       "4  Yellow 2017-08-12  Banana  22.1"
      ]
     },
     "execution_count": 24,
     "metadata": {},
     "output_type": "execute_result"
    }
   ],
   "source": [
    "df1_test = pd.DataFrame({\n",
    "    'Date': pd.Timestamp('20170812'),\n",
    "    'Fruit': ['Banana', 'Orange', 'Apple', 'Celery'],\n",
    "    'Num': [22.1,8.6,7.6,10.2],\n",
    "    'Color': ['Yello', 'Orange', 'Green', 'Green']\n",
    "})\n",
    "\n",
    "df2_test = pd.DataFrame({\n",
    "    'Fruit': ['Banana', 'Orange', 'Apple', 'Celery', 'Apple', 'Orange'],\n",
    "    'Num': [22.1, 8.6, 7.6, 10.2, 22.1, 8.6],\n",
    "    'Color': ['Yellow','Orange','Green','Green','Red','Orange']\n",
    "})\n",
    "\n",
    "dates_test = []\n",
    "for i in range(1,7):\n",
    "    if i <=4:\n",
    "        dates_test.append(pd.Timestamp('20170812'))\n",
    "    else:\n",
    "        dates_test.append(pd.Timestamp('20170813')) \n",
    "\n",
    "df2_test.insert(0, 'Date', dates_test)\n",
    "# print(dates_test)\n",
    "print(df2_test)\n",
    "print(df1_test)\n",
    "\n",
    "df_merge_test = pd.concat([df1_test, df2_test])\n",
    "print(df_merge_test)\n",
    "\n",
    "df_merge_test = df_merge_test.reset_index(drop = True) #pd.concat([df1_test, df2_test], ignore_index=True) could get the same effect\n",
    "print(df_merge_test)\n",
    "\n",
    "print (list(df_merge_test)) #Same as list(df_merge_test.columns) \n",
    "df_gpby = df_merge_test.groupby(list(df_merge_test))\n",
    "# print(df_gpby.groups)\n",
    "print(df_gpby.groups.values())\n",
    "# print(df_gpby.count())\n",
    "\n",
    "# for x in df_gpby.groups.values():\n",
    "#     print(x)\n",
    "idx = [x[0] for x in df_gpby.groups.values() if len(x) == 1]\n",
    "print(idx)\n",
    "\n",
    "df_merge_test.reindex(idx)"
   ]
  },
  {
   "cell_type": "markdown",
   "metadata": {
    "collapsed": true
   },
   "source": []
  }
 ],
 "metadata": {
  "kernelspec": {
   "display_name": "Python 3",
   "language": "python",
   "name": "python3"
  },
  "language_info": {
   "codemirror_mode": {
    "name": "ipython",
    "version": 3
   },
   "file_extension": ".py",
   "mimetype": "text/x-python",
   "name": "python",
   "nbconvert_exporter": "python",
   "pygments_lexer": "ipython3",
   "version": "3.6.1"
  }
 },
 "nbformat": 4,
 "nbformat_minor": 2
}
