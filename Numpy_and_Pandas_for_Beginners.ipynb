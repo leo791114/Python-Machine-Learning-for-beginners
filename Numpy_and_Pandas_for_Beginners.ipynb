{
 "cells": [
  {
   "cell_type": "markdown",
   "metadata": {},
   "source": [
    " <h1 style=\"color: red\">Numpy for Beginners</h1>"
   ]
  },
  {
   "cell_type": "code",
   "execution_count": 22,
   "metadata": {
    "collapsed": true
   },
   "outputs": [],
   "source": [
    "import numpy as np  #Import numpy"
   ]
  },
  {
   "cell_type": "code",
   "execution_count": 23,
   "metadata": {
    "collapsed": true
   },
   "outputs": [],
   "source": [
    "array = np.array([[1,2,3],[4,5,6]])  #Create a two-dimensional array"
   ]
  },
  {
   "cell_type": "code",
   "execution_count": 24,
   "metadata": {},
   "outputs": [
    {
     "name": "stdout",
     "output_type": "stream",
     "text": [
      "[[1 2 3]\n",
      " [4 5 6]]\n",
      "Dim 2\n",
      "Shape (2, 3)\n",
      "Size 6\n"
     ]
    }
   ],
   "source": [
    "print(array)\n",
    "print('Dim', array.ndim)\n",
    "print('Shape', array.shape)\n",
    "print('Size', array.size)"
   ]
  },
  {
   "cell_type": "code",
   "execution_count": 25,
   "metadata": {},
   "outputs": [
    {
     "name": "stdout",
     "output_type": "stream",
     "text": [
      "[1 2 3 4 5]\n",
      "[[ 2  4  6]\n",
      " [ 8 10 12]]\n",
      "\n",
      "\n",
      "[ 0.  0.  0.  0.  0.  0.]\n",
      "float64\n",
      "\n",
      "\n",
      "[1 1 1 1 1 1]\n",
      "int32\n",
      "\n",
      "\n",
      "[[ 0.05219362  0.90341796  0.06470964]\n",
      " [ 0.57908224  0.77183944  0.71899757]]\n",
      "\n",
      "\n",
      "[1 2 3 4 5]\n",
      "[[ 2  4  6]\n",
      " [ 8 10 12]]\n",
      "[ 0.  0.  0.  0.  0.  0.]\n",
      "[1 1 1 1 1 1]\n",
      "[[ 0.05219362  0.90341796  0.06470964]\n",
      " [ 0.57908224  0.77183944  0.71899757]]\n"
     ]
    }
   ],
   "source": [
    "a = np.array([1,2,3,4,5])\n",
    "b = np.arange(2,14,2).reshape((2,3))#Create an array from two to twelve, not included, with step of two\n",
    "                                    #.reshape() reshape the array for 1*6 to 2*3\n",
    "print(a)\n",
    "print(b)\n",
    "c = np.zeros(6) #Create an array with six floating 0.\n",
    "print('\\n')\n",
    "print(c)\n",
    "print(c.dtype)\n",
    "d = np.ones(6, dtype = np.int) #Create an array with six integer 1.\n",
    "print('\\n')\n",
    "print(d)\n",
    "print(d.dtype)\n",
    "e = np.random.random((2,3)) #Create an 2*3 array with elements that are randomly picked between 0 to 1.\n",
    "print('\\n')\n",
    "print(e)\n",
    "#f = b-a\n",
    "print('\\n')\n",
    "# print(f)\n",
    "\n",
    "print(a,b,c,d,e,sep='\\n')\n",
    "# print(a,b,c,d,e,f, sep='\\n')\n",
    "#print(f<-9)\n",
    "#print(f==5)"
   ]
  },
  {
   "cell_type": "code",
   "execution_count": 26,
   "metadata": {},
   "outputs": [
    {
     "name": "stdout",
     "output_type": "stream",
     "text": [
      "[[ 3  6  9]\n",
      " [12 15 18]]\n",
      "63\n",
      "[18 45]\n",
      "[15 21 27]\n"
     ]
    }
   ],
   "source": [
    "a = np.array([[3,6,9],[12,15,18]])\n",
    "print(a)\n",
    "print(np.sum(a))\n",
    "print(np.sum(a, axis=1)) #add all elements on the basis of row\n",
    "print(np.sum(a, axis=0)) #add all elements on the basis of column"
   ]
  },
  {
   "cell_type": "code",
   "execution_count": 27,
   "metadata": {},
   "outputs": [
    {
     "name": "stdout",
     "output_type": "stream",
     "text": [
      "[[ 2  4  6]\n",
      " [ 8 10 12]]\n",
      "[[0 1 2]\n",
      " [3 4 5]]\n",
      "[[2 3 4]\n",
      " [5 6 7]]\n",
      "[[ 0  4 12]\n",
      " [24 40 60]]\n",
      "\n",
      "\n",
      "[[0 3]\n",
      " [1 4]\n",
      " [2 5]]\n",
      "[[ 16  52]\n",
      " [ 34 124]]\n"
     ]
    }
   ],
   "source": [
    "a = np.array([[2,4,6],[8,10,12]])\n",
    "b = np.arange(6).reshape((2,3))\n",
    "print(a,b,a-b,a*b, sep='\\n') #* is normal multiplication\n",
    "print('\\n')\n",
    "print(b.T) #transpose\n",
    "print(np.dot(a,b.T)) # This is array multiplication"
   ]
  },
  {
   "cell_type": "code",
   "execution_count": 28,
   "metadata": {},
   "outputs": [
    {
     "name": "stdout",
     "output_type": "stream",
     "text": [
      "[[1 1 1]\n",
      " [2 2 2]]\n",
      "[1 1 1 2 2 2]\n"
     ]
    }
   ],
   "source": [
    "#Merge\n",
    "A = np.array([1,1,1])\n",
    "B = np.array([2,2,2])\n",
    "print(np.vstack((A,B))) #vertical merge\n",
    "print(np.hstack((A,B))) #horizontal merge"
   ]
  },
  {
   "cell_type": "code",
   "execution_count": 29,
   "metadata": {
    "scrolled": true
   },
   "outputs": [
    {
     "name": "stdout",
     "output_type": "stream",
     "text": [
      "[[ 0  1  2  3]\n",
      " [ 4  5  6  7]\n",
      " [ 8  9 10 11]]\n",
      "[array([[0, 1, 2, 3]]), array([[4, 5, 6, 7]]), array([[ 8,  9, 10, 11]])]\n",
      "[array([[0, 1],\n",
      "       [4, 5],\n",
      "       [8, 9]]), array([[ 2,  3],\n",
      "       [ 6,  7],\n",
      "       [10, 11]])]\n"
     ]
    }
   ],
   "source": [
    "#Split\n",
    "a = np.arange(12).reshape((3,4))\n",
    "print(a)\n",
    "print(np.vsplit(a,3)) #Vertically split the array into 3 new arrays\n",
    "print(np.hsplit(a,2)) #Horizontally split the array into 2 new arrays"
   ]
  },
  {
   "cell_type": "markdown",
   "metadata": {},
   "source": [
    "<h1 style=\"color: red\">Pandas for Beginners</h1>"
   ]
  },
  {
   "cell_type": "markdown",
   "metadata": {},
   "source": [
    "<h3 style=\"color:blue\">Series</h3>"
   ]
  },
  {
   "cell_type": "code",
   "execution_count": 30,
   "metadata": {},
   "outputs": [
    {
     "name": "stdout",
     "output_type": "stream",
     "text": [
      "0      1\n",
      "1    abc\n",
      "2      6\n",
      "3    NaN\n",
      "4     44\n",
      "5      1\n",
      "dtype: object\n",
      "['1' 'abc' '6' 'nan' '44' '1']\n"
     ]
    }
   ],
   "source": [
    "import pandas as pd\n",
    "s = pd.Series([1,'abc','6',np.nan,44,1])\n",
    "a = np.array([1,'abc','6',np.nan,44,1])\n",
    "\n",
    "print(s)\n",
    "print(a)"
   ]
  },
  {
   "cell_type": "markdown",
   "metadata": {},
   "source": [
    " <h3 style=\"color: blue\">DataFrame</h3> "
   ]
  },
  {
   "cell_type": "code",
   "execution_count": 31,
   "metadata": {},
   "outputs": [
    {
     "name": "stdout",
     "output_type": "stream",
     "text": [
      "0.7683985016289315\n",
      "-1.743970053890798\n",
      "          0         1         2\n",
      "0 -1.530666  0.912511  1.463592\n",
      "1  0.441934 -0.605598  1.658580\n",
      "2 -0.435810 -1.479400  0.037328\n",
      "3  0.126506 -0.205712 -0.938709\n",
      "4 -0.813361  0.196704  0.380190\n",
      "5  0.090246 -1.285109  1.028883\n",
      "6 -0.736495  0.243148  0.542910\n"
     ]
    }
   ],
   "source": [
    "#Method one: use array to create DataFrame\n",
    "print(np.random.random()) # np.random.random returns random floats in the half-open interval [0 1)\n",
    "print(np.random.randn()) # np.random.randn returns random floats sampled from a univariate nomal distribution\n",
    "\n",
    "\n",
    "df = pd.DataFrame(np.random.randn(7,3))\n",
    "print(df)"
   ]
  },
  {
   "cell_type": "code",
   "execution_count": 32,
   "metadata": {},
   "outputs": [
    {
     "name": "stdout",
     "output_type": "stream",
     "text": [
      "[[65 90 80]\n",
      " [75 70 70]\n",
      " [65 70 90]\n",
      " [55 75 75]\n",
      " [60 50 90]\n",
      " [55 65 50]\n",
      " [75 80 90]]\n",
      "DatetimeIndex(['2017-08-12', '2017-08-13', '2017-08-14', '2017-08-15',\n",
      "               '2017-08-16', '2017-08-17', '2017-08-18'],\n",
      "              dtype='datetime64[ns]', freq='D')\n",
      "    0   1   2\n",
      "0  65  90  80\n",
      "1  75  70  70\n",
      "2  65  70  90\n",
      "3  55  75  75\n",
      "4  60  50  90\n",
      "5  55  65  50\n",
      "6  75  80  90\n",
      "            Breakfast  Lunch  Dinner\n",
      "2017-08-12         65     90      80\n",
      "2017-08-13         75     70      70\n",
      "2017-08-14         65     70      90\n",
      "2017-08-15         55     75      75\n",
      "2017-08-16         60     50      90\n",
      "2017-08-17         55     65      50\n",
      "2017-08-18         75     80      90\n"
     ]
    }
   ],
   "source": [
    "#Method one: use array to create DataFrame\n",
    "eat = np.random.randint(10, size=(7,3))*5+50\n",
    "print(eat)\n",
    "dates = pd.date_range('20170812', periods=7)\n",
    "print(dates)\n",
    "#print(np.dtype(dates))\n",
    "df0 = pd.DataFrame(eat)\n",
    "print(df0)\n",
    "df1 = pd.DataFrame(eat, index=dates, columns=['Breakfast', 'Lunch', 'Dinner'])\n",
    "print(df1)"
   ]
  },
  {
   "cell_type": "code",
   "execution_count": 33,
   "metadata": {},
   "outputs": [
    {
     "name": "stdout",
     "output_type": "stream",
     "text": [
      "        Time  Integer  Decimal Category\n",
      "0 2017-08-12        3      1.0     test\n",
      "1 2017-08-12        3      3.0    train\n",
      "2 2017-08-12        3      6.0     test\n",
      "3 2017-08-12        3      4.0    train\n",
      "  Category  Decimal  Integer       Time\n",
      "0     test      1.0        3 2017-08-12\n",
      "1    train      3.0        3 2017-08-12\n",
      "3    train      4.0        3 2017-08-12\n",
      "2     test      6.0        3 2017-08-12\n"
     ]
    }
   ],
   "source": [
    "#Method two: use dictionary to create DataFrame\n",
    "df2 = pd.DataFrame({'Decimal': pd.Series([1,3,6,4], index=list(range(4)), dtype='float32'),\n",
    "                   'Integer': np.array([3]*4, dtype='int32'),\n",
    "                   'Time': pd.Timestamp('20170812'),\n",
    "                   'Category': pd.Categorical(['test','train','test','train'])})\n",
    "x = pd.Series(1,index=list(range(4)), dtype='float32')\n",
    "#print(x)\n",
    "y = np.array([3]*4, dtype='int32')\n",
    "#print(y)\n",
    "z = pd.Timestamp('20170816')\n",
    "#print(z)\n",
    "k = pd.Categorical(['test','train','test','train'])\n",
    "#print(k)\n",
    "#print(df2)\n",
    "#print(df2.dtypes)\n",
    "#print(df2.index)\n",
    "#print(df2.columns)\n",
    "#print(df2.values)\n",
    "#print(df2.T)\n",
    "print(df2.sort_index(axis=1,ascending=False)) #axis=1 takes columns as sorting index\n",
    "print(df2.sort_values(by='Decimal'))"
   ]
  },
  {
   "cell_type": "code",
   "execution_count": 34,
   "metadata": {},
   "outputs": [
    {
     "name": "stdout",
     "output_type": "stream",
     "text": [
      "            Breakfast  Lunch  Dinner\n",
      "2017-08-12         65     90      80\n",
      "2017-08-13         75     70      70\n",
      "2017-08-14         65     70      90\n",
      "2017-08-15         55     75      75\n",
      "2017-08-16         60     50      90\n",
      "2017-08-17         55     65      50\n",
      "2017-08-18         75     80      90\n",
      "\n",
      "\n",
      "2017-08-12    90\n",
      "2017-08-13    70\n",
      "2017-08-14    70\n",
      "2017-08-15    75\n",
      "2017-08-16    50\n",
      "2017-08-17    65\n",
      "2017-08-18    80\n",
      "Freq: D, Name: Lunch, dtype: int32\n",
      "\n",
      "\n",
      "            Breakfast  Lunch  Dinner\n",
      "2017-08-12         65     90      80\n",
      "2017-08-13         75     70      70\n",
      "2017-08-14         65     70      90\n"
     ]
    }
   ],
   "source": [
    "# Pandas: Selecting data\n",
    "print(df1)\n",
    "print('\\n')\n",
    "print(df1['Lunch'])\n",
    "print('\\n')\n",
    "print(df1[0:3])"
   ]
  },
  {
   "cell_type": "code",
   "execution_count": 35,
   "metadata": {},
   "outputs": [
    {
     "name": "stdout",
     "output_type": "stream",
     "text": [
      "            Breakfast  Lunch  Dinner\n",
      "2017-08-12         65     90      80\n",
      "2017-08-13         75     70      70\n",
      "2017-08-14         65     70      90\n",
      "2017-08-15         55     75      75\n",
      "2017-08-16         60     50      90\n",
      "2017-08-17         55     65      50\n",
      "2017-08-18         75     80      90\n",
      "Breakfast    65\n",
      "Lunch        90\n",
      "Dinner       80\n",
      "Name: 2017-08-12 00:00:00, dtype: int32\n",
      "            Breakfast  Lunch\n",
      "2017-08-13         75     70\n",
      "2017-08-14         65     70\n",
      "2017-08-15         55     75\n",
      "2017-08-16         60     50\n",
      "\n",
      "\n",
      "75\n",
      "            Lunch  Dinner\n",
      "2017-08-15     75      75\n",
      "2017-08-16     50      90\n",
      "\n",
      "\n",
      "            Lunch  Dinner\n",
      "2017-08-12     90      80\n",
      "2017-08-13     70      70\n",
      "2017-08-14     70      90\n"
     ]
    },
    {
     "name": "stderr",
     "output_type": "stream",
     "text": [
      "C:\\Anaconda3\\lib\\site-packages\\ipykernel_launcher.py:11: DeprecationWarning: \n",
      ".ix is deprecated. Please use\n",
      ".loc for label based indexing or\n",
      ".iloc for positional indexing\n",
      "\n",
      "See the documentation here:\n",
      "http://pandas.pydata.org/pandas-docs/stable/indexing.html#deprecate_ix\n",
      "  # This is added back by InteractiveShellApp.init_path()\n"
     ]
    }
   ],
   "source": [
    "print(df1)\n",
    "# Pandas: Selecting data by label (refer to the label and not the position)\n",
    "print(df1.loc['20170812'])\n",
    "print(df1.loc['20170813':'20170816',['Breakfast','Lunch']])\n",
    "print('\\n')\n",
    "# Pandas: Selecting data by position\n",
    "print(df1.iloc[3,1])\n",
    "print(df1.iloc[3:5,1:3])\n",
    "print('\\n')\n",
    "# Pandas: Selecting data by ix\n",
    "print(df1.ix[:3,['Lunch','Dinner']])"
   ]
  },
  {
   "cell_type": "code",
   "execution_count": 36,
   "metadata": {},
   "outputs": [
    {
     "name": "stdout",
     "output_type": "stream",
     "text": [
      "            Breakfast  Lunch  Dinner\n",
      "2017-08-12         65     90      80\n"
     ]
    }
   ],
   "source": [
    "# Pandas: Conditional expression\n",
    "print(df1[df1.Lunch > 80])"
   ]
  },
  {
   "cell_type": "code",
   "execution_count": 37,
   "metadata": {},
   "outputs": [
    {
     "name": "stdout",
     "output_type": "stream",
     "text": [
      "            Breakfast  Lunch  Dinner\n",
      "2017-08-12         65     90      80\n",
      "            Breakfast  Lunch  Dinner\n",
      "2017-08-12         65   90.0      80\n",
      "2017-08-13         75   70.0      70\n",
      "2017-08-14         65    NaN      90\n",
      "2017-08-15         55   75.0      75\n",
      "2017-08-16         60   50.0      90\n",
      "2017-08-17         55   65.0      50\n",
      "2017-08-18         75   80.0      90\n",
      "Breakfast      int32\n",
      "Lunch        float64\n",
      "Dinner         int32\n",
      "dtype: object\n"
     ]
    }
   ],
   "source": [
    "# Pandas: Re-assign data\n",
    "#df1.Dinner[df1.Lunch>80]=40  --> this method Pandas would select df1.Dinner first, and then returns\n",
    "#a DataFrame that is singly-indexed. Then, another python operation df1_dinner[df1.Lunch>80] will\n",
    "#happens. THis is because pandas sees these operations as separate events.\n",
    "df1.loc[:,['Dinner']][df1.Lunch>80] = 40\n",
    "print(df1[df1.Lunch>80])\n",
    "df1.loc['20170814','Lunch'] = np.nan\n",
    "print(df1)\n",
    "print(df1.dtypes)"
   ]
  },
  {
   "cell_type": "code",
   "execution_count": 38,
   "metadata": {},
   "outputs": [
    {
     "name": "stdout",
     "output_type": "stream",
     "text": [
      "            Breakfast  Lunch  Dinner\n",
      "2017-08-12      False  False   False\n",
      "2017-08-13      False  False   False\n",
      "2017-08-14      False   True   False\n",
      "2017-08-15      False  False   False\n",
      "2017-08-16      False  False   False\n",
      "2017-08-17      False  False   False\n",
      "2017-08-18      False  False   False\n"
     ]
    },
    {
     "data": {
      "text/plain": [
       "Breakfast    0\n",
       "Lunch        1\n",
       "Dinner       0\n",
       "dtype: int64"
      ]
     },
     "execution_count": 38,
     "metadata": {},
     "output_type": "execute_result"
    }
   ],
   "source": [
    "# Pandas: Dealing with missing values\n",
    "print(df1.isnull())\n",
    "df1.isnull().sum()"
   ]
  },
  {
   "cell_type": "code",
   "execution_count": 39,
   "metadata": {},
   "outputs": [
    {
     "data": {
      "text/html": [
       "<div>\n",
       "<style>\n",
       "    .dataframe thead tr:only-child th {\n",
       "        text-align: right;\n",
       "    }\n",
       "\n",
       "    .dataframe thead th {\n",
       "        text-align: left;\n",
       "    }\n",
       "\n",
       "    .dataframe tbody tr th {\n",
       "        vertical-align: top;\n",
       "    }\n",
       "</style>\n",
       "<table border=\"1\" class=\"dataframe\">\n",
       "  <thead>\n",
       "    <tr style=\"text-align: right;\">\n",
       "      <th></th>\n",
       "      <th>Breakfast</th>\n",
       "      <th>Lunch</th>\n",
       "      <th>Dinner</th>\n",
       "    </tr>\n",
       "  </thead>\n",
       "  <tbody>\n",
       "    <tr>\n",
       "      <th>2017-08-12</th>\n",
       "      <td>65</td>\n",
       "      <td>90.0</td>\n",
       "      <td>80</td>\n",
       "    </tr>\n",
       "    <tr>\n",
       "      <th>2017-08-13</th>\n",
       "      <td>75</td>\n",
       "      <td>70.0</td>\n",
       "      <td>70</td>\n",
       "    </tr>\n",
       "    <tr>\n",
       "      <th>2017-08-14</th>\n",
       "      <td>65</td>\n",
       "      <td>0.0</td>\n",
       "      <td>90</td>\n",
       "    </tr>\n",
       "    <tr>\n",
       "      <th>2017-08-15</th>\n",
       "      <td>55</td>\n",
       "      <td>75.0</td>\n",
       "      <td>75</td>\n",
       "    </tr>\n",
       "    <tr>\n",
       "      <th>2017-08-16</th>\n",
       "      <td>60</td>\n",
       "      <td>50.0</td>\n",
       "      <td>90</td>\n",
       "    </tr>\n",
       "    <tr>\n",
       "      <th>2017-08-17</th>\n",
       "      <td>55</td>\n",
       "      <td>65.0</td>\n",
       "      <td>50</td>\n",
       "    </tr>\n",
       "    <tr>\n",
       "      <th>2017-08-18</th>\n",
       "      <td>75</td>\n",
       "      <td>80.0</td>\n",
       "      <td>90</td>\n",
       "    </tr>\n",
       "  </tbody>\n",
       "</table>\n",
       "</div>"
      ],
      "text/plain": [
       "            Breakfast  Lunch  Dinner\n",
       "2017-08-12         65   90.0      80\n",
       "2017-08-13         75   70.0      70\n",
       "2017-08-14         65    0.0      90\n",
       "2017-08-15         55   75.0      75\n",
       "2017-08-16         60   50.0      90\n",
       "2017-08-17         55   65.0      50\n",
       "2017-08-18         75   80.0      90"
      ]
     },
     "execution_count": 39,
     "metadata": {},
     "output_type": "execute_result"
    }
   ],
   "source": [
    "# Panadas: Dealing with missing values --> replace them with 0\n",
    "df1.fillna(value=0)"
   ]
  },
  {
   "cell_type": "code",
   "execution_count": 40,
   "metadata": {},
   "outputs": [
    {
     "name": "stdout",
     "output_type": "stream",
     "text": [
      "            Breakfast  Lunch  Dinner\n",
      "2017-08-12         65   90.0      80\n",
      "2017-08-13         75   70.0      70\n",
      "2017-08-14         65    NaN      90\n",
      "2017-08-15         55   75.0      75\n",
      "2017-08-16         60   50.0      90\n",
      "2017-08-17         55   65.0      50\n",
      "2017-08-18         75   80.0      90\n"
     ]
    },
    {
     "data": {
      "text/html": [
       "<div>\n",
       "<style>\n",
       "    .dataframe thead tr:only-child th {\n",
       "        text-align: right;\n",
       "    }\n",
       "\n",
       "    .dataframe thead th {\n",
       "        text-align: left;\n",
       "    }\n",
       "\n",
       "    .dataframe tbody tr th {\n",
       "        vertical-align: top;\n",
       "    }\n",
       "</style>\n",
       "<table border=\"1\" class=\"dataframe\">\n",
       "  <thead>\n",
       "    <tr style=\"text-align: right;\">\n",
       "      <th></th>\n",
       "      <th>Breakfast</th>\n",
       "      <th>Lunch</th>\n",
       "      <th>Dinner</th>\n",
       "    </tr>\n",
       "  </thead>\n",
       "  <tbody>\n",
       "    <tr>\n",
       "      <th>2017-08-12</th>\n",
       "      <td>65</td>\n",
       "      <td>90.0</td>\n",
       "      <td>80</td>\n",
       "    </tr>\n",
       "    <tr>\n",
       "      <th>2017-08-13</th>\n",
       "      <td>75</td>\n",
       "      <td>70.0</td>\n",
       "      <td>70</td>\n",
       "    </tr>\n",
       "    <tr>\n",
       "      <th>2017-08-15</th>\n",
       "      <td>55</td>\n",
       "      <td>75.0</td>\n",
       "      <td>75</td>\n",
       "    </tr>\n",
       "    <tr>\n",
       "      <th>2017-08-16</th>\n",
       "      <td>60</td>\n",
       "      <td>50.0</td>\n",
       "      <td>90</td>\n",
       "    </tr>\n",
       "    <tr>\n",
       "      <th>2017-08-17</th>\n",
       "      <td>55</td>\n",
       "      <td>65.0</td>\n",
       "      <td>50</td>\n",
       "    </tr>\n",
       "    <tr>\n",
       "      <th>2017-08-18</th>\n",
       "      <td>75</td>\n",
       "      <td>80.0</td>\n",
       "      <td>90</td>\n",
       "    </tr>\n",
       "  </tbody>\n",
       "</table>\n",
       "</div>"
      ],
      "text/plain": [
       "            Breakfast  Lunch  Dinner\n",
       "2017-08-12         65   90.0      80\n",
       "2017-08-13         75   70.0      70\n",
       "2017-08-15         55   75.0      75\n",
       "2017-08-16         60   50.0      90\n",
       "2017-08-17         55   65.0      50\n",
       "2017-08-18         75   80.0      90"
      ]
     },
     "execution_count": 40,
     "metadata": {},
     "output_type": "execute_result"
    }
   ],
   "source": [
    "# Panadas: Dealing with missing values --> erase the missing values\n",
    "print(df1)\n",
    "df1.dropna(\n",
    "    axis=0,    #0: operates under the base of row; 1: operates under the base of column\n",
    "    how='any'  #'any':Drop the whole row or column if there is any NaN value.\n",
    "               #'all':Drop the whole row or column if the values in the row or column are all NaN.\n",
    ")"
   ]
  },
  {
   "cell_type": "code",
   "execution_count": 41,
   "metadata": {},
   "outputs": [
    {
     "name": "stdout",
     "output_type": "stream",
     "text": [
      "            Breakfast  Lunch  Dinner\n",
      "2017-08-12         65   90.0      80\n",
      "2017-08-13         75   70.0      70\n",
      "2017-08-14         65    NaN      90\n",
      "2017-08-15         55   75.0      75\n",
      "2017-08-16         60   50.0      90\n",
      "2017-08-17         55   65.0      50\n",
      "2017-08-18         75   80.0      90\n"
     ]
    },
    {
     "data": {
      "text/html": [
       "<div>\n",
       "<style>\n",
       "    .dataframe thead tr:only-child th {\n",
       "        text-align: right;\n",
       "    }\n",
       "\n",
       "    .dataframe thead th {\n",
       "        text-align: left;\n",
       "    }\n",
       "\n",
       "    .dataframe tbody tr th {\n",
       "        vertical-align: top;\n",
       "    }\n",
       "</style>\n",
       "<table border=\"1\" class=\"dataframe\">\n",
       "  <thead>\n",
       "    <tr style=\"text-align: right;\">\n",
       "      <th></th>\n",
       "      <th>Breakfast</th>\n",
       "      <th>Lunch</th>\n",
       "      <th>Dinner</th>\n",
       "    </tr>\n",
       "  </thead>\n",
       "  <tbody>\n",
       "    <tr>\n",
       "      <th>2017-08-12</th>\n",
       "      <td>65</td>\n",
       "      <td>90.0</td>\n",
       "      <td>80</td>\n",
       "    </tr>\n",
       "    <tr>\n",
       "      <th>2017-08-13</th>\n",
       "      <td>75</td>\n",
       "      <td>70.0</td>\n",
       "      <td>70</td>\n",
       "    </tr>\n",
       "    <tr>\n",
       "      <th>2017-08-14</th>\n",
       "      <td>65</td>\n",
       "      <td>NaN</td>\n",
       "      <td>90</td>\n",
       "    </tr>\n",
       "    <tr>\n",
       "      <th>2017-08-15</th>\n",
       "      <td>55</td>\n",
       "      <td>75.0</td>\n",
       "      <td>75</td>\n",
       "    </tr>\n",
       "    <tr>\n",
       "      <th>2017-08-16</th>\n",
       "      <td>60</td>\n",
       "      <td>50.0</td>\n",
       "      <td>90</td>\n",
       "    </tr>\n",
       "    <tr>\n",
       "      <th>2017-08-17</th>\n",
       "      <td>55</td>\n",
       "      <td>65.0</td>\n",
       "      <td>50</td>\n",
       "    </tr>\n",
       "    <tr>\n",
       "      <th>2017-08-18</th>\n",
       "      <td>75</td>\n",
       "      <td>80.0</td>\n",
       "      <td>90</td>\n",
       "    </tr>\n",
       "  </tbody>\n",
       "</table>\n",
       "</div>"
      ],
      "text/plain": [
       "            Breakfast  Lunch  Dinner\n",
       "2017-08-12         65   90.0      80\n",
       "2017-08-13         75   70.0      70\n",
       "2017-08-14         65    NaN      90\n",
       "2017-08-15         55   75.0      75\n",
       "2017-08-16         60   50.0      90\n",
       "2017-08-17         55   65.0      50\n",
       "2017-08-18         75   80.0      90"
      ]
     },
     "execution_count": 41,
     "metadata": {},
     "output_type": "execute_result"
    }
   ],
   "source": [
    "# Pandas: Other usages\n",
    "print(df1)\n",
    "df1.dropna(thresh=3)  #Keep only the rows with at least 3 non-na values\n",
    "df1.dropna(subset=['Breakfast']) #Only drops the rows or columns in the subset that have NaN value."
   ]
  },
  {
   "cell_type": "code",
   "execution_count": 54,
   "metadata": {},
   "outputs": [
    {
     "name": "stdout",
     "output_type": "stream",
     "text": [
      "Breakfast      int32\n",
      "Lunch        float64\n",
      "Dinner         int32\n",
      "dtype: object\n",
      "[[ 65.  90.  80.]\n",
      " [ 75.  70.  70.]\n",
      " [ 65.  nan  90.]\n",
      " [ 55.  75.  75.]\n",
      " [ 60.  50.  90.]\n",
      " [ 55.  65.  50.]\n",
      " [ 75.  80.  90.]]\n",
      "float64\n"
     ]
    },
    {
     "data": {
      "text/plain": [
       "array([[ 65.        ,  90.        ,  80.        ],\n",
       "       [ 75.        ,  70.        ,  70.        ],\n",
       "       [ 65.        ,  71.66666667,  90.        ],\n",
       "       [ 55.        ,  75.        ,  75.        ],\n",
       "       [ 60.        ,  50.        ,  90.        ],\n",
       "       [ 55.        ,  65.        ,  50.        ],\n",
       "       [ 75.        ,  80.        ,  90.        ]])"
      ]
     },
     "execution_count": 54,
     "metadata": {},
     "output_type": "execute_result"
    }
   ],
   "source": [
    "# Pandas: Dealing with missing values --> interpolation\n",
    "from sklearn.preprocessing import Imputer\n",
    "print(df1.dtypes)\n",
    "print(df1.values)\n",
    "print(df1.values.dtype)\n",
    "# print(df1.values.dtypes)\n",
    "imr = Imputer(missing_values='NaN', strategy='mean', axis=0)\n",
    "imr = imr.fit(df1)\n",
    "imputed_data = imr.transform(df1.values)\n",
    "imputed_data\n"
   ]
  }
 ],
 "metadata": {
  "kernelspec": {
   "display_name": "Python 3",
   "language": "python",
   "name": "python3"
  },
  "language_info": {
   "codemirror_mode": {
    "name": "ipython",
    "version": 3
   },
   "file_extension": ".py",
   "mimetype": "text/x-python",
   "name": "python",
   "nbconvert_exporter": "python",
   "pygments_lexer": "ipython3",
   "version": "3.6.1"
  }
 },
 "nbformat": 4,
 "nbformat_minor": 2
}
