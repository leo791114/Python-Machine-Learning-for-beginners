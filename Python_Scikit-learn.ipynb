{
 "cells": [
  {
   "cell_type": "markdown",
   "metadata": {
    "collapsed": true
   },
   "source": [
    "<h3 style=\"color: blue\">KNN Classifier - IRIS</h3>\n",
    "<h4 style=\"color: red\">Processes:</h4>\n",
    "<ol>\n",
    "    <li>\n",
    "        <b>Import module:</b> \n",
    "        <ul><li>datasets, train_test_split, KNeighborsClassifier</li></ul>\n",
    "    </li>\n",
    "    <li>\n",
    "        <b>Create Data:</b>\n",
    "        <ul>\n",
    "            <li>classes, labels</li>\n",
    "            <li>Data set --> training set/data, testing set/data</li>\n",
    "        </ul>\n",
    "    </li>\n",
    "    <li>\n",
    "        <b>Create Model:</b>\n",
    "        <ul>\n",
    "            <li>fit, predict</li>\n",
    "        </ul>\n",
    "    </li>\n",
    "    <li>\n",
    "        <b>Visualization</b>\n",
    "    </li>\n",
    "</ol>"
   ]
  },
  {
   "cell_type": "markdown",
   "metadata": {},
   "source": [
    "<h4 style=\"color: green\">sklear.cross_validation:</b></h4>\n",
    "<h5><li>train_test_split(*array, **options):</li></h5>\n",
    "<p>To avoid <b>overfitting</b>, it is common practice when performing a (supervised) machine learning experiment to hold out\n",
    "part of the available data as a <b>test set</b> <em>X_test, y_test</em>.\n",
    "<table align='left'>\n",
    "    <tr style='border: 2px solid black'>\n",
    "        <th style='text-align: left; border-right: 2px solid black'>Parameters:</th>\n",
    "        <td>\n",
    "            <ul style='list-style:none; text-align: left; line-height: 2rem'>\n",
    "                <li><b>*arrays:</b> Allowed inputs are lists, numpy arrays, scipy-sparse matrices or pandas dataframes</li>\n",
    "                <li><b>test_size:</b> float, int, None, optional</li>\n",
    "                <li><b>train_size:</b> float, int, None, default None</li>\n",
    "                <li>\n",
    "                   <b>random_state:</b> int, RandomState instance or None, optional(default=None)                     </li>\n",
    "                <li>\n",
    "                    <b>shuffle:</b> boolean, optional(default=True)\n",
    "                    <p style='margin-top: 0; text-indent: 40px'>Whether or not to shuffle the data before splitting. If shuffle=False then stratify must be None.</p>\n",
    "                </li>\n",
    "                <li><b>stratify:</b> array-like or None (default is None)</li>\n",
    "            </ul>\n",
    "        </td>\n",
    "    </tr>\n",
    "    <tr style='border: 2px solid black'>\n",
    "        <th style='text-align: left; border-right: 2px solid black'>Returns:</th>\n",
    "        <td>\n",
    "            <ul style=\"list-style: none; text-align: left; line-height: 2rem\">\n",
    "                <li>\n",
    "                    <b>splitting:</b> list, length=2 * len(arrays)\n",
    "                    <p style='margin-top: 0; text-indent: 40px'>List containing train-test split of inputs</p>\n",
    "                </li>\n",
    "            </ul>\n",
    "        </td>\n",
    "    </tr>\n",
    "</table>"
   ]
  },
  {
   "cell_type": "markdown",
   "metadata": {},
   "source": [
    "<h4 style='color: green'>sklearn.neighbors:</h4>\n",
    "<h5>&emsp;It provides functionality for unsupervised and supervised neighbors-based learning methods.</h5>\n",
    "<p>\n",
    "    &emsp;(The principle behind nearest neighbor methods is to find a predefined number of training       samples closest in distance to the new point, and predict the label from these.)\n",
    "</p>\n",
    "<p>\n",
    "    &emsp;<b>Unsupervised nearest neighbors:</b> It's the foundation of many other learning methods,       notably manifold learning and spectral clustering.\n",
    "</p>\n",
    "<p>\n",
    "    &emsp;<b>Supervised neighbors-based learning:</b> It comes in two flavors: <em style='color:      red'>classification</em> for data with discrete labels, and <em style='color: red'>regression</em> for data with continuous labels.\n",
    "</p>"
   ]
  },
  {
   "cell_type": "markdown",
   "metadata": {},
   "source": [
    "<li>\n",
    "    <em>sklearn.neighbors.<b>KNeighborsClassifier</b></em>(n_neighbors=5, weights='uniform', algorithm='auto', leaf_size=30, p=2,, metric='minkowski', metric_params=None, n_jobs=1, **kwargs):\n",
    "</li>\n",
    "<p>Classifier implementing the k-nearest neighbors vote.</p>\n",
    "\n",
    "<table align='left'>\n",
    "    <tr>\n",
    "        <th style='border: solid 2px black'>Parameters:</th>\n",
    "        <td style='text-align: left; border: solid 2px black'>\n",
    "            <ul style='list-style: none; line-height: 2.5rem'>\n",
    "                <li>\n",
    "                    <b>n_neighbors:</b> int, optional (default=5)\n",
    "                    <br>\n",
    "                    &nbsp; Number of neighbors to use by default for <em>kneighbors</em> queries.\n",
    "                </li>\n",
    "                <li>\n",
    "                    <b>weights:</b> str or callable, optional (default = 'uniform')\n",
    "                    <br>\n",
    "                    &nbsp;\n",
    "                    weight function in prediciton.\n",
    "                    <ul>\n",
    "                        <li>'uniform'</li>\n",
    "                        <li>'distance'</li>\n",
    "                        <li>[callable]</li>\n",
    "                    </ul>\n",
    "                </li>\n",
    "                <li>\n",
    "                    <b>algorithm:</b> {'auto', 'ball_tree', 'kd_tree', 'brute'}, optional\n",
    "                    <br>\n",
    "                    &nbsp; \n",
    "                    Algorithm used to compute the nearest neighbors:\n",
    "                    <ul>\n",
    "                        <li>'ball_tree' will use <em>BallTree</em></li>\n",
    "                        <li>'kd_tree' will use <em>KDTree</em></li>\n",
    "                        <li>'brute' will use a brute-force search</li>\n",
    "                        <li>'auto' will attempt to decide the most appropriate algorithm</li>\n",
    "                    </ul>\n",
    "                </li>\n",
    "                <li>\n",
    "                    <b>leaf_size:</b> int, optional (default = 30)\n",
    "                    <br>\n",
    "                    &nbsp;\n",
    "                    Leaf size passed to BallTree or KDTree. This can affect the speed of the \n",
    "                    construction and query, as well as the memory required to store the tree.\n",
    "                </li>\n",
    "                <li>\n",
    "                    <b>p:</b> string or callable, default 'minkowski'\n",
    "                    &nbsp;\n",
    "                    Power parameter for the Minkowski metric\n",
    "                    <ul>\n",
    "                        <li>p = 1: manhattan_distance(l1)</li>\n",
    "                        <li>p = 2: euclidean_distance(l2)</li>\n",
    "                        <li>p = arbitrary: minkowski_distance(l_p)</li>\n",
    "                    </ul>\n",
    "                </li>\n",
    "                <li>\n",
    "                    <b>metric:</b> string or callable, default 'minkowski'\n",
    "                    &nbsp;\n",
    "                    The distance metric to use for the tree\n",
    "                </li>\n",
    "                <li>\n",
    "                    <b>metric_params:</b> dict, optional (default = None)\n",
    "                    &nbsp;\n",
    "                    Additional keyword arguments for the metric function\n",
    "                </li>\n",
    "                <li>\n",
    "                    <b>n_jobs:</b> int, optional (default = 1)\n",
    "                    &nbsp;\n",
    "                    The number of parallel jobs to run for neighbors search\n",
    "                </li>\n",
    "            </ul>  \n",
    "        </td>\n",
    "    </tr>\n",
    "</table>"
   ]
  },
  {
   "cell_type": "markdown",
   "metadata": {},
   "source": [
    "<h4 style='color:green'>sklearn.prepocessing:</h4>\n",
    "<h5>\n",
    "    &emsp;It provides several common utility functions and transformer classes to change raw feature vectors\n",
    "    into a representation that is more suitable for the downstream estimators.\n",
    "</h5>\n",
    "<p>\n",
    "    &emsp;Learning algorithms benefit from standardization of the data set. (ex: dealing with outliers)\n",
    "</p>\n"
   ]
  },
  {
   "cell_type": "markdown",
   "metadata": {},
   "source": [
    "<li>sklearn.preprocessing.<b>StandardScaler</b>(copy=True, with_mean=True, with_std=True)</li>\n",
    "<p>&emsp;Standardize features by removing the mean and scalling to unit variance. (normally distributed data, ex: <b style='color: red'>Gaussian with 0 mean and unit variance</b>,(X-X_mean)/X_std)</p>\n",
    "<p>&emsp;Centering and scaling happen independently on each feature by computing the relevant statistics on the samples in the training set. Mean and standard deviation are then stored to be used on later data using the transformer method.</p>\n",
    "\n",
    "<table align='left'>\n",
    "    <tr style='border: solid 2px black'>\n",
    "        <th style='border: solid 2px black'>Parameters:</th>\n",
    "        <td>\n",
    "            <ul style='list-style:none; text-align: left; line-height: 2.5rem'>\n",
    "                <li>\n",
    "                    <b>copy:</b> boolean, optional, default True\n",
    "                </li>\n",
    "                <li>\n",
    "                    <b>with_mean:</b> boolean, default True\n",
    "                    <br>\n",
    "                    &nbsp; \n",
    "                    If True, center the data before scaling.\n",
    "                </li>\n",
    "                <li>\n",
    "                    <b>with_std:</b> boolean, default True\n",
    "                    <br>\n",
    "                    &nbsp; \n",
    "                    If True, scale the data to unit variance (or equivalently, unit standard\n",
    "                    deviation)\n",
    "                </li>\n",
    "            </ul>\n",
    "        </td>\n",
    "    </tr>\n",
    "    <tr style='border: solid 2px black'>\n",
    "        <th style='border: solid 2px black'>Attributes</th>\n",
    "        <td>\n",
    "            <ul style='list-style: none; text-align: left; line-height: 2.5rem'>\n",
    "                <li>\n",
    "                    <b>scale<u style='white-space: pre'>  </u>:</b> ndarray, shape[n<u> </u>features]\n",
    "                    <br>\n",
    "                    &nbsp;\n",
    "                    Per feature relative scaling of the data\n",
    "                </li>\n",
    "                <li>\n",
    "                    <b>mean<u style='white-space: pre'>  </u>:</b> array of floats with shape [n<u> </u>features]\n",
    "                    <br>\n",
    "                    &nbsp;\n",
    "                    The mean value for each feature in the training set.\n",
    "                </li>\n",
    "                <li>\n",
    "                    <b>var<u style='white-space: pre'>  </u>:</b> array of floats with shape [n<u> </u>features]\n",
    "                    <br>\n",
    "                    &nbsp;\n",
    "                    The variance for each feature in the training set\n",
    "                </li>\n",
    "                <li>\n",
    "                    <b>n_samples_seen:</b> int\n",
    "                    <br>\n",
    "                    &nbsp;\n",
    "                    The number of samples processed by the estimator.\n",
    "                </li>\n",
    "            </ul>\n",
    "        </td>\n",
    "    </tr>\n",
    "</table>"
   ]
  },
  {
   "cell_type": "code",
   "execution_count": 1,
   "metadata": {
    "collapsed": true
   },
   "outputs": [],
   "source": [
    "import numpy as np\n",
    "from sklearn import datasets\n",
    "from sklearn.model_selection import train_test_split\n",
    "from sklearn.neighbors import KNeighborsClassifier\n",
    "from sklearn.preprocessing import StandardScaler\n",
    "import matplotlib.pyplot as plt"
   ]
  },
  {
   "cell_type": "code",
   "execution_count": 7,
   "metadata": {},
   "outputs": [
    {
     "name": "stdout",
     "output_type": "stream",
     "text": [
      "['setosa' 'versicolor' 'virginica']\n",
      "['sepal length (cm)', 'sepal width (cm)', 'petal length (cm)', 'petal width (cm)']\n",
      "150\n",
      "150\n"
     ]
    }
   ],
   "source": [
    "iris = datasets.load_iris()\n",
    "# print(iris)\n",
    "print(iris.target_names)\n",
    "print(iris.feature_names)\n",
    "iris_X = iris.data\n",
    "iris_y = iris.target\n",
    "print(len(iris_X))\n",
    "print(len(iris_y))\n"
   ]
  },
  {
   "cell_type": "code",
   "execution_count": 16,
   "metadata": {},
   "outputs": [
    {
     "name": "stdout",
     "output_type": "stream",
     "text": [
      "105\n",
      "105\n"
     ]
    }
   ],
   "source": [
    "X_train, X_test, y_train, y_test = train_test_split(iris_X, iris_y, test_size=0.3)\n",
    "print(len(X_train))\n",
    "# print(X_train)\n",
    "print(len(y_train))"
   ]
  },
  {
   "cell_type": "code",
   "execution_count": 28,
   "metadata": {},
   "outputs": [
    {
     "name": "stdout",
     "output_type": "stream",
     "text": [
      "[ 5.87333333  3.10952381  3.75619048  1.19428571]\n",
      "[ 5.87333333  3.10952381  3.75619048  1.19428571]\n",
      "[ 0.67643175  0.1926712   3.18265215  0.58396735]\n",
      "[ 0.82245471  0.43894328  1.78399892  0.76417756]\n",
      "[ 0.82245471  0.43894328  1.78399892  0.76417756]\n"
     ]
    }
   ],
   "source": [
    "#Standardize\n",
    "sc = StandardScaler()\n",
    "sc.fit(X_train)\n",
    "\n",
    "# X_train's mean values of each feature\n",
    "X_train_mean = X_train.mean(axis=0)\n",
    "print(X_train_mean)\n",
    "print(sc.mean_)\n",
    "\n",
    "# X_train's variance for each feature\n",
    "print(sc.var_)\n",
    "\n",
    "# X_train's standard deviation of each feature\n",
    "X_train_std = X_train.std(axis=0)\n",
    "print(X_train_std)\n",
    "print(sc.scale_)\n",
    "\n",
    "# transform X_train and X_test\n",
    "X_train_standard = sc.transform(X_train)\n",
    "X_test_standard = sc.transform(X_test)"
   ]
  },
  {
   "cell_type": "code",
   "execution_count": 36,
   "metadata": {},
   "outputs": [
    {
     "name": "stdout",
     "output_type": "stream",
     "text": [
      "KNeighborsClassifier(algorithm='auto', leaf_size=30, metric='minkowski',\n",
      "           metric_params=None, n_jobs=1, n_neighbors=5, p=2,\n",
      "           weights='uniform')\n",
      "45\n",
      "[2 0 2 1 0 0 1 1 2 0 0 1 1 1 1 2 2 0 2 0 1 2 2 1 0 2 2 0 0 0 2 0 1 2 1 1 1\n",
      " 1 2 1 2 0 1 0 0]\n",
      "[1 0 2 2 0 0 1 1 2 0 0 1 2 1 1 2 2 0 2 0 2 1 2 1 0 2 2 0 0 0 2 0 1 2 1 2 1\n",
      " 1 2 1 2 0 1 0 0]\n",
      "[ True False False  True False False False False False False False False\n",
      "  True False False False False False False False  True  True False False\n",
      " False False False False False False False False False False False  True\n",
      " False False False False False False False False False]\n",
      "Misclassified samples: 6\n"
     ]
    }
   ],
   "source": [
    "knn = KNeighborsClassifier()\n",
    "# Fit the module using X as training data and y as target values\n",
    "knn.fit(X_train_standard, y_train)\n",
    "print(knn.fit(X_train_standard, y_train))\n",
    "\n",
    "# Predict the class labels for the provided data\n",
    "y_predict = knn.predict(X_test_standard)\n",
    "print(len(y_predict))\n",
    "print(y_predict)\n",
    "\n",
    "#compare y_predict and y_test\n",
    "print(y_test)\n",
    "print(y_test!=y_predict)\n",
    "print('Misclassified samples: %d'%(y_test!=y_predict).sum())"
   ]
  },
  {
   "cell_type": "code",
   "execution_count": 38,
   "metadata": {},
   "outputs": [
    {
     "data": {
      "image/png": "[encoded data removed]",
      "text/plain": [
       "<matplotlib.figure.Figure at 0xbcbbf30>"
      ]
     },
     "metadata": {},
     "output_type": "display_data"
    }
   ],
   "source": [
    "# Visualization\n",
    "plt.scatter(y_predict, y_test, alpha=0.2)\n",
    "plt.show()"
   ]
  },
  {
   "cell_type": "code",
   "execution_count": 67,
   "metadata": {},
   "outputs": [
    {
     "name": "stdout",
     "output_type": "stream",
     "text": [
      "<class 'tuple'>\n",
      "1\n",
      "<class 'numpy.ndarray'>\n",
      "1 2\n"
     ]
    },
    {
     "ename": "AttributeError",
     "evalue": "'numpy.ndarray' object has no attribute 'append'",
     "output_type": "error",
     "traceback": [
      "\u001b[1;31m---------------------------------------------------------------------------\u001b[0m",
      "\u001b[1;31mAttributeError\u001b[0m                            Traceback (most recent call last)",
      "\u001b[1;32m<ipython-input-67-2f7ff1b3203a>\u001b[0m in \u001b[0;36m<module>\u001b[1;34m()\u001b[0m\n\u001b[0;32m      7\u001b[0m \u001b[1;32mfor\u001b[0m \u001b[0mi\u001b[0m \u001b[1;32min\u001b[0m \u001b[0mindex_diff\u001b[0m\u001b[1;33m[\u001b[0m\u001b[1;36m0\u001b[0m\u001b[1;33m]\u001b[0m\u001b[1;33m:\u001b[0m\u001b[1;33m\u001b[0m\u001b[0m\n\u001b[0;32m      8\u001b[0m     \u001b[0mprint\u001b[0m\u001b[1;33m(\u001b[0m\u001b[0my_test\u001b[0m\u001b[1;33m[\u001b[0m\u001b[0mi\u001b[0m\u001b[1;33m]\u001b[0m\u001b[1;33m,\u001b[0m \u001b[0my_predict\u001b[0m\u001b[1;33m[\u001b[0m\u001b[0mi\u001b[0m\u001b[1;33m]\u001b[0m\u001b[1;33m)\u001b[0m\u001b[1;33m\u001b[0m\u001b[0m\n\u001b[1;32m----> 9\u001b[1;33m     \u001b[0marray_diff\u001b[0m\u001b[1;33m.\u001b[0m\u001b[0mappend\u001b[0m\u001b[1;33m(\u001b[0m\u001b[1;33m[\u001b[0m\u001b[1;33m[\u001b[0m\u001b[0my_test\u001b[0m\u001b[1;33m[\u001b[0m\u001b[0mi\u001b[0m\u001b[1;33m]\u001b[0m\u001b[1;33m,\u001b[0m \u001b[0my_predict\u001b[0m\u001b[1;33m[\u001b[0m\u001b[0mi\u001b[0m\u001b[1;33m]\u001b[0m\u001b[1;33m]\u001b[0m\u001b[1;33m]\u001b[0m\u001b[1;33m)\u001b[0m\u001b[1;33m\u001b[0m\u001b[0m\n\u001b[0m\u001b[0;32m     10\u001b[0m     \u001b[0mprint\u001b[0m\u001b[1;33m(\u001b[0m\u001b[0marray_diff\u001b[0m\u001b[1;33m)\u001b[0m\u001b[1;33m\u001b[0m\u001b[0m\n\u001b[0;32m     11\u001b[0m \u001b[1;33m\u001b[0m\u001b[0m\n",
      "\u001b[1;31mAttributeError\u001b[0m: 'numpy.ndarray' object has no attribute 'append'"
     ]
    }
   ],
   "source": [
    "index_diff = np.where(y_test!=y_predict)\n",
    "array_diff = np.array([])\n",
    "print(type(index_diff))\n",
    "print(len(index_diff))\n",
    "print(type(index_diff[0]))\n",
    "\n",
    "for i in index_diff[0]:\n",
    "    print(y_test[i], y_predict[i])\n",
    "    np.append(array_diff, [[y_test[i], y_predict[i]]])\n",
    "    print(array_diff)\n",
    "    \n",
    "# for i in np"
   ]
  }
 ],
 "metadata": {
  "kernelspec": {
   "display_name": "Python 3",
   "language": "python",
   "name": "python3"
  },
  "language_info": {
   "codemirror_mode": {
    "name": "ipython",
    "version": 3
   },
   "file_extension": ".py",
   "mimetype": "text/x-python",
   "name": "python",
   "nbconvert_exporter": "python",
   "pygments_lexer": "ipython3",
   "version": "3.6.1"
  }
 },
 "nbformat": 4,
 "nbformat_minor": 2
}
