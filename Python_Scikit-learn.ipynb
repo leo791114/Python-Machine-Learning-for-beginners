{
 "cells": [
  {
   "cell_type": "markdown",
   "metadata": {
    "collapsed": true
   },
   "source": [
    "<h3 style=\"color: blue\">KNN Classifier - IRIS</h3>\n",
    "<h4 style=\"color: red\">Processes:</h4>\n",
    "<ol>\n",
    "    <li>\n",
    "        <b>Import module:</b> \n",
    "        <ul><li>datasets, train_test_split, KNeighborsClassifier</li></ul>\n",
    "    </li>\n",
    "    <li>\n",
    "        <b>Create Data:</b>\n",
    "        <ul>\n",
    "            <li>classes, labels</li>\n",
    "            <li>Data set --> training set/data, testing set/data</li>\n",
    "        </ul>\n",
    "    </li>\n",
    "    <li>\n",
    "        <b>Create Model:</b>\n",
    "        <ul>\n",
    "            <li>fit, predict</li>\n",
    "        </ul>\n",
    "    </li>\n",
    "    <li>\n",
    "        <b>Visualization</b>\n",
    "    </li>\n",
    "</ol>"
   ]
  },
  {
   "cell_type": "code",
   "execution_count": null,
   "metadata": {
    "collapsed": true
   },
   "outputs": [],
   "source": [
    "import numpy as np\n",
    "from sklearn import datasets\n",
    "from sklearn.cross_validation import train_test_split"
   ]
  }
 ],
 "metadata": {
  "kernelspec": {
   "display_name": "Python 3",
   "language": "python",
   "name": "python3"
  },
  "language_info": {
   "codemirror_mode": {
    "name": "ipython",
    "version": 3
   },
   "file_extension": ".py",
   "mimetype": "text/x-python",
   "name": "python",
   "nbconvert_exporter": "python",
   "pygments_lexer": "ipython3",
   "version": "3.6.1"
  }
 },
 "nbformat": 4,
 "nbformat_minor": 2
}
