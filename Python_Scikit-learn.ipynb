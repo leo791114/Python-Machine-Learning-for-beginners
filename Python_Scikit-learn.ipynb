{
 "cells": [
  {
   "cell_type": "markdown",
   "metadata": {
    "collapsed": true
   },
   "source": [
    "<h3 style=\"color: blue\">KNN Classifier - IRIS</h3>\n",
    "<h4 style=\"color: red\">Processes:</h4>\n",
    "<ol>\n",
    "    <li>\n",
    "        <b>Import module:</b> \n",
    "        <ul><li>datasets, train_test_split, KNeighborsClassifier</li></ul>\n",
    "    </li>\n",
    "    <li>\n",
    "        <b>Create Data:</b>\n",
    "        <ul>\n",
    "            <li>classes, labels</li>\n",
    "            <li>Data set --> training set/data, testing set/data</li>\n",
    "        </ul>\n",
    "    </li>\n",
    "    <li>\n",
    "        <b>Create Model:</b>\n",
    "        <ul>\n",
    "            <li>fit, predict</li>\n",
    "        </ul>\n",
    "    </li>\n",
    "    <li>\n",
    "        <b>Visualization</b>\n",
    "    </li>\n",
    "</ol>"
   ]
  },
  {
   "cell_type": "markdown",
   "metadata": {},
   "source": [
    "<h4 style=\"color: green\">sklear.cross_validation:</b></h4>\n",
    "<h5>train_test_split(*array, **options):</h5>\n",
    "<p>To avoid <b>overfitting</b>, it is common practice when performing a (supervised) machine learning experiment to hold out\n",
    "part of the available data as a <b>test set</b> <em>X_test, y_test</em>.\n",
    "<table align='left'>\n",
    "    <tr style='border: 2px solid black'>\n",
    "        <th style='text-align: left; border-right: 2px solid black'>Parameters:</th>\n",
    "        <td>\n",
    "            <ul style='list-style:none; text-align: left; line-height: 2rem'>\n",
    "                <li><b>*arrays:</b> Allowed inputs are lists, numpy arrays, scipy-sparse matrices or pandas dataframes</li>\n",
    "                <li><b>test_size:</b> float, int, None, optional</li>\n",
    "                <li><b>train_size:</b> float, int, None, default None</li>\n",
    "                <li><b>random_state:</b> int, RandomState instance or None, optional(default=None)</li>\n",
    "                <li>\n",
    "                    <b>shuffle:</b> boolean, optional(default=True)\n",
    "                    <p style='margin-top: 0; text-indent: 40px'>Whether or not to shuffle the data before splitting. If shuffle=False then stratify must be None.</p>\n",
    "                </li>\n",
    "                <li><b>stratify:</b> array-like or None (default is None)</li>\n",
    "            </ul>\n",
    "        </td>\n",
    "    </tr>\n",
    "    <tr style='border: 2px solid black'>\n",
    "        <th style='text-align: left; border-right: 2px solid black'>Returns:</th>\n",
    "        <td>\n",
    "            <ul style=\"list-style: none; text-align: left; line-height: 2rem\">\n",
    "                <li>\n",
    "                    <b>splitting:</b> list, length=2 * len(arrays)\n",
    "                    <p style='margin-top: 0; text-indent: 40px'>List containing train-test split of inputs</p>\n",
    "                </li>\n",
    "            </ul>\n",
    "        </td>\n",
    "    </tr>\n",
    "</table>"
   ]
  },
  {
   "cell_type": "markdown",
   "metadata": {},
   "source": [
    "<h4 style='color: green'>sklearn.neighbors:</h4>\n",
    "<h5>It provides functionality for unsupervised and supervised neighbors-based learning methods.</h5>\n",
    "<p>\n",
    "    <b>Unsupervised nearest neighbors:</b> It's the foundation of many other learning methods, notably        manifold learning and spectral clustering.\n",
    "</p>\n",
    "<p>\n",
    "    <b>Supervised neighbors-based learning:</b> It comes in two flavors: <em style='color: red'>classification</em> for data with discrete labels, and <em style='color: red'>regression</em> for data with continuous labels.\n",
    "</p>"
   ]
  },
  {
   "cell_type": "code",
   "execution_count": null,
   "metadata": {
    "collapsed": true
   },
   "outputs": [],
   "source": [
    "import numpy as np\n",
    "from sklearn import datasets\n",
    "from sklearn.cross_validation import train_test_split\n",
    "from sklearn.neighbors import KNeighborsClassifier\n"
   ]
  }
 ],
 "metadata": {
  "kernelspec": {
   "display_name": "Python 3",
   "language": "python",
   "name": "python3"
  },
  "language_info": {
   "codemirror_mode": {
    "name": "ipython",
    "version": 3
   },
   "file_extension": ".py",
   "mimetype": "text/x-python",
   "name": "python",
   "nbconvert_exporter": "python",
   "pygments_lexer": "ipython3",
   "version": "3.6.1"
  }
 },
 "nbformat": 4,
 "nbformat_minor": 2
}
