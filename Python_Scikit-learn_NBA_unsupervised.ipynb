{
 "cells": [
  {
   "cell_type": "markdown",
   "metadata": {},
   "source": [
    "<h3 style='color: blue'>K-means clustering: NBA player</h3>\n",
    "<p> &emsp; K-means clustering is a type of unsupervised learning, which is used when we have unlabeled\n",
    "data. The goal of this algorithm is to find groups in the data, with the number of groups represented by the variabled K. The algorithm works iteratively to assign each data point to one of K groups based on the features that are provided. Data points are clustered based on feature similarity.</p>\n",
    "\n",
    "<h4 style='color: red'>Processes:</h4>\n",
    "<ol>\n",
    "    <li>Randomly pick k centroids(sensible initial partition) from the samples</li>\n",
    "    <li>Assign remaining individuals (samples) to the centroid (cluster) which they were <em>closest</em> to (by Euclidean distance)</li>\n",
    "    <li>Recalculate the centroid to the <em>mean value</em> of the values of all samples in the cluster.</li>\n",
    "    <li>Repeat process 2 and 3 until there are no more relocations, or reaches the tolerance or maximum of iterations that is pre-chosen by the user.</li>\n",
    "</ol>\n",
    "\n",
    "<h4 style='color: red'>Results:</h4>\n",
    "<ol>\n",
    "    <li>The centroids of the K clusters, which can be used to label data</li>\n",
    "    <li>Labels for the training data (each data point is assigned to a single cluster)</li>\n",
    "</ol>\n",
    "\n",
    "<h5>Reference:</h5>\n",
    "<ol>\n",
    "    <li><a href='http://mnemstudio.org/clustering-k-means-example-1.htm'>k-Means: Step-By-Step</li>\n",
    "    <li><a href='https://www.datascience.com/blog/introduction-to-k-means-clustering-algorithm-learn-data-science-tutorials'>Introduction to K-means Clusting</a></li>\n",
    "</ol>"
   ]
  }
 ],
 "metadata": {
  "kernelspec": {
   "display_name": "Python 3",
   "language": "python",
   "name": "python3"
  },
  "language_info": {
   "codemirror_mode": {
    "name": "ipython",
    "version": 3
   },
   "file_extension": ".py",
   "mimetype": "text/x-python",
   "name": "python",
   "nbconvert_exporter": "python",
   "pygments_lexer": "ipython3",
   "version": "3.6.1"
  }
 },
 "nbformat": 4,
 "nbformat_minor": 2
}
